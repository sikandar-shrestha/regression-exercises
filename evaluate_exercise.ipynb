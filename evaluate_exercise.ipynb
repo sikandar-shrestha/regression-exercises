{
 "cells": [
  {
   "cell_type": "code",
   "execution_count": 1,
   "id": "85cb4353",
   "metadata": {},
   "outputs": [],
   "source": [
    "import pandas as pd\n",
    "import numpy as np\n",
    "import seaborn as sns\n",
    "import matplotlib.pyplot as plt\n",
    "from sklearn.linear_model import LinearRegression\n",
    "from sklearn.preprocessing import MinMaxScaler, StandardScaler,\\\n",
    "RobustScaler, QuantileTransformer\n",
    "\n",
    "\n",
    "# custom modules\n",
    "import wrangle as w\n"
   ]
  },
  {
   "cell_type": "markdown",
   "id": "0edd3885",
   "metadata": {},
   "source": [
    "## Q1) Load your zillow dataset."
   ]
  },
  {
   "cell_type": "code",
   "execution_count": 2,
   "id": "9fad6cbd",
   "metadata": {},
   "outputs": [
    {
     "data": {
      "text/html": [
       "<div>\n",
       "<style scoped>\n",
       "    .dataframe tbody tr th:only-of-type {\n",
       "        vertical-align: middle;\n",
       "    }\n",
       "\n",
       "    .dataframe tbody tr th {\n",
       "        vertical-align: top;\n",
       "    }\n",
       "\n",
       "    .dataframe thead th {\n",
       "        text-align: right;\n",
       "    }\n",
       "</style>\n",
       "<table border=\"1\" class=\"dataframe\">\n",
       "  <thead>\n",
       "    <tr style=\"text-align: right;\">\n",
       "      <th></th>\n",
       "      <th>bedrooms</th>\n",
       "      <th>bathrooms</th>\n",
       "      <th>area</th>\n",
       "      <th>property_value</th>\n",
       "      <th>yearbuilt</th>\n",
       "      <th>taxamount</th>\n",
       "      <th>county</th>\n",
       "    </tr>\n",
       "  </thead>\n",
       "  <tbody>\n",
       "    <tr>\n",
       "      <th>4</th>\n",
       "      <td>4</td>\n",
       "      <td>2.0</td>\n",
       "      <td>3633</td>\n",
       "      <td>296425</td>\n",
       "      <td>2005</td>\n",
       "      <td>6941.39</td>\n",
       "      <td>LA</td>\n",
       "    </tr>\n",
       "    <tr>\n",
       "      <th>6</th>\n",
       "      <td>3</td>\n",
       "      <td>4.0</td>\n",
       "      <td>1620</td>\n",
       "      <td>847770</td>\n",
       "      <td>2011</td>\n",
       "      <td>10244.94</td>\n",
       "      <td>LA</td>\n",
       "    </tr>\n",
       "  </tbody>\n",
       "</table>\n",
       "</div>"
      ],
      "text/plain": [
       "   bedrooms  bathrooms  area  property_value  yearbuilt  taxamount county\n",
       "4         4        2.0  3633          296425       2005    6941.39     LA\n",
       "6         3        4.0  1620          847770       2011   10244.94     LA"
      ]
     },
     "execution_count": 2,
     "metadata": {},
     "output_type": "execute_result"
    }
   ],
   "source": [
    "df=w.wrangle_zillow()\n",
    "df.head(2)"
   ]
  },
  {
   "cell_type": "code",
   "execution_count": 3,
   "id": "295ab547",
   "metadata": {},
   "outputs": [
    {
     "name": "stdout",
     "output_type": "stream",
     "text": [
      "\n",
      "       train  ----> (1284141, 7)\n",
      "    validate  ----> (428047, 7)\n",
      "        test  ----> (428047, 7)\n",
      "\n",
      "X_train -> (1284141, 6)\n",
      "y_train -> (1284141,)\n",
      "\n",
      "X_validate -> (428047, 6)\n",
      "y_validate -> (428047,)\n",
      "\n",
      "X_test -> (428047, 6)\n",
      "y_validate -> (428047,)\n"
     ]
    }
   ],
   "source": [
    "X_train, y_train, X_validate, y_validate, X_test, y_test=w.X_y_split(df,'property_value')"
   ]
  },
  {
   "cell_type": "code",
   "execution_count": 4,
   "id": "96806cb4",
   "metadata": {},
   "outputs": [
    {
     "data": {
      "text/html": [
       "<div>\n",
       "<style scoped>\n",
       "    .dataframe tbody tr th:only-of-type {\n",
       "        vertical-align: middle;\n",
       "    }\n",
       "\n",
       "    .dataframe tbody tr th {\n",
       "        vertical-align: top;\n",
       "    }\n",
       "\n",
       "    .dataframe thead th {\n",
       "        text-align: right;\n",
       "    }\n",
       "</style>\n",
       "<table border=\"1\" class=\"dataframe\">\n",
       "  <thead>\n",
       "    <tr style=\"text-align: right;\">\n",
       "      <th></th>\n",
       "      <th>bedrooms</th>\n",
       "      <th>bathrooms</th>\n",
       "      <th>area</th>\n",
       "      <th>yearbuilt</th>\n",
       "      <th>taxamount</th>\n",
       "      <th>county</th>\n",
       "    </tr>\n",
       "  </thead>\n",
       "  <tbody>\n",
       "    <tr>\n",
       "      <th>462820</th>\n",
       "      <td>5</td>\n",
       "      <td>4.0</td>\n",
       "      <td>3011</td>\n",
       "      <td>2005</td>\n",
       "      <td>7561.14</td>\n",
       "      <td>Ventura</td>\n",
       "    </tr>\n",
       "    <tr>\n",
       "      <th>3880</th>\n",
       "      <td>3</td>\n",
       "      <td>2.0</td>\n",
       "      <td>1682</td>\n",
       "      <td>1961</td>\n",
       "      <td>7086.19</td>\n",
       "      <td>LA</td>\n",
       "    </tr>\n",
       "  </tbody>\n",
       "</table>\n",
       "</div>"
      ],
      "text/plain": [
       "        bedrooms  bathrooms  area  yearbuilt  taxamount   county\n",
       "462820         5        4.0  3011       2005    7561.14  Ventura\n",
       "3880           3        2.0  1682       1961    7086.19       LA"
      ]
     },
     "execution_count": 4,
     "metadata": {},
     "output_type": "execute_result"
    }
   ],
   "source": [
    "X_train.head(2)"
   ]
  },
  {
   "cell_type": "code",
   "execution_count": 5,
   "id": "0abcd9b9",
   "metadata": {},
   "outputs": [
    {
     "data": {
      "text/plain": [
       "462820    710674\n",
       "3880      603333\n",
       "992263     82804\n",
       "Name: property_value, dtype: int64"
      ]
     },
     "execution_count": 5,
     "metadata": {},
     "output_type": "execute_result"
    }
   ],
   "source": [
    "y_train.head(3)"
   ]
  },
  {
   "cell_type": "code",
   "execution_count": 6,
   "id": "1af38020",
   "metadata": {},
   "outputs": [],
   "source": [
    "# For only Question No. 9 \n",
    "# y=y_train\n",
    "# y"
   ]
  },
  {
   "cell_type": "markdown",
   "id": "e217dde2",
   "metadata": {},
   "source": [
    "<div class='alert alert-block alert-success'>\n",
    "\n",
    "## Q2) Fit a linear regression model (ordinary least squares) and compute yhat, predictions of taxvaluedollarcnt using only calculatedfinishedsqft.\n",
    "\n",
    "<font color=purple>\n",
    "\n",
    "Here is some sample code to get you started:\n",
    "\n",
    "from sklearn.linear_model import LinearRegression\n",
    "\n",
    "assuming X and y are already defined\n",
    "\n",
    "model = LinearRegression().fit(X, y)\n",
    "\n",
    "predictions = model.predict(X)\n",
    "</font>\n",
    "\n",
    "## Modify and add to the code above as necessary for it to work with the zillow dataset.\n",
    "    \n",
    "</div>"
   ]
  },
  {
   "cell_type": "code",
   "execution_count": 7,
   "id": "92a6448f",
   "metadata": {},
   "outputs": [
    {
     "data": {
      "text/html": [
       "<div>\n",
       "<style scoped>\n",
       "    .dataframe tbody tr th:only-of-type {\n",
       "        vertical-align: middle;\n",
       "    }\n",
       "\n",
       "    .dataframe tbody tr th {\n",
       "        vertical-align: top;\n",
       "    }\n",
       "\n",
       "    .dataframe thead th {\n",
       "        text-align: right;\n",
       "    }\n",
       "</style>\n",
       "<table border=\"1\" class=\"dataframe\">\n",
       "  <thead>\n",
       "    <tr style=\"text-align: right;\">\n",
       "      <th></th>\n",
       "      <th>property_value</th>\n",
       "    </tr>\n",
       "  </thead>\n",
       "  <tbody>\n",
       "    <tr>\n",
       "      <th>462820</th>\n",
       "      <td>710674</td>\n",
       "    </tr>\n",
       "    <tr>\n",
       "      <th>3880</th>\n",
       "      <td>603333</td>\n",
       "    </tr>\n",
       "  </tbody>\n",
       "</table>\n",
       "</div>"
      ],
      "text/plain": [
       "        property_value\n",
       "462820          710674\n",
       "3880            603333"
      ]
     },
     "execution_count": 7,
     "metadata": {},
     "output_type": "execute_result"
    }
   ],
   "source": [
    "# convert y_train series into dataframe\n",
    "y_train=pd.DataFrame(y_train)\n",
    "y_train.head(2)"
   ]
  },
  {
   "cell_type": "code",
   "execution_count": 8,
   "id": "78ed2920",
   "metadata": {},
   "outputs": [
    {
     "data": {
      "text/html": [
       "<div>\n",
       "<style scoped>\n",
       "    .dataframe tbody tr th:only-of-type {\n",
       "        vertical-align: middle;\n",
       "    }\n",
       "\n",
       "    .dataframe tbody tr th {\n",
       "        vertical-align: top;\n",
       "    }\n",
       "\n",
       "    .dataframe thead th {\n",
       "        text-align: right;\n",
       "    }\n",
       "</style>\n",
       "<table border=\"1\" class=\"dataframe\">\n",
       "  <thead>\n",
       "    <tr style=\"text-align: right;\">\n",
       "      <th></th>\n",
       "      <th>bedrooms</th>\n",
       "      <th>bathrooms</th>\n",
       "      <th>area</th>\n",
       "      <th>yearbuilt</th>\n",
       "      <th>taxamount</th>\n",
       "      <th>county</th>\n",
       "    </tr>\n",
       "  </thead>\n",
       "  <tbody>\n",
       "    <tr>\n",
       "      <th>462820</th>\n",
       "      <td>5</td>\n",
       "      <td>4.0</td>\n",
       "      <td>3011</td>\n",
       "      <td>2005</td>\n",
       "      <td>7561.14</td>\n",
       "      <td>Ventura</td>\n",
       "    </tr>\n",
       "    <tr>\n",
       "      <th>3880</th>\n",
       "      <td>3</td>\n",
       "      <td>2.0</td>\n",
       "      <td>1682</td>\n",
       "      <td>1961</td>\n",
       "      <td>7086.19</td>\n",
       "      <td>LA</td>\n",
       "    </tr>\n",
       "  </tbody>\n",
       "</table>\n",
       "</div>"
      ],
      "text/plain": [
       "        bedrooms  bathrooms  area  yearbuilt  taxamount   county\n",
       "462820         5        4.0  3011       2005    7561.14  Ventura\n",
       "3880           3        2.0  1682       1961    7086.19       LA"
      ]
     },
     "execution_count": 8,
     "metadata": {},
     "output_type": "execute_result"
    }
   ],
   "source": [
    "X_train.head(2)"
   ]
  },
  {
   "cell_type": "code",
   "execution_count": 9,
   "id": "0de6dbe3",
   "metadata": {},
   "outputs": [],
   "source": [
    "columns_to_scale=['area']\n",
    "#create an object for scaling\n",
    "scaler=MinMaxScaler()\n",
    "#fit the object and transform into scaled column\n",
    "X_train_scaled=scaler.fit_transform(X_train[columns_to_scale])\n"
   ]
  },
  {
   "cell_type": "code",
   "execution_count": 10,
   "id": "08eb186f",
   "metadata": {},
   "outputs": [
    {
     "data": {
      "text/plain": [
       "array([[0.0056673 ],\n",
       "       [0.00316503]])"
      ]
     },
     "execution_count": 10,
     "metadata": {},
     "output_type": "execute_result"
    }
   ],
   "source": [
    "X_train_scaled[:2]"
   ]
  },
  {
   "cell_type": "code",
   "execution_count": 11,
   "id": "c03698b3",
   "metadata": {},
   "outputs": [
    {
     "data": {
      "text/html": [
       "<div>\n",
       "<style scoped>\n",
       "    .dataframe tbody tr th:only-of-type {\n",
       "        vertical-align: middle;\n",
       "    }\n",
       "\n",
       "    .dataframe tbody tr th {\n",
       "        vertical-align: top;\n",
       "    }\n",
       "\n",
       "    .dataframe thead th {\n",
       "        text-align: right;\n",
       "    }\n",
       "</style>\n",
       "<table border=\"1\" class=\"dataframe\">\n",
       "  <thead>\n",
       "    <tr style=\"text-align: right;\">\n",
       "      <th></th>\n",
       "      <th>area</th>\n",
       "    </tr>\n",
       "  </thead>\n",
       "  <tbody>\n",
       "    <tr>\n",
       "      <th>462820</th>\n",
       "      <td>0.005667</td>\n",
       "    </tr>\n",
       "    <tr>\n",
       "      <th>3880</th>\n",
       "      <td>0.003165</td>\n",
       "    </tr>\n",
       "  </tbody>\n",
       "</table>\n",
       "</div>"
      ],
      "text/plain": [
       "            area\n",
       "462820  0.005667\n",
       "3880    0.003165"
      ]
     },
     "execution_count": 11,
     "metadata": {},
     "output_type": "execute_result"
    }
   ],
   "source": [
    "X_train_scaled=pd.DataFrame(X_train_scaled,index=X_train.index,columns=['area'])\n",
    "X_train_scaled.head(2)"
   ]
  },
  {
   "cell_type": "code",
   "execution_count": 12,
   "id": "1843d967",
   "metadata": {},
   "outputs": [
    {
     "data": {
      "text/plain": [
       "(1284141, 1)"
      ]
     },
     "execution_count": 12,
     "metadata": {},
     "output_type": "execute_result"
    }
   ],
   "source": [
    "X_train_scaled.shape"
   ]
  },
  {
   "cell_type": "markdown",
   "id": "59df6672",
   "metadata": {},
   "source": [
    "<div class='alert alert-block alert-info'>\n",
    "\n",
    "## build a model by linear regression algorithm & 'scaled area'\n",
    "    \n",
    "</div>"
   ]
  },
  {
   "cell_type": "code",
   "execution_count": 13,
   "id": "d73d7b02",
   "metadata": {},
   "outputs": [
    {
     "data": {
      "text/html": [
       "<div>\n",
       "<style scoped>\n",
       "    .dataframe tbody tr th:only-of-type {\n",
       "        vertical-align: middle;\n",
       "    }\n",
       "\n",
       "    .dataframe tbody tr th {\n",
       "        vertical-align: top;\n",
       "    }\n",
       "\n",
       "    .dataframe thead th {\n",
       "        text-align: right;\n",
       "    }\n",
       "</style>\n",
       "<table border=\"1\" class=\"dataframe\">\n",
       "  <thead>\n",
       "    <tr style=\"text-align: right;\">\n",
       "      <th></th>\n",
       "      <th>property_value</th>\n",
       "      <th>y_baseline</th>\n",
       "    </tr>\n",
       "  </thead>\n",
       "  <tbody>\n",
       "    <tr>\n",
       "      <th>462820</th>\n",
       "      <td>710674</td>\n",
       "      <td>460846.250536</td>\n",
       "    </tr>\n",
       "    <tr>\n",
       "      <th>3880</th>\n",
       "      <td>603333</td>\n",
       "      <td>460846.250536</td>\n",
       "    </tr>\n",
       "    <tr>\n",
       "      <th>992263</th>\n",
       "      <td>82804</td>\n",
       "      <td>460846.250536</td>\n",
       "    </tr>\n",
       "  </tbody>\n",
       "</table>\n",
       "</div>"
      ],
      "text/plain": [
       "        property_value     y_baseline\n",
       "462820          710674  460846.250536\n",
       "3880            603333  460846.250536\n",
       "992263           82804  460846.250536"
      ]
     },
     "execution_count": 13,
     "metadata": {},
     "output_type": "execute_result"
    }
   ],
   "source": [
    "y_train['y_baseline'] = y_train['property_value'].mean()\n",
    "y_train.head(3)\n"
   ]
  },
  {
   "cell_type": "code",
   "execution_count": 14,
   "id": "1893a380",
   "metadata": {},
   "outputs": [
    {
     "data": {
      "text/plain": [
       "array([ 860173.7299305 ,  397791.25718944,  311159.778098  , ...,\n",
       "        474681.04385293, 1090147.25474753,   97886.29744318])"
      ]
     },
     "execution_count": 14,
     "metadata": {},
     "output_type": "execute_result"
    }
   ],
   "source": [
    "# create & fit an object\n",
    "model = LinearRegression().fit(X_train_scaled, y_train['property_value'])\n",
    "# \n",
    "predictions = model.predict(X_train_scaled)\n",
    "predictions"
   ]
  },
  {
   "cell_type": "code",
   "execution_count": null,
   "id": "fe5ce5ba",
   "metadata": {},
   "outputs": [],
   "source": []
  },
  {
   "cell_type": "code",
   "execution_count": 15,
   "id": "ab8ba23d",
   "metadata": {},
   "outputs": [
    {
     "data": {
      "text/html": [
       "<div>\n",
       "<style scoped>\n",
       "    .dataframe tbody tr th:only-of-type {\n",
       "        vertical-align: middle;\n",
       "    }\n",
       "\n",
       "    .dataframe tbody tr th {\n",
       "        vertical-align: top;\n",
       "    }\n",
       "\n",
       "    .dataframe thead th {\n",
       "        text-align: right;\n",
       "    }\n",
       "</style>\n",
       "<table border=\"1\" class=\"dataframe\">\n",
       "  <thead>\n",
       "    <tr style=\"text-align: right;\">\n",
       "      <th></th>\n",
       "      <th>property_value</th>\n",
       "      <th>y_baseline</th>\n",
       "      <th>y_hat</th>\n",
       "    </tr>\n",
       "  </thead>\n",
       "  <tbody>\n",
       "    <tr>\n",
       "      <th>462820</th>\n",
       "      <td>710674</td>\n",
       "      <td>460846.250536</td>\n",
       "      <td>860173.729930</td>\n",
       "    </tr>\n",
       "    <tr>\n",
       "      <th>3880</th>\n",
       "      <td>603333</td>\n",
       "      <td>460846.250536</td>\n",
       "      <td>397791.257189</td>\n",
       "    </tr>\n",
       "  </tbody>\n",
       "</table>\n",
       "</div>"
      ],
      "text/plain": [
       "        property_value     y_baseline          y_hat\n",
       "462820          710674  460846.250536  860173.729930\n",
       "3880            603333  460846.250536  397791.257189"
      ]
     },
     "execution_count": 15,
     "metadata": {},
     "output_type": "execute_result"
    }
   ],
   "source": [
    "y_train['y_hat']=predictions\n",
    "y_train.head(2)"
   ]
  },
  {
   "cell_type": "markdown",
   "id": "be3d719c",
   "metadata": {},
   "source": [
    "<div class='alert alert-block alert-info'>\n",
    "\n",
    "## Plotting Actual vs. Predicted Values\n",
    "    \n",
    "</div>"
   ]
  },
  {
   "cell_type": "code",
   "execution_count": 16,
   "id": "6a6f4cd9",
   "metadata": {},
   "outputs": [
    {
     "data": {
      "text/plain": [
       "<matplotlib.collections.PathCollection at 0x16ab61d50>"
      ]
     },
     "execution_count": 16,
     "metadata": {},
     "output_type": "execute_result"
    },
    {
     "data": {
      "image/png": "[encoded data removed]",
      "text/plain": [
       "<Figure size 1000x600 with 1 Axes>"
      ]
     },
     "metadata": {},
     "output_type": "display_data"
    }
   ],
   "source": [
    "# visualization from y_validate\n",
    "\n",
    "plt.figure(figsize=(10,6))\n",
    "\n",
    "# actual line\n",
    "plt.plot(y_train.property_value, y_train.property_value, alpha=.5, color=\"green\", label='_nolegend_')\n",
    "plt.annotate(\"Actual property value Line\",(4*10**7,4.1*10**7),rotation=32)\n",
    "\n",
    "#line predict by mean baseline model\n",
    "plt.plot(y_train.property_value, y_train.y_baseline, alpha=.5, color=\"orange\", label='_nolegend_')\n",
    "plt.annotate(\"Predict Using Mean baseline\",(2*10**7,0))\n",
    "\n",
    "# scatter plot by linearRegression\n",
    "plt.scatter(y_train.property_value, y_train.y_hat, \n",
    "            alpha=.5, color=\"lawngreen\", s=100, label=\"Model:-- LinearRegression\")\n",
    "# plt.plot(y_train.property_value, y_train.y_hat, alpha=.5, color=\"red\", label='_nolegend_')\n",
    "# plt.annotate(\"Predict Using linear regression\",(6*10**7,0.2))\n"
   ]
  },
  {
   "cell_type": "markdown",
   "id": "c2bf6d4d",
   "metadata": {},
   "source": [
    "<div class='alert alert-block alert-success'>\n",
    "\n",
    "## Q3) Plot the residuals for the linear regression model that you made.\n",
    "    \n",
    "</div>"
   ]
  },
  {
   "cell_type": "code",
   "execution_count": 17,
   "id": "67a45bc6",
   "metadata": {},
   "outputs": [
    {
     "data": {
      "text/html": [
       "<div>\n",
       "<style scoped>\n",
       "    .dataframe tbody tr th:only-of-type {\n",
       "        vertical-align: middle;\n",
       "    }\n",
       "\n",
       "    .dataframe tbody tr th {\n",
       "        vertical-align: top;\n",
       "    }\n",
       "\n",
       "    .dataframe thead th {\n",
       "        text-align: right;\n",
       "    }\n",
       "</style>\n",
       "<table border=\"1\" class=\"dataframe\">\n",
       "  <thead>\n",
       "    <tr style=\"text-align: right;\">\n",
       "      <th></th>\n",
       "      <th>property_value</th>\n",
       "      <th>y_baseline</th>\n",
       "      <th>y_hat</th>\n",
       "    </tr>\n",
       "  </thead>\n",
       "  <tbody>\n",
       "    <tr>\n",
       "      <th>462820</th>\n",
       "      <td>710674</td>\n",
       "      <td>460846.250536</td>\n",
       "      <td>860173.729930</td>\n",
       "    </tr>\n",
       "    <tr>\n",
       "      <th>3880</th>\n",
       "      <td>603333</td>\n",
       "      <td>460846.250536</td>\n",
       "      <td>397791.257189</td>\n",
       "    </tr>\n",
       "  </tbody>\n",
       "</table>\n",
       "</div>"
      ],
      "text/plain": [
       "        property_value     y_baseline          y_hat\n",
       "462820          710674  460846.250536  860173.729930\n",
       "3880            603333  460846.250536  397791.257189"
      ]
     },
     "execution_count": 17,
     "metadata": {},
     "output_type": "execute_result"
    }
   ],
   "source": [
    "y_train.head(2)"
   ]
  },
  {
   "cell_type": "code",
   "execution_count": 18,
   "id": "c9ba6c59",
   "metadata": {},
   "outputs": [
    {
     "data": {
      "text/html": [
       "<div>\n",
       "<style scoped>\n",
       "    .dataframe tbody tr th:only-of-type {\n",
       "        vertical-align: middle;\n",
       "    }\n",
       "\n",
       "    .dataframe tbody tr th {\n",
       "        vertical-align: top;\n",
       "    }\n",
       "\n",
       "    .dataframe thead th {\n",
       "        text-align: right;\n",
       "    }\n",
       "</style>\n",
       "<table border=\"1\" class=\"dataframe\">\n",
       "  <thead>\n",
       "    <tr style=\"text-align: right;\">\n",
       "      <th></th>\n",
       "      <th>property_value</th>\n",
       "      <th>y_baseline</th>\n",
       "      <th>y_hat</th>\n",
       "      <th>residual_baseline</th>\n",
       "      <th>residual</th>\n",
       "    </tr>\n",
       "  </thead>\n",
       "  <tbody>\n",
       "    <tr>\n",
       "      <th>462820</th>\n",
       "      <td>710674</td>\n",
       "      <td>460846.250536</td>\n",
       "      <td>860173.729930</td>\n",
       "      <td>-249827.749464</td>\n",
       "      <td>149499.729930</td>\n",
       "    </tr>\n",
       "    <tr>\n",
       "      <th>3880</th>\n",
       "      <td>603333</td>\n",
       "      <td>460846.250536</td>\n",
       "      <td>397791.257189</td>\n",
       "      <td>-142486.749464</td>\n",
       "      <td>-205541.742811</td>\n",
       "    </tr>\n",
       "    <tr>\n",
       "      <th>992263</th>\n",
       "      <td>82804</td>\n",
       "      <td>460846.250536</td>\n",
       "      <td>311159.778098</td>\n",
       "      <td>378042.250536</td>\n",
       "      <td>228355.778098</td>\n",
       "    </tr>\n",
       "  </tbody>\n",
       "</table>\n",
       "</div>"
      ],
      "text/plain": [
       "        property_value     y_baseline          y_hat  residual_baseline  \\\n",
       "462820          710674  460846.250536  860173.729930     -249827.749464   \n",
       "3880            603333  460846.250536  397791.257189     -142486.749464   \n",
       "992263           82804  460846.250536  311159.778098      378042.250536   \n",
       "\n",
       "             residual  \n",
       "462820  149499.729930  \n",
       "3880   -205541.742811  \n",
       "992263  228355.778098  "
      ]
     },
     "execution_count": 18,
     "metadata": {},
     "output_type": "execute_result"
    }
   ],
   "source": [
    "y_train['residual_baseline'] = y_train['y_baseline'] - df['property_value']\n",
    "y_train['residual'] = y_train['y_hat'] - y_train['property_value']\n",
    "\n",
    "y_train.head(3)"
   ]
  },
  {
   "cell_type": "code",
   "execution_count": 19,
   "id": "05eb6814",
   "metadata": {},
   "outputs": [],
   "source": [
    "# only for alternate way\n",
    "'''\n",
    "# split the data\n",
    "\n",
    "train, validate_and_test = train_test_split(df, train_size=.60, random_state=123)\n",
    "validate, test = train_test_split(validate_and_test, test_size=.50, random_state=123)\n",
    "\n",
    "train.shape, validate.shape, test.shape\n",
    "\n",
    "Xtrain = train.drop(columns=['taxvalue','county'])\n",
    "Xvalidate = train.drop(columns=['taxvalue','county'])\n",
    "Xtest = test.drop(columns=['taxvalue','county'])\n",
    "ytrain = train.taxvalue\n",
    "yvalidate = validate.taxvalue\n",
    "ytest = test.taxvalue\n",
    "\n",
    "y = ytrain\n",
    "\n",
    "X -> set of all ind features (just one here)\n",
    "y -> dependent variable, target.\n",
    "X = train[['sqft']]\n",
    "y = train['taxvalue']\n",
    "\n",
    "# make an object\n",
    "lm = LinearRegression()\n",
    "# fit an object\n",
    "lm.fit(X, ytrain)\n",
    "# use an object\n",
    "yhat = lm.predict(X)\n",
    "\n",
    "baseline_mean = ytrain.mean()\n",
    "baseline_mean\n",
    "\n",
    "mean_baseline = y.mean()\n",
    "med_baseline = y.median()\n",
    "\n",
    "another way (SAY  y_train=predictions_df)\n",
    "predictions_df = pd.DataFrame(\n",
    "                                {\n",
    "                                   'y_act': y.values,\n",
    "                                   'yhat': yhat,\n",
    "                                   'mean_baseline' : mean_baseline,\n",
    "                                   'med_baseline': med_baseline\n",
    "                               }, index=train.index)\n",
    "\n",
    "\n",
    "''';\n"
   ]
  },
  {
   "cell_type": "code",
   "execution_count": 20,
   "id": "1e18def8",
   "metadata": {},
   "outputs": [
    {
     "data": {
      "image/png": "[encoded data removed]",
      "text/plain": [
       "<Figure size 800x500 with 1 Axes>"
      ]
     },
     "metadata": {},
     "output_type": "display_data"
    }
   ],
   "source": [
    "plt.figure(figsize=(8,5))\n",
    "\n",
    "# for no error or residual\n",
    "plt.axhline(label=\"No Error\")\n",
    "\n",
    "# for residual_baseline\n",
    "plt.scatter(y_train.property_value,y_train.residual_baseline,\n",
    "           color='green',label=\"Model 1: mean baseline\")\n",
    "\n",
    "# for linearRegression\n",
    "plt.scatter(y_train.property_value,y_train.residual,\n",
    "           color='orange',label=\"Model 1: linearRegression\")\n",
    "\n",
    "\n",
    "plt.legend()\n",
    "plt.xlabel(\"Actual property value\")\n",
    "plt.ylabel(\"Residual/Error: Predicted property value - Actual property value\")\n",
    "plt.show();\n"
   ]
  },
  {
   "cell_type": "markdown",
   "id": "44d5332b",
   "metadata": {},
   "source": [
    "<div class='alert alert-block alert-success'>\n",
    "\n",
    "## Q4) Calculate the sum of squared errors, explained sum of squares, total sum of squares, mean squared error, and root mean squared error for your model.\n",
    "    \n",
    "## Q5) Calculate the sum of squared errors, mean squared error, and root mean squared error for the baseline model (i.e. a model that always predicts the average taxvaluedollarcnt amount).\n",
    "</div>\n"
   ]
  },
  {
   "cell_type": "code",
   "execution_count": 21,
   "id": "b0bb8840",
   "metadata": {},
   "outputs": [
    {
     "data": {
      "text/html": [
       "<div>\n",
       "<style scoped>\n",
       "    .dataframe tbody tr th:only-of-type {\n",
       "        vertical-align: middle;\n",
       "    }\n",
       "\n",
       "    .dataframe tbody tr th {\n",
       "        vertical-align: top;\n",
       "    }\n",
       "\n",
       "    .dataframe thead th {\n",
       "        text-align: right;\n",
       "    }\n",
       "</style>\n",
       "<table border=\"1\" class=\"dataframe\">\n",
       "  <thead>\n",
       "    <tr style=\"text-align: right;\">\n",
       "      <th></th>\n",
       "      <th>property_value</th>\n",
       "      <th>y_baseline</th>\n",
       "      <th>y_hat</th>\n",
       "      <th>residual_baseline</th>\n",
       "      <th>residual</th>\n",
       "    </tr>\n",
       "  </thead>\n",
       "  <tbody>\n",
       "    <tr>\n",
       "      <th>462820</th>\n",
       "      <td>710674</td>\n",
       "      <td>460846.250536</td>\n",
       "      <td>860173.729930</td>\n",
       "      <td>-249827.749464</td>\n",
       "      <td>149499.729930</td>\n",
       "    </tr>\n",
       "    <tr>\n",
       "      <th>3880</th>\n",
       "      <td>603333</td>\n",
       "      <td>460846.250536</td>\n",
       "      <td>397791.257189</td>\n",
       "      <td>-142486.749464</td>\n",
       "      <td>-205541.742811</td>\n",
       "    </tr>\n",
       "    <tr>\n",
       "      <th>992263</th>\n",
       "      <td>82804</td>\n",
       "      <td>460846.250536</td>\n",
       "      <td>311159.778098</td>\n",
       "      <td>378042.250536</td>\n",
       "      <td>228355.778098</td>\n",
       "    </tr>\n",
       "  </tbody>\n",
       "</table>\n",
       "</div>"
      ],
      "text/plain": [
       "        property_value     y_baseline          y_hat  residual_baseline  \\\n",
       "462820          710674  460846.250536  860173.729930     -249827.749464   \n",
       "3880            603333  460846.250536  397791.257189     -142486.749464   \n",
       "992263           82804  460846.250536  311159.778098      378042.250536   \n",
       "\n",
       "             residual  \n",
       "462820  149499.729930  \n",
       "3880   -205541.742811  \n",
       "992263  228355.778098  "
      ]
     },
     "execution_count": 21,
     "metadata": {},
     "output_type": "execute_result"
    }
   ],
   "source": [
    "y_train.head(3)"
   ]
  },
  {
   "cell_type": "code",
   "execution_count": 22,
   "id": "c782803a",
   "metadata": {},
   "outputs": [
    {
     "data": {
      "text/html": [
       "<div>\n",
       "<style scoped>\n",
       "    .dataframe tbody tr th:only-of-type {\n",
       "        vertical-align: middle;\n",
       "    }\n",
       "\n",
       "    .dataframe tbody tr th {\n",
       "        vertical-align: top;\n",
       "    }\n",
       "\n",
       "    .dataframe thead th {\n",
       "        text-align: right;\n",
       "    }\n",
       "</style>\n",
       "<table border=\"1\" class=\"dataframe\">\n",
       "  <thead>\n",
       "    <tr style=\"text-align: right;\">\n",
       "      <th></th>\n",
       "      <th>property_value</th>\n",
       "      <th>y_baseline</th>\n",
       "      <th>y_hat</th>\n",
       "      <th>residual_baseline</th>\n",
       "      <th>residual</th>\n",
       "      <th>residual_baseline^2</th>\n",
       "      <th>residual^2</th>\n",
       "    </tr>\n",
       "  </thead>\n",
       "  <tbody>\n",
       "    <tr>\n",
       "      <th>462820</th>\n",
       "      <td>710674</td>\n",
       "      <td>460846.250536</td>\n",
       "      <td>860173.729930</td>\n",
       "      <td>-249827.749464</td>\n",
       "      <td>149499.729930</td>\n",
       "      <td>6.241390e+10</td>\n",
       "      <td>2.235017e+10</td>\n",
       "    </tr>\n",
       "    <tr>\n",
       "      <th>3880</th>\n",
       "      <td>603333</td>\n",
       "      <td>460846.250536</td>\n",
       "      <td>397791.257189</td>\n",
       "      <td>-142486.749464</td>\n",
       "      <td>-205541.742811</td>\n",
       "      <td>2.030247e+10</td>\n",
       "      <td>4.224741e+10</td>\n",
       "    </tr>\n",
       "    <tr>\n",
       "      <th>992263</th>\n",
       "      <td>82804</td>\n",
       "      <td>460846.250536</td>\n",
       "      <td>311159.778098</td>\n",
       "      <td>378042.250536</td>\n",
       "      <td>228355.778098</td>\n",
       "      <td>1.429159e+11</td>\n",
       "      <td>5.214636e+10</td>\n",
       "    </tr>\n",
       "  </tbody>\n",
       "</table>\n",
       "</div>"
      ],
      "text/plain": [
       "        property_value     y_baseline          y_hat  residual_baseline  \\\n",
       "462820          710674  460846.250536  860173.729930     -249827.749464   \n",
       "3880            603333  460846.250536  397791.257189     -142486.749464   \n",
       "992263           82804  460846.250536  311159.778098      378042.250536   \n",
       "\n",
       "             residual  residual_baseline^2    residual^2  \n",
       "462820  149499.729930         6.241390e+10  2.235017e+10  \n",
       "3880   -205541.742811         2.030247e+10  4.224741e+10  \n",
       "992263  228355.778098         1.429159e+11  5.214636e+10  "
      ]
     },
     "execution_count": 22,
     "metadata": {},
     "output_type": "execute_result"
    }
   ],
   "source": [
    "# square each residual & residual_baseline value\n",
    "y_train['residual_baseline^2'] = y_train.residual_baseline ** 2\n",
    "\n",
    "y_train['residual^2'] = y_train.residual ** 2\n",
    "\n",
    "y_train.head(3)\n"
   ]
  },
  {
   "cell_type": "code",
   "execution_count": 23,
   "id": "383957d2",
   "metadata": {},
   "outputs": [
    {
     "name": "stdout",
     "output_type": "stream",
     "text": [
      "SSE_baseline =  6.079371293404695e+17\n",
      "SSE_lr =  4.274689882631504e+17\n"
     ]
    }
   ],
   "source": [
    "# sum of squared errors (SSE)\n",
    "\n",
    "SSE_baseline = sum(y_train['residual_baseline^2'])\n",
    "SSE_lr = sum(y_train['residual^2'])  # predict - actual (or acutal - predict)\n",
    "\n",
    "print(\"SSE_baseline = \", SSE_baseline)\n",
    "print(\"SSE_lr = \", SSE_lr)"
   ]
  },
  {
   "cell_type": "code",
   "execution_count": 24,
   "id": "8b2be592",
   "metadata": {},
   "outputs": [
    {
     "name": "stdout",
     "output_type": "stream",
     "text": [
      "MSE_baseline =  473419296900.0051\n",
      "MSE_lr =  332883217857.8134\n"
     ]
    }
   ],
   "source": [
    "# MSE (Mean squared error) \n",
    "# SSE= n ∗ MSE\n",
    "MSE_baseline = SSE_baseline/len(y_train)\n",
    "MSE_lr = SSE_lr/len(y_train)\n",
    "\n",
    "print(\"MSE_baseline = \", MSE_baseline)\n",
    "print(\"MSE_lr = \", MSE_lr)"
   ]
  },
  {
   "cell_type": "code",
   "execution_count": 25,
   "id": "33ceba1e",
   "metadata": {},
   "outputs": [
    {
     "name": "stdout",
     "output_type": "stream",
     "text": [
      "ESS_lr =  1.804681410771352e+17\n",
      "TSS_lr =  6.079371293402856e+17\n"
     ]
    }
   ],
   "source": [
    "# explained sum of squares\n",
    "ESS_lr = sum((y_train.y_hat - y_train.property_value.mean())**2) # predict - mean of actual \n",
    "# compute Total sum of squared\n",
    "TSS_lr = SSE_lr + ESS_lr # actual - mean\n",
    "\n",
    "print(\"ESS_lr = \", ESS_lr)\n",
    "print(\"TSS_lr = \", TSS_lr)"
   ]
  },
  {
   "cell_type": "code",
   "execution_count": 26,
   "id": "7e8c6b1b",
   "metadata": {},
   "outputs": [
    {
     "name": "stdout",
     "output_type": "stream",
     "text": [
      "RMSE baseline =  688054.7194082787\n",
      "RMSE_lr =  576960.3260691444\n"
     ]
    }
   ],
   "source": [
    "from math import sqrt\n",
    "# RMSE (Root Mean Squared Error)\n",
    "\n",
    "RMSE_baseline = sqrt(MSE_baseline)\n",
    "RMSE_lr = sqrt(MSE_lr)\n",
    "\n",
    "print(\"RMSE baseline = \", RMSE_baseline)\n",
    "print(\"RMSE_lr = \", RMSE_lr)"
   ]
  },
  {
   "cell_type": "markdown",
   "id": "f20304f2",
   "metadata": {},
   "source": [
    "<div class='alert alert-block alert-success'>\n",
    "\n",
    "## Q5) Write python code that compares the sum of squared errors for your model against the sum of squared errors for the baseline model and outputs whether or not your model performs better than the baseline model.\n",
    "</div>\n"
   ]
  },
  {
   "cell_type": "code",
   "execution_count": 27,
   "id": "0ffa7a79",
   "metadata": {},
   "outputs": [
    {
     "name": "stdout",
     "output_type": "stream",
     "text": [
      "Evaluation by manually using RMSE -root mean squared error\n",
      "\n",
      "SSE(sum of squared errors)\n",
      "SSE_baseline =  6.079371293404695e+17\n",
      "SSE_lr =  4.274689882631504e+17\n",
      "\n",
      "MSE(mean squared errors)\n",
      "MSE_baseline =  473419296900.0051\n",
      "MSE_lr =  332883217857.8134\n",
      "\n",
      "ESS_lr =  1.804681410771352e+17\n",
      "TSS_lr =  6.079371293402856e+17\n",
      "\n",
      "RMSE(root mean squared errors)\n",
      "RMSE_baseline =  688054.7194082787\n",
      "RMSE_lr =  576960.3260691444\n",
      "\n"
     ]
    }
   ],
   "source": [
    "print('Evaluation by manually using RMSE -root mean squared error')\n",
    "print()\n",
    "print('SSE(sum of squared errors)')\n",
    "print(\"SSE_baseline = \", SSE_baseline)\n",
    "print(\"SSE_lr = \", SSE_lr)\n",
    "print()\n",
    "print('MSE(mean squared errors)')\n",
    "print(\"MSE_baseline = \", MSE_baseline)\n",
    "print(\"MSE_lr = \", MSE_lr)\n",
    "print()\n",
    "print(\"ESS_lr = \", ESS_lr)\n",
    "print(\"TSS_lr = \", TSS_lr)\n",
    "print()\n",
    "print('RMSE(root mean squared errors)')\n",
    "print(\"RMSE_baseline = \", RMSE_baseline)\n",
    "print(\"RMSE_lr = \", RMSE_lr)\n",
    "print()"
   ]
  },
  {
   "cell_type": "markdown",
   "id": "aba1d36b",
   "metadata": {},
   "source": [
    "<div class='alert alert-block alert-info'>\n",
    "\n",
    "### Takeaway:\n",
    "Since SSE_lr < SSE_baseline, so our linearRegression model doesn't perform better than the baseline model.\n",
    "    \n",
    "</div>"
   ]
  },
  {
   "cell_type": "markdown",
   "id": "5e193781",
   "metadata": {},
   "source": [
    "<div class='alert alert-block alert-success'>\n",
    "\n",
    "## Q7) What is the amount of variance explained in your model?\n",
    "\n",
    "</div>"
   ]
  },
  {
   "cell_type": "code",
   "execution_count": 28,
   "id": "b1aee3ec",
   "metadata": {},
   "outputs": [
    {
     "data": {
      "text/plain": [
       "False"
      ]
     },
     "execution_count": 28,
     "metadata": {},
     "output_type": "execute_result"
    }
   ],
   "source": [
    "MSE_lr > MSE_baseline"
   ]
  },
  {
   "cell_type": "markdown",
   "id": "5986aa4c",
   "metadata": {},
   "source": [
    "<div class='alert alert-block alert-success'>\n",
    "\n",
    "\n",
    "## Q8) Is your model better than the baseline model?\n",
    "</div>"
   ]
  },
  {
   "cell_type": "code",
   "execution_count": 29,
   "id": "ea283e38",
   "metadata": {},
   "outputs": [
    {
     "data": {
      "text/plain": [
       "False"
      ]
     },
     "execution_count": 29,
     "metadata": {},
     "output_type": "execute_result"
    }
   ],
   "source": [
    "RMSE_lr > RMSE_baseline"
   ]
  },
  {
   "cell_type": "markdown",
   "id": "fddc801d",
   "metadata": {},
   "source": [
    "Since MSE_lr < MSE_baseline, so our linearRegression model is not better than baseline model."
   ]
  },
  {
   "cell_type": "markdown",
   "id": "8f0232c6",
   "metadata": {},
   "source": [
    "<div class='alert alert-block alert-success'>\n",
    "\n",
    "## Q9) Create a file named evaluate.py that contains the following functions.\n",
    "\n",
    "* 9.1 plot_residuals(y, yhat): creates a residual plot\n",
    "\n",
    "* 9.2 regression_errors(y, yhat): returns the following values:\n",
    "\n",
    "    * sum of squared errors (SSE)\n",
    "\n",
    "    * explained sum of squares (ESS)\n",
    "\n",
    "    * total sum of squares (TSS)\n",
    "\n",
    "    * mean squared error (MSE)\n",
    "\n",
    "    * root mean squared error (RMSE)\n",
    "    \n",
    "* 9.3 baseline_mean_errors(y): computes the SSE, MSE, and RMSE for the baseline model\n",
    "\n",
    "* 9.4 better_than_baseline(y, yhat): returns true if your model performs better than the baseline, otherwise false\n",
    "</div>"
   ]
  },
  {
   "cell_type": "markdown",
   "id": "5f0c94ce",
   "metadata": {},
   "source": [
    "> 9.1 plot_residuals(y, yhat): creates a residual plot"
   ]
  },
  {
   "cell_type": "code",
   "execution_count": 30,
   "id": "0f5020ba",
   "metadata": {},
   "outputs": [],
   "source": [
    "def plot_residuals(y, yhat):\n",
    "    plt.figure(figsize=(8,6))\n",
    "    plt.scatter(y, (y-yhat),marker='.')\n",
    "    plt.axhline(0,ls=':', linewidth=1, color='r')\n",
    "    plt.title('Residuals as Home Price Increases')\n",
    "    plt.xlabel('Home Price In USD')\n",
    "    plt.ylabel('Residual')\n",
    "    plt.show()"
   ]
  },
  {
   "cell_type": "code",
   "execution_count": 31,
   "id": "d1ade575",
   "metadata": {},
   "outputs": [
    {
     "data": {
      "image/png": "[encoded data removed]",
      "text/plain": [
       "<Figure size 800x600 with 1 Axes>"
      ]
     },
     "metadata": {},
     "output_type": "display_data"
    }
   ],
   "source": [
    "plot_residuals(y_train.property_value, y_train.y_hat)"
   ]
  },
  {
   "cell_type": "markdown",
   "id": "5a524b4e",
   "metadata": {},
   "source": [
    "> 9.2 regression_errors(y, yhat): returns the following values:\n",
    "\n",
    "        i. sum of squared errors (SSE)\n",
    "\n",
    "        ii. explained sum of squares (ESS)\n",
    "\n",
    "        iii. total sum of squares (TSS)\n",
    "\n",
    "        iv. mean squared error (MSE)\n",
    "\n",
    "        v. root mean squared error (RMSE)"
   ]
  },
  {
   "cell_type": "code",
   "execution_count": 32,
   "id": "26a4dc84",
   "metadata": {},
   "outputs": [],
   "source": [
    "def regression_errors(y, yhat): # y=y_train series not dataframe and also yhat too\n",
    "    \n",
    "    preds = pd.DataFrame({\n",
    "                            'y': y,\n",
    "                            'yhat': yhat,\n",
    "                            'mean': y.mean()\n",
    "                        })\n",
    "\n",
    "    # sum of squared errors (SSE)\n",
    "    SSE=((preds['y']-preds['yhat'])**2).sum()\n",
    "    #explained sum of squares (ESS)\n",
    "    ESS=((preds['yhat']-preds['mean'])**2).sum()\n",
    "    #total sum of squares (TSS)\n",
    "    TSS=SSE+ESS\n",
    "    #mean squared error (MSE)\n",
    "    MSE=SSE/len(preds)\n",
    "    #root mean squared error (RMSE)\n",
    "    RMSE=(MSE)**0.5\n",
    "    \n",
    "    return SSE,ESS,TSS,MSE,RMSE"
   ]
  },
  {
   "cell_type": "code",
   "execution_count": 33,
   "id": "d6d891af",
   "metadata": {},
   "outputs": [],
   "source": [
    "#for Question no. 9 \n",
    "# for validation purpose only\n",
    "# create & fit an object\n",
    "# model = LinearRegression().fit(X_train_scaled, y)\n",
    "# yhat = model.predict(X_train_scaled)\n",
    "# yhat"
   ]
  },
  {
   "cell_type": "code",
   "execution_count": 34,
   "id": "99b8777e",
   "metadata": {},
   "outputs": [],
   "source": [
    "# SSE,ESS,TSS,MSE,RMSE=regression_errors(y,yhat)\n",
    "# SSE,ESS,TSS,MSE,RMSE"
   ]
  },
  {
   "cell_type": "markdown",
   "id": "ad2dc234",
   "metadata": {},
   "source": [
    "> 9.3 baseline_mean_errors(y): computes the SSE, MSE, and RMSE for the baseline model"
   ]
  },
  {
   "cell_type": "code",
   "execution_count": 35,
   "id": "e6dd12ca",
   "metadata": {},
   "outputs": [
    {
     "data": {
      "text/html": [
       "<div>\n",
       "<style scoped>\n",
       "    .dataframe tbody tr th:only-of-type {\n",
       "        vertical-align: middle;\n",
       "    }\n",
       "\n",
       "    .dataframe tbody tr th {\n",
       "        vertical-align: top;\n",
       "    }\n",
       "\n",
       "    .dataframe thead th {\n",
       "        text-align: right;\n",
       "    }\n",
       "</style>\n",
       "<table border=\"1\" class=\"dataframe\">\n",
       "  <thead>\n",
       "    <tr style=\"text-align: right;\">\n",
       "      <th></th>\n",
       "      <th>property_value</th>\n",
       "      <th>y_baseline</th>\n",
       "      <th>y_hat</th>\n",
       "      <th>residual_baseline</th>\n",
       "      <th>residual</th>\n",
       "      <th>residual_baseline^2</th>\n",
       "      <th>residual^2</th>\n",
       "    </tr>\n",
       "  </thead>\n",
       "  <tbody>\n",
       "    <tr>\n",
       "      <th>462820</th>\n",
       "      <td>710674</td>\n",
       "      <td>460846.250536</td>\n",
       "      <td>860173.729930</td>\n",
       "      <td>-249827.749464</td>\n",
       "      <td>149499.729930</td>\n",
       "      <td>6.241390e+10</td>\n",
       "      <td>2.235017e+10</td>\n",
       "    </tr>\n",
       "    <tr>\n",
       "      <th>3880</th>\n",
       "      <td>603333</td>\n",
       "      <td>460846.250536</td>\n",
       "      <td>397791.257189</td>\n",
       "      <td>-142486.749464</td>\n",
       "      <td>-205541.742811</td>\n",
       "      <td>2.030247e+10</td>\n",
       "      <td>4.224741e+10</td>\n",
       "    </tr>\n",
       "  </tbody>\n",
       "</table>\n",
       "</div>"
      ],
      "text/plain": [
       "        property_value     y_baseline          y_hat  residual_baseline  \\\n",
       "462820          710674  460846.250536  860173.729930     -249827.749464   \n",
       "3880            603333  460846.250536  397791.257189     -142486.749464   \n",
       "\n",
       "             residual  residual_baseline^2    residual^2  \n",
       "462820  149499.729930         6.241390e+10  2.235017e+10  \n",
       "3880   -205541.742811         2.030247e+10  4.224741e+10  "
      ]
     },
     "execution_count": 35,
     "metadata": {},
     "output_type": "execute_result"
    }
   ],
   "source": [
    "y_train.head(2)"
   ]
  },
  {
   "cell_type": "code",
   "execution_count": 36,
   "id": "83281429",
   "metadata": {},
   "outputs": [],
   "source": [
    "# y is the series not a df, get after we split train, validate, & test\n",
    "# y may be equal to y_train or y_validate or y_test ( it includes 'target' and excludes 'independent variables')\n",
    "\n",
    "def baseline_mean_errors(y): \n",
    "    preds = pd.DataFrame({\n",
    "                            'y': y,\n",
    "                            'y_baseline': y.mean()\n",
    "                        })\n",
    "    preds['residual_baseline']=preds['y_baseline']-preds['y']\n",
    "\n",
    "    preds['residual_baseline_sq'] =(preds['residual_baseline'])**2 # if we use ^2, syntax error\n",
    "    ## SSE,MSE,& RMSE for baseline\n",
    "    SSE_baseline=sum(preds['residual_baseline_sq'])\n",
    "    MSE_baseline=SSE_baseline/len(preds)\n",
    "    RMSE_baseline=(MSE_baseline)**0.5\n",
    "    \n",
    "    print('SSE_baseline=',SSE_baseline)\n",
    "    print('MSE_baseline=',MSE_baseline)\n",
    "    print('RMSE_baseline=',RMSE_baseline)\n",
    "\n",
    "    return SSE_baseline,MSE_baseline,RMSE_baseline\n",
    "\n",
    "    \n",
    "    \n"
   ]
  },
  {
   "cell_type": "code",
   "execution_count": 37,
   "id": "18982e40",
   "metadata": {},
   "outputs": [
    {
     "data": {
      "text/html": [
       "<div>\n",
       "<style scoped>\n",
       "    .dataframe tbody tr th:only-of-type {\n",
       "        vertical-align: middle;\n",
       "    }\n",
       "\n",
       "    .dataframe tbody tr th {\n",
       "        vertical-align: top;\n",
       "    }\n",
       "\n",
       "    .dataframe thead th {\n",
       "        text-align: right;\n",
       "    }\n",
       "</style>\n",
       "<table border=\"1\" class=\"dataframe\">\n",
       "  <thead>\n",
       "    <tr style=\"text-align: right;\">\n",
       "      <th></th>\n",
       "      <th>bedrooms</th>\n",
       "      <th>bathrooms</th>\n",
       "      <th>area</th>\n",
       "      <th>property_value</th>\n",
       "      <th>yearbuilt</th>\n",
       "      <th>taxamount</th>\n",
       "      <th>county</th>\n",
       "    </tr>\n",
       "  </thead>\n",
       "  <tbody>\n",
       "    <tr>\n",
       "      <th>4</th>\n",
       "      <td>4</td>\n",
       "      <td>2.0</td>\n",
       "      <td>3633</td>\n",
       "      <td>296425</td>\n",
       "      <td>2005</td>\n",
       "      <td>6941.39</td>\n",
       "      <td>LA</td>\n",
       "    </tr>\n",
       "    <tr>\n",
       "      <th>6</th>\n",
       "      <td>3</td>\n",
       "      <td>4.0</td>\n",
       "      <td>1620</td>\n",
       "      <td>847770</td>\n",
       "      <td>2011</td>\n",
       "      <td>10244.94</td>\n",
       "      <td>LA</td>\n",
       "    </tr>\n",
       "  </tbody>\n",
       "</table>\n",
       "</div>"
      ],
      "text/plain": [
       "   bedrooms  bathrooms  area  property_value  yearbuilt  taxamount county\n",
       "4         4        2.0  3633          296425       2005    6941.39     LA\n",
       "6         3        4.0  1620          847770       2011   10244.94     LA"
      ]
     },
     "execution_count": 37,
     "metadata": {},
     "output_type": "execute_result"
    }
   ],
   "source": [
    "# for validate\n",
    "zil_df=w.wrangle_zillow()\n",
    "zil_df.head(2)\n"
   ]
  },
  {
   "cell_type": "code",
   "execution_count": 38,
   "id": "8661fd2c",
   "metadata": {},
   "outputs": [
    {
     "name": "stdout",
     "output_type": "stream",
     "text": [
      "\n",
      "       train  ----> (1284141, 7)\n",
      "    validate  ----> (428047, 7)\n",
      "        test  ----> (428047, 7)\n",
      "\n",
      "X_train -> (1284141, 6)\n",
      "y_train -> (1284141,)\n",
      "\n",
      "X_validate -> (428047, 6)\n",
      "y_validate -> (428047,)\n",
      "\n",
      "X_test -> (428047, 6)\n",
      "y_validate -> (428047,)\n"
     ]
    }
   ],
   "source": [
    "X_train, y_train, X_validate, y_validate, X_test, y_test=w.X_y_split(zil_df,'property_value')"
   ]
  },
  {
   "cell_type": "code",
   "execution_count": 39,
   "id": "b0adfb11",
   "metadata": {},
   "outputs": [
    {
     "name": "stdout",
     "output_type": "stream",
     "text": [
      "SSE_baseline= 6.079371293404695e+17\n",
      "MSE_baseline= 473419296900.0051\n",
      "RMSE_baseline= 688054.7194082787\n"
     ]
    }
   ],
   "source": [
    "SSE_baseline,MSE_baseline,RMSE_baseline=baseline_mean_errors(y_train)"
   ]
  },
  {
   "cell_type": "code",
   "execution_count": 40,
   "id": "ad46c758",
   "metadata": {},
   "outputs": [],
   "source": [
    "# this result took from previous code, \n",
    "# only for tally purpose\n",
    "'''\n",
    "SSE(sum of squared errors)\n",
    "SSE_baseline =  6.079371293404695e+17\n",
    "SSE_lr =  4.274689882631504e+17\n",
    "\n",
    "MSE(mean squared errors)\n",
    "MSE_baseline =  473419296900.0051\n",
    "MSE_lr =  332883217857.8134\n",
    "\n",
    "ESS_lr =  1.804681410771352e+17\n",
    "TSS_lr =  6.079371293402856e+17\n",
    "\n",
    "RMSE(root mean squared errors)\n",
    "RMSE_baseline =  688054.7194082787\n",
    "RMSE_lr =  576960.3260691444\n",
    "\n",
    "\n",
    "\n",
    "''';\n"
   ]
  },
  {
   "cell_type": "markdown",
   "id": "ea6a6a1c",
   "metadata": {},
   "source": [
    "> 9.4 better_than_baseline(y, yhat): returns true if your model performs better than the baseline, otherwise false"
   ]
  },
  {
   "cell_type": "code",
   "execution_count": 41,
   "id": "2b20ae55",
   "metadata": {},
   "outputs": [],
   "source": [
    "from sklearn.metrics import mean_squared_error, r2_score, explained_variance_score\n"
   ]
  },
  {
   "cell_type": "code",
   "execution_count": 42,
   "id": "c53b72f1",
   "metadata": {},
   "outputs": [],
   "source": [
    "def better_than_baseline(y, yhat):\n",
    "    '''\n",
    "    return a boolean for if the model beats the baseline prediction\n",
    "    '''\n",
    "    rmse_model = mean_squared_error(y, yhat, squared=False)\n",
    "    sse, mse, rmse_baseline = baseline_mean_errors(y)\n",
    "    print('rmse_model=',rmse_model)\n",
    "    \n",
    "    return (rmse_model < rmse_baseline)\n",
    "    \n",
    "    "
   ]
  },
  {
   "cell_type": "code",
   "execution_count": 43,
   "id": "01a88f2e",
   "metadata": {
    "scrolled": true
   },
   "outputs": [
    {
     "data": {
      "text/html": [
       "<div>\n",
       "<style scoped>\n",
       "    .dataframe tbody tr th:only-of-type {\n",
       "        vertical-align: middle;\n",
       "    }\n",
       "\n",
       "    .dataframe tbody tr th {\n",
       "        vertical-align: top;\n",
       "    }\n",
       "\n",
       "    .dataframe thead th {\n",
       "        text-align: right;\n",
       "    }\n",
       "</style>\n",
       "<table border=\"1\" class=\"dataframe\">\n",
       "  <thead>\n",
       "    <tr style=\"text-align: right;\">\n",
       "      <th></th>\n",
       "      <th>bedrooms</th>\n",
       "      <th>bathrooms</th>\n",
       "      <th>area</th>\n",
       "      <th>yearbuilt</th>\n",
       "      <th>taxamount</th>\n",
       "      <th>county</th>\n",
       "    </tr>\n",
       "  </thead>\n",
       "  <tbody>\n",
       "    <tr>\n",
       "      <th>462820</th>\n",
       "      <td>5</td>\n",
       "      <td>4.0</td>\n",
       "      <td>3011</td>\n",
       "      <td>2005</td>\n",
       "      <td>7561.14</td>\n",
       "      <td>Ventura</td>\n",
       "    </tr>\n",
       "    <tr>\n",
       "      <th>3880</th>\n",
       "      <td>3</td>\n",
       "      <td>2.0</td>\n",
       "      <td>1682</td>\n",
       "      <td>1961</td>\n",
       "      <td>7086.19</td>\n",
       "      <td>LA</td>\n",
       "    </tr>\n",
       "  </tbody>\n",
       "</table>\n",
       "</div>"
      ],
      "text/plain": [
       "        bedrooms  bathrooms  area  yearbuilt  taxamount   county\n",
       "462820         5        4.0  3011       2005    7561.14  Ventura\n",
       "3880           3        2.0  1682       1961    7086.19       LA"
      ]
     },
     "execution_count": 43,
     "metadata": {},
     "output_type": "execute_result"
    }
   ],
   "source": [
    "X_train.head(2)"
   ]
  },
  {
   "cell_type": "code",
   "execution_count": 44,
   "id": "92d6b3fd",
   "metadata": {
    "scrolled": true
   },
   "outputs": [
    {
     "data": {
      "text/plain": [
       "462820    710674\n",
       "3880      603333\n",
       "Name: property_value, dtype: int64"
      ]
     },
     "execution_count": 44,
     "metadata": {},
     "output_type": "execute_result"
    }
   ],
   "source": [
    "y_train.head(2)"
   ]
  },
  {
   "cell_type": "code",
   "execution_count": 45,
   "id": "1b9e64e4",
   "metadata": {},
   "outputs": [
    {
     "data": {
      "text/plain": [
       "array([ 860173.7299305 ,  397791.25718944,  311159.778098  , ...,\n",
       "        474681.04385293, 1090147.25474753,   97886.29744318])"
      ]
     },
     "execution_count": 45,
     "metadata": {},
     "output_type": "execute_result"
    }
   ],
   "source": [
    "# create & fit linearRegression model\n",
    "model = LinearRegression().fit(X_train[['area']],y_train)\n",
    "y_hat=model.predict(X_train[['area']])\n",
    "y_hat"
   ]
  },
  {
   "cell_type": "code",
   "execution_count": 46,
   "id": "ca685dc3",
   "metadata": {},
   "outputs": [
    {
     "name": "stdout",
     "output_type": "stream",
     "text": [
      "SSE_baseline= 6.079371293404695e+17\n",
      "MSE_baseline= 473419296900.0051\n",
      "RMSE_baseline= 688054.7194082787\n",
      "rmse_model= 576960.3260691267\n"
     ]
    },
    {
     "data": {
      "text/plain": [
       "True"
      ]
     },
     "execution_count": 46,
     "metadata": {},
     "output_type": "execute_result"
    }
   ],
   "source": [
    "better_than_baseline(y_train, y_hat)"
   ]
  },
  {
   "cell_type": "code",
   "execution_count": null,
   "id": "db65112c",
   "metadata": {},
   "outputs": [],
   "source": []
  },
  {
   "cell_type": "code",
   "execution_count": null,
   "id": "e9563639",
   "metadata": {},
   "outputs": [],
   "source": []
  },
  {
   "cell_type": "code",
   "execution_count": null,
   "id": "c423667a",
   "metadata": {},
   "outputs": [],
   "source": []
  },
  {
   "cell_type": "code",
   "execution_count": null,
   "id": "668c9c7c",
   "metadata": {},
   "outputs": [],
   "source": []
  },
  {
   "cell_type": "code",
   "execution_count": null,
   "id": "f9937365",
   "metadata": {},
   "outputs": [],
   "source": []
  },
  {
   "cell_type": "code",
   "execution_count": null,
   "id": "67892394",
   "metadata": {},
   "outputs": [],
   "source": []
  },
  {
   "cell_type": "code",
   "execution_count": null,
   "id": "b0db4542",
   "metadata": {},
   "outputs": [],
   "source": []
  },
  {
   "cell_type": "code",
   "execution_count": null,
   "id": "f924debd",
   "metadata": {},
   "outputs": [],
   "source": []
  },
  {
   "cell_type": "code",
   "execution_count": null,
   "id": "1d9175e5",
   "metadata": {},
   "outputs": [],
   "source": []
  },
  {
   "cell_type": "code",
   "execution_count": null,
   "id": "d9c39816",
   "metadata": {},
   "outputs": [],
   "source": []
  },
  {
   "cell_type": "code",
   "execution_count": null,
   "id": "819c75eb",
   "metadata": {},
   "outputs": [],
   "source": []
  }
 ],
 "metadata": {
  "kernelspec": {
   "display_name": "Python 3 (ipykernel)",
   "language": "python",
   "name": "python3"
  },
  "language_info": {
   "codemirror_mode": {
    "name": "ipython",
    "version": 3
   },
   "file_extension": ".py",
   "mimetype": "text/x-python",
   "name": "python",
   "nbconvert_exporter": "python",
   "pygments_lexer": "ipython3",
   "version": "3.11.5"
  }
 },
 "nbformat": 4,
 "nbformat_minor": 5
}
