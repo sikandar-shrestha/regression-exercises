{
 "cells": [
  {
   "cell_type": "markdown",
   "id": "502eb770",
   "metadata": {},
   "source": [
    "<div class='alert alert-block alert-success'>\n",
    "   \n",
    "# Feature Engineering Exercise \n",
    "\n",
    "</div>"
   ]
  },
  {
   "cell_type": "markdown",
   "id": "8f62fd5e",
   "metadata": {},
   "source": [
    "\n",
    "<div class='alert alert-block alert-info'>\n",
    "\n",
    "# By SelectKBest method\n",
    "\n",
    "Select the K best features using a statistical test to compare each X with y and find which X's have the strongest relationship with y. \n",
    "\n",
    "For regression, we will use the correlation test (f_regression) to score the relationships.\n",
    "\n",
    "* 1. Initialize the f_selector object, setting the parameters, or instructions for the method to follow: \"use the f_regression test for scoring the features, and return to me the top 10 features\", for example.\n",
    "\n",
    "\n",
    "* 2. Fit the object to our data. That is, run a correlation test for every X variable with our y variable, and then rank the X variables based on how correlated they are with the y/target variable. Then give me the top 10 features.\n",
    "\n",
    "\n",
    "* 3. Use get_feature_names_out() to get the list of features, and save them to a variable that you can use to filter your dataframe in modeling.           \n",
    "\n",
    "\n",
    "## Example\n",
    "    \n",
    "from sklearn.feature_selection import SelectKBest, f_regression\n",
    "\n",
    "###  parameters: f_regression stats test, give me 10 features (create an object)\n",
    "\n",
    "f_selector = SelectKBest(f_regression, k=10)\n",
    "\n",
    "###  find the top 10 X's correlated with y ( fit the object)\n",
    "\n",
    "f_selector.fit(X_train_scaled, y_train)\n",
    "\n",
    "###  save top 10 features\n",
    "\n",
    "f_features = f_selector.get_feature_names_out()\n",
    "\n",
    "f_features\n",
    "\n",
    "\n",
    "output:===> array(['age', 'Medu', 'Fedu', 'traveltime', 'failures', 'G1', 'G2',\n",
    "       'sex_M', 'guardian_other', 'higher_yes'], dtype=object)\n",
    "\n",
    "\n",
    "\n",
    "\n",
    "\n",
    "\n",
    "\n",
    "</div>\n",
    "\n"
   ]
  },
  {
   "cell_type": "markdown",
   "id": "93efb3e9",
   "metadata": {},
   "source": [
    "<div class='alert alert-block alert-info'>\n",
    "\n",
    "# By Recursive Feature Elimination(RFE) method\n",
    "\n",
    "Recursive Feature Elimination will create a model with all the features, evaluate the performance metrics, find the weakest feature, remove it, then create a new model with the remaining features, evaluate the performance metrics, find the weakest feature, remove it, and so on, until it gets down to the number of features you have indicated you want when creating the RFE object. You will also need to indicate which Machine Learning algorithm you want to use.\n",
    "\n",
    "* 1. Initialize the machine learning algorithm, in this case, LinearRegression\n",
    "\n",
    "* 2. Initialize the RFE object, and provide the ML algorithm object from Step 1\n",
    "\n",
    "* 3. Fit the RFE object to our data. Doing this will provide us with a list of features (the number we asked for) as well as a ranking of all the features.\n",
    "\n",
    "* 4. Assign the list of selected features to a variable.\n",
    "\n",
    "* 5. Optional: Get a ranking of all variables (1 being the most important)\n",
    "    \n",
    "\n",
    "## Example\n",
    "\n",
    "from sklearn.linear_model import LinearRegression\n",
    "\n",
    "from sklearn.feature_selection import RFE\n",
    "\n",
    "### initialize the ML algorithm\n",
    "\n",
    "lm = LinearRegression()\n",
    "\n",
    "### create the rfe object, indicating the ML object (lm) and the number of features I want to end up with. \n",
    "\n",
    "rfe = RFE(lm, n_features_to_select=2)\n",
    "\n",
    "### fit the data using RFE\n",
    "\n",
    "rfe.fit(X_train_scaled,y_train)  \n",
    "\n",
    "### get list of the column names. \n",
    "\n",
    "rfe_feature = rfe.get_feature_names_out()\n",
    "\n",
    "rfe_feature\n",
    "    \n",
    "Output:===> array(['G1', 'G2'], dtype=object)\n",
    "\n",
    "\n",
    "\n",
    "\n",
    "\n",
    "\n",
    "\n",
    "\n",
    "\n",
    "\n",
    "</div>"
   ]
  },
  {
   "cell_type": "code",
   "execution_count": 1,
   "id": "a7743560",
   "metadata": {},
   "outputs": [],
   "source": [
    "#standard imports\n",
    "import pandas as pd\n",
    "import numpy as np\n",
    "\n",
    "#viualization imports\n",
    "import matplotlib.pyplot as plt\n",
    "import seaborn as sns\n",
    "\n",
    "#stats \n",
    "from scipy import stats\n",
    "\n",
    "# from sklearn\n",
    "from sklearn.model_selection import train_test_split\n",
    "from sklearn.preprocessing import MinMaxScaler, StandardScaler, RobustScaler, QuantileTransformer\n",
    "from sklearn.linear_model import LinearRegression\n",
    "from sklearn.feature_selection import SelectKBest, RFE, f_regression, SequentialFeatureSelector\n",
    "\n",
    "\n",
    "#custom modules\n",
    "import wrangle as w\n",
    "\n",
    "#remove pink warning box\n",
    "import warnings\n",
    "warnings.filterwarnings('ignore')"
   ]
  },
  {
   "cell_type": "markdown",
   "id": "659a29f0",
   "metadata": {},
   "source": [
    "<div class='alert alert-block alert-success'>\n",
    "\n",
    "# Q1) Load the tips dataset.\n",
    "\n",
    "a) Create a column named price_per_person. This should be the total bill divided by the party size.\n",
    "\n",
    "b) Before using any of the methods discussed in the lesson, which features do you think would be most important for predicting the tip amount?\n",
    "\n",
    "c) Use Select K Best to select the top 2 features for predicting tip amount. What are they?\n",
    "\n",
    "d) Use Recursive Feature Elimination to select the top 2 features for tip amount. What are they?\n",
    "\n",
    "e) Why do you think Select K Best and Recursive Feature Elimination might give different answers for the top features? Does this change as you change the number of features you are selecting?    \n",
    "\n",
    "\n",
    "</div>"
   ]
  },
  {
   "cell_type": "markdown",
   "id": "d084f77b",
   "metadata": {},
   "source": [
    "<div class='alert alert-block alert-info'>\n",
    "\n",
    "## Note:\n",
    "    \n",
    "\n",
    "\n",
    "* We should be at the point where we are creating functions that can be used over and over again.\n",
    "\n",
    "\n",
    "* Something that we will consistently do is split our data into train, validate and test sets.\n",
    "\n",
    "\n",
    "* We will also (often times) be isolating our target variables into y_train, y_validate and y_tests.\n",
    "\n",
    "\n",
    "### Let's make these functions reusable!    \n",
    "    \n",
    "</div>"
   ]
  },
  {
   "cell_type": "code",
   "execution_count": 2,
   "id": "161484db",
   "metadata": {},
   "outputs": [],
   "source": [
    "from pydataset import data"
   ]
  },
  {
   "cell_type": "code",
   "execution_count": 3,
   "id": "bda91012",
   "metadata": {},
   "outputs": [
    {
     "data": {
      "text/html": [
       "<div>\n",
       "<style scoped>\n",
       "    .dataframe tbody tr th:only-of-type {\n",
       "        vertical-align: middle;\n",
       "    }\n",
       "\n",
       "    .dataframe tbody tr th {\n",
       "        vertical-align: top;\n",
       "    }\n",
       "\n",
       "    .dataframe thead th {\n",
       "        text-align: right;\n",
       "    }\n",
       "</style>\n",
       "<table border=\"1\" class=\"dataframe\">\n",
       "  <thead>\n",
       "    <tr style=\"text-align: right;\">\n",
       "      <th></th>\n",
       "      <th>total_bill</th>\n",
       "      <th>tip</th>\n",
       "      <th>sex</th>\n",
       "      <th>smoker</th>\n",
       "      <th>day</th>\n",
       "      <th>time</th>\n",
       "      <th>size</th>\n",
       "    </tr>\n",
       "  </thead>\n",
       "  <tbody>\n",
       "    <tr>\n",
       "      <th>1</th>\n",
       "      <td>16.99</td>\n",
       "      <td>1.01</td>\n",
       "      <td>Female</td>\n",
       "      <td>No</td>\n",
       "      <td>Sun</td>\n",
       "      <td>Dinner</td>\n",
       "      <td>2</td>\n",
       "    </tr>\n",
       "    <tr>\n",
       "      <th>2</th>\n",
       "      <td>10.34</td>\n",
       "      <td>1.66</td>\n",
       "      <td>Male</td>\n",
       "      <td>No</td>\n",
       "      <td>Sun</td>\n",
       "      <td>Dinner</td>\n",
       "      <td>3</td>\n",
       "    </tr>\n",
       "    <tr>\n",
       "      <th>3</th>\n",
       "      <td>21.01</td>\n",
       "      <td>3.50</td>\n",
       "      <td>Male</td>\n",
       "      <td>No</td>\n",
       "      <td>Sun</td>\n",
       "      <td>Dinner</td>\n",
       "      <td>3</td>\n",
       "    </tr>\n",
       "  </tbody>\n",
       "</table>\n",
       "</div>"
      ],
      "text/plain": [
       "   total_bill   tip     sex smoker  day    time  size\n",
       "1       16.99  1.01  Female     No  Sun  Dinner     2\n",
       "2       10.34  1.66    Male     No  Sun  Dinner     3\n",
       "3       21.01  3.50    Male     No  Sun  Dinner     3"
      ]
     },
     "execution_count": 3,
     "metadata": {},
     "output_type": "execute_result"
    }
   ],
   "source": [
    "tips=data('tips')\n",
    "tips.head(3)"
   ]
  },
  {
   "cell_type": "code",
   "execution_count": 4,
   "id": "f8160ff0",
   "metadata": {},
   "outputs": [
    {
     "data": {
      "text/plain": [
       "(244, 7)"
      ]
     },
     "execution_count": 4,
     "metadata": {},
     "output_type": "execute_result"
    }
   ],
   "source": [
    "tips.shape"
   ]
  },
  {
   "cell_type": "code",
   "execution_count": 5,
   "id": "a67b2505",
   "metadata": {},
   "outputs": [
    {
     "name": "stdout",
     "output_type": "stream",
     "text": [
      "<class 'pandas.core.frame.DataFrame'>\n",
      "Index: 244 entries, 1 to 244\n",
      "Data columns (total 7 columns):\n",
      " #   Column      Non-Null Count  Dtype  \n",
      "---  ------      --------------  -----  \n",
      " 0   total_bill  244 non-null    float64\n",
      " 1   tip         244 non-null    float64\n",
      " 2   sex         244 non-null    object \n",
      " 3   smoker      244 non-null    object \n",
      " 4   day         244 non-null    object \n",
      " 5   time        244 non-null    object \n",
      " 6   size        244 non-null    int64  \n",
      "dtypes: float64(2), int64(1), object(4)\n",
      "memory usage: 15.2+ KB\n"
     ]
    }
   ],
   "source": [
    "tips.info()"
   ]
  },
  {
   "cell_type": "markdown",
   "id": "dc72a086",
   "metadata": {},
   "source": [
    "> ## a) Create a column named price_per_person. This should be the total bill divided by the party size."
   ]
  },
  {
   "cell_type": "code",
   "execution_count": 6,
   "id": "51fbe05c",
   "metadata": {},
   "outputs": [],
   "source": [
    "# Create the 'price_per_person' column\n",
    "tips['price_per_person'] = tips['total_bill'] / tips['size']"
   ]
  },
  {
   "cell_type": "code",
   "execution_count": 7,
   "id": "ea133085",
   "metadata": {},
   "outputs": [
    {
     "data": {
      "text/html": [
       "<div>\n",
       "<style scoped>\n",
       "    .dataframe tbody tr th:only-of-type {\n",
       "        vertical-align: middle;\n",
       "    }\n",
       "\n",
       "    .dataframe tbody tr th {\n",
       "        vertical-align: top;\n",
       "    }\n",
       "\n",
       "    .dataframe thead th {\n",
       "        text-align: right;\n",
       "    }\n",
       "</style>\n",
       "<table border=\"1\" class=\"dataframe\">\n",
       "  <thead>\n",
       "    <tr style=\"text-align: right;\">\n",
       "      <th></th>\n",
       "      <th>total_bill</th>\n",
       "      <th>tip</th>\n",
       "      <th>sex</th>\n",
       "      <th>smoker</th>\n",
       "      <th>day</th>\n",
       "      <th>time</th>\n",
       "      <th>size</th>\n",
       "      <th>price_per_person</th>\n",
       "    </tr>\n",
       "  </thead>\n",
       "  <tbody>\n",
       "    <tr>\n",
       "      <th>1</th>\n",
       "      <td>16.99</td>\n",
       "      <td>1.01</td>\n",
       "      <td>Female</td>\n",
       "      <td>No</td>\n",
       "      <td>Sun</td>\n",
       "      <td>Dinner</td>\n",
       "      <td>2</td>\n",
       "      <td>8.495000</td>\n",
       "    </tr>\n",
       "    <tr>\n",
       "      <th>2</th>\n",
       "      <td>10.34</td>\n",
       "      <td>1.66</td>\n",
       "      <td>Male</td>\n",
       "      <td>No</td>\n",
       "      <td>Sun</td>\n",
       "      <td>Dinner</td>\n",
       "      <td>3</td>\n",
       "      <td>3.446667</td>\n",
       "    </tr>\n",
       "    <tr>\n",
       "      <th>3</th>\n",
       "      <td>21.01</td>\n",
       "      <td>3.50</td>\n",
       "      <td>Male</td>\n",
       "      <td>No</td>\n",
       "      <td>Sun</td>\n",
       "      <td>Dinner</td>\n",
       "      <td>3</td>\n",
       "      <td>7.003333</td>\n",
       "    </tr>\n",
       "  </tbody>\n",
       "</table>\n",
       "</div>"
      ],
      "text/plain": [
       "   total_bill   tip     sex smoker  day    time  size  price_per_person\n",
       "1       16.99  1.01  Female     No  Sun  Dinner     2          8.495000\n",
       "2       10.34  1.66    Male     No  Sun  Dinner     3          3.446667\n",
       "3       21.01  3.50    Male     No  Sun  Dinner     3          7.003333"
      ]
     },
     "execution_count": 7,
     "metadata": {},
     "output_type": "execute_result"
    }
   ],
   "source": [
    "tips.head(3)"
   ]
  },
  {
   "cell_type": "markdown",
   "id": "8b5e46dd",
   "metadata": {},
   "source": [
    "> ## b) Before using any of the methods discussed in the lesson, which features do you think would be most important for predicting the tip amount?"
   ]
  },
  {
   "cell_type": "markdown",
   "id": "a13ee88d",
   "metadata": {},
   "source": [
    "<div class='alert alert-block alert-info'>\n",
    "\n",
    "## Note: \n",
    "\n",
    "* We may choose to create a function that groups our data by datatype for us. \n",
    "    \n",
    "* This way we don't have to recreate this action each time.\n",
    "\n",
    "</div>"
   ]
  },
  {
   "cell_type": "code",
   "execution_count": 8,
   "id": "96dbcbe2",
   "metadata": {},
   "outputs": [],
   "source": [
    "# Create a function that groups our data by datatype\n",
    "def discrete_cols(df):\n",
    "    cat_cols= df.select_dtypes(include=['object']).columns.tolist()\n",
    "    return cat_cols\n",
    "\n",
    "def continuous_cols(df):\n",
    "    con_cols= df.select_dtypes(exclude=['object']).columns.tolist()\n",
    "    return con_cols"
   ]
  },
  {
   "cell_type": "code",
   "execution_count": 9,
   "id": "4ced8285",
   "metadata": {},
   "outputs": [
    {
     "data": {
      "text/plain": [
       "['total_bill', 'tip', 'size', 'price_per_person']"
      ]
     },
     "execution_count": 9,
     "metadata": {},
     "output_type": "execute_result"
    }
   ],
   "source": [
    "# use the function on the tips dataframe to separate our continuous variables\n",
    "con_cols = continuous_cols(tips)\n",
    "con_cols"
   ]
  },
  {
   "cell_type": "code",
   "execution_count": 10,
   "id": "2db0ed1a",
   "metadata": {},
   "outputs": [
    {
     "data": {
      "text/plain": [
       "['sex', 'smoker', 'day', 'time']"
      ]
     },
     "execution_count": 10,
     "metadata": {},
     "output_type": "execute_result"
    }
   ],
   "source": [
    "# use the function on the tips dataframe to separate our discrete or categorical variables\n",
    "cat_cols = discrete_cols(tips)\n",
    "cat_cols"
   ]
  },
  {
   "cell_type": "markdown",
   "id": "337ef593",
   "metadata": {},
   "source": [
    "<font color='purple'>\n",
    "      \n",
    "## To find the most important features for predicting the tip amount.\n",
    "</font>"
   ]
  },
  {
   "cell_type": "code",
   "execution_count": 11,
   "id": "a1f0ad47",
   "metadata": {},
   "outputs": [
    {
     "data": {
      "image/png": "[encoded data removed]",
      "text/plain": [
       "<Figure size 1000x1000 with 14 Axes>"
      ]
     },
     "metadata": {},
     "output_type": "display_data"
    }
   ],
   "source": [
    "# pairplot to visualize correlation\n",
    "# kws=keyword arguments\n",
    "sns.pairplot(tips,kind='reg',\n",
    "                  plot_kws={'line_kws':{'color': 'red'}},\n",
    "                  diag_kws={'color':'green'},\n",
    "                  corner=True\n",
    "                )\n",
    "plt.show()\n",
    "    "
   ]
  },
  {
   "cell_type": "markdown",
   "id": "bafeeb99",
   "metadata": {},
   "source": [
    "<div class='alert alert-block alert-info'>\n",
    "\n",
    "## Takeaways: \n",
    "\n",
    "* We can see that \"tip\" and \"total_bill\" seem to have some correlation\n",
    "\n",
    "* It appears \"total_bill\" would be most important in predicting \"tip\" and \"tip_percentage\"\n",
    "</div>"
   ]
  },
  {
   "cell_type": "code",
   "execution_count": 12,
   "id": "fe253884",
   "metadata": {},
   "outputs": [
    {
     "data": {
      "text/html": [
       "<div>\n",
       "<style scoped>\n",
       "    .dataframe tbody tr th:only-of-type {\n",
       "        vertical-align: middle;\n",
       "    }\n",
       "\n",
       "    .dataframe tbody tr th {\n",
       "        vertical-align: top;\n",
       "    }\n",
       "\n",
       "    .dataframe thead th {\n",
       "        text-align: right;\n",
       "    }\n",
       "</style>\n",
       "<table border=\"1\" class=\"dataframe\">\n",
       "  <thead>\n",
       "    <tr style=\"text-align: right;\">\n",
       "      <th></th>\n",
       "      <th>total_bill</th>\n",
       "      <th>tip</th>\n",
       "      <th>size</th>\n",
       "      <th>price_per_person</th>\n",
       "    </tr>\n",
       "  </thead>\n",
       "  <tbody>\n",
       "    <tr>\n",
       "      <th>total_bill</th>\n",
       "      <td>1.000000</td>\n",
       "      <td>0.675734</td>\n",
       "      <td>0.598315</td>\n",
       "      <td>0.647497</td>\n",
       "    </tr>\n",
       "    <tr>\n",
       "      <th>tip</th>\n",
       "      <td>0.675734</td>\n",
       "      <td>1.000000</td>\n",
       "      <td>0.489299</td>\n",
       "      <td>0.347393</td>\n",
       "    </tr>\n",
       "    <tr>\n",
       "      <th>size</th>\n",
       "      <td>0.598315</td>\n",
       "      <td>0.489299</td>\n",
       "      <td>1.000000</td>\n",
       "      <td>-0.175412</td>\n",
       "    </tr>\n",
       "    <tr>\n",
       "      <th>price_per_person</th>\n",
       "      <td>0.647497</td>\n",
       "      <td>0.347393</td>\n",
       "      <td>-0.175412</td>\n",
       "      <td>1.000000</td>\n",
       "    </tr>\n",
       "  </tbody>\n",
       "</table>\n",
       "</div>"
      ],
      "text/plain": [
       "                  total_bill       tip      size  price_per_person\n",
       "total_bill          1.000000  0.675734  0.598315          0.647497\n",
       "tip                 0.675734  1.000000  0.489299          0.347393\n",
       "size                0.598315  0.489299  1.000000         -0.175412\n",
       "price_per_person    0.647497  0.347393 -0.175412          1.000000"
      ]
     },
     "execution_count": 12,
     "metadata": {},
     "output_type": "execute_result"
    }
   ],
   "source": [
    "# take a look at correlation\n",
    "tips[con_cols].corr()"
   ]
  },
  {
   "cell_type": "code",
   "execution_count": 13,
   "id": "aa1425e7",
   "metadata": {},
   "outputs": [
    {
     "data": {
      "image/png": "[encoded data removed]",
      "text/plain": [
       "<Figure size 640x480 with 2 Axes>"
      ]
     },
     "metadata": {},
     "output_type": "display_data"
    }
   ],
   "source": [
    "# plot heatmap\n",
    "sns.heatmap(tips[con_cols].corr(), cmap='coolwarm', annot=True,\n",
    "           mask=np.triu(tips[con_cols].corr()))\n",
    "plt.show()\n"
   ]
  },
  {
   "cell_type": "markdown",
   "id": "e82f9b7e",
   "metadata": {},
   "source": [
    "<div class='alert alert-block alert-info'>\n",
    "    \n",
    "## Takeaways: \n",
    "\n",
    "* here we can see that \"tip\" has the highest correlation with \"total_bill\"(0.68)\n",
    "    \n",
    "* then 'size'(0.49) & 'price_per_person'(0.35)\n",
    "    \n",
    "</div>"
   ]
  },
  {
   "cell_type": "markdown",
   "id": "f6737ac2",
   "metadata": {},
   "source": [
    "<div class='alert alert-block alert-success'>\n",
    "\n",
    "## Note:\n",
    "\n",
    "* Before using SelectKBest to select the top 2 features for predicting tip amount you must have encocded object types and scaled numerical types (excluding the target).\n",
    "\n",
    "\n",
    "* We need to create dummy variables for two reasons: \n",
    "    1. In order to use RFE, we cannot have 'object' datatypes\n",
    "\n",
    "    2. We will also need dummy variables in order to scale. The scaler does not know what objects are. It doesn't understand what \"Female\" or \"Saturday\" mean.\n",
    "    \n",
    "</div>"
   ]
  },
  {
   "cell_type": "code",
   "execution_count": 14,
   "id": "509677f8",
   "metadata": {},
   "outputs": [
    {
     "name": "stdout",
     "output_type": "stream",
     "text": [
      "\n",
      "       train  ----> (146, 8)\n",
      "    validate  ----> (49, 8)\n",
      "        test  ----> (49, 8)\n"
     ]
    }
   ],
   "source": [
    "# I think the most important features are total_bill, size, and price_per_person (X1,X2,X3) (let's say)\n",
    "# to predict the tip amount(Y) \n",
    "\n",
    "train,val,test=w.split_data(tips)\n"
   ]
  },
  {
   "cell_type": "markdown",
   "id": "10f9c94a",
   "metadata": {},
   "source": [
    "<div class='alert alert-block alert-info'>\n",
    "\n",
    "## NOTE( 1st way): \n",
    "Here is a demonstration of begin W/O separating X variables from the y variable and using a scaler (only scaling numerical columns)     \n",
    "</div>"
   ]
  },
  {
   "cell_type": "code",
   "execution_count": 15,
   "id": "4a679be0",
   "metadata": {},
   "outputs": [],
   "source": [
    "# before we go through feature engineering, we need to do scaling of the selected feature(s)\n",
    "\n",
    "# 1. create the object\n",
    "# scaler =MinMaxScaler()\n",
    "\n",
    "# 2. fit the object (learn the min and max value)\n",
    "# scaler.fit(train[['total_bill','size','price_per_person']])"
   ]
  },
  {
   "cell_type": "code",
   "execution_count": 16,
   "id": "7efd421e",
   "metadata": {},
   "outputs": [],
   "source": [
    "# train_scaled = scaler.transform(train[['total_bill','size','price_per_person']])\n",
    "# val_scaled = scaler.transform(val[['total_bill','size','price_per_person']])\n",
    "# test_scaled = scaler.transform(test[['total_bill','size','price_per_person']])"
   ]
  },
  {
   "cell_type": "code",
   "execution_count": 17,
   "id": "0cf3f335",
   "metadata": {},
   "outputs": [],
   "source": [
    "# train.head(3)"
   ]
  },
  {
   "cell_type": "code",
   "execution_count": 18,
   "id": "31d84a02",
   "metadata": {},
   "outputs": [],
   "source": [
    "# train_scaled[:4]"
   ]
  },
  {
   "cell_type": "code",
   "execution_count": 19,
   "id": "18b01d67",
   "metadata": {},
   "outputs": [],
   "source": [
    "# assign the scaled values as new columns in the train\n",
    "\n",
    "# train[['total_bill_scaled','size_scaled','price_per_person_scaled']] = train_scaled\n",
    "# val[['total_bill_scaled','size_scaled','price_per_person_scaled']] = val_scaled\n",
    "# test[['total_bill_scaled','size_scaled','price_per_person_scaled']] = test_scaled"
   ]
  },
  {
   "cell_type": "code",
   "execution_count": 20,
   "id": "4c293fd9",
   "metadata": {},
   "outputs": [],
   "source": [
    "# train.head(3)"
   ]
  },
  {
   "cell_type": "code",
   "execution_count": 21,
   "id": "bb1f55ee",
   "metadata": {},
   "outputs": [],
   "source": [
    "# X_train,y_train = train[['total_bill_scaled','size_scaled','price_per_person_scaled']], train['tip']\n",
    "# X_val, y_val = val[['total_bill_scaled','size_scaled','price_per_person_scaled']], val['tip']\n",
    "# X_test, y_test = test[['total_bill_scaled','size_scaled','price_per_person_scaled']], test['tip']"
   ]
  },
  {
   "cell_type": "markdown",
   "id": "f35f0cfd",
   "metadata": {},
   "source": [
    "<div class='alert alert-block alert-info'>\n",
    "\n",
    "## NOTE( 2nd way): \n",
    "Here is a demonstration of begin /W separating X variables from the y variable and using a scaler (only scaling numerical columns)     \n",
    "</div>"
   ]
  },
  {
   "cell_type": "code",
   "execution_count": 22,
   "id": "75c91ce0",
   "metadata": {},
   "outputs": [],
   "source": [
    "# X and y splits to scale\n",
    "target = \"tip\"\n",
    "\n",
    "X_train = train[['total_bill', 'size', 'price_per_person']]\n",
    "y_train = train[target]\n",
    "\n",
    "X_val = val[['total_bill', 'size', 'price_per_person']]\n",
    "y_val = val[target]\n",
    "\n",
    "X_test = test[['total_bill', 'size', 'price_per_person']]\n",
    "y_test = test[target]"
   ]
  },
  {
   "cell_type": "code",
   "execution_count": 23,
   "id": "93f047dc",
   "metadata": {},
   "outputs": [
    {
     "data": {
      "text/html": [
       "<div>\n",
       "<style scoped>\n",
       "    .dataframe tbody tr th:only-of-type {\n",
       "        vertical-align: middle;\n",
       "    }\n",
       "\n",
       "    .dataframe tbody tr th {\n",
       "        vertical-align: top;\n",
       "    }\n",
       "\n",
       "    .dataframe thead th {\n",
       "        text-align: right;\n",
       "    }\n",
       "</style>\n",
       "<table border=\"1\" class=\"dataframe\">\n",
       "  <thead>\n",
       "    <tr style=\"text-align: right;\">\n",
       "      <th></th>\n",
       "      <th>total_bill</th>\n",
       "      <th>size</th>\n",
       "      <th>price_per_person</th>\n",
       "    </tr>\n",
       "  </thead>\n",
       "  <tbody>\n",
       "    <tr>\n",
       "      <th>37</th>\n",
       "      <td>16.31</td>\n",
       "      <td>3</td>\n",
       "      <td>5.436667</td>\n",
       "    </tr>\n",
       "    <tr>\n",
       "      <th>218</th>\n",
       "      <td>11.59</td>\n",
       "      <td>2</td>\n",
       "      <td>5.795000</td>\n",
       "    </tr>\n",
       "    <tr>\n",
       "      <th>64</th>\n",
       "      <td>18.29</td>\n",
       "      <td>4</td>\n",
       "      <td>4.572500</td>\n",
       "    </tr>\n",
       "  </tbody>\n",
       "</table>\n",
       "</div>"
      ],
      "text/plain": [
       "     total_bill  size  price_per_person\n",
       "37        16.31     3          5.436667\n",
       "218       11.59     2          5.795000\n",
       "64        18.29     4          4.572500"
      ]
     },
     "execution_count": 23,
     "metadata": {},
     "output_type": "execute_result"
    }
   ],
   "source": [
    "X_train.head(3)"
   ]
  },
  {
   "cell_type": "code",
   "execution_count": 24,
   "id": "beb3b318",
   "metadata": {
    "scrolled": true
   },
   "outputs": [
    {
     "name": "stdout",
     "output_type": "stream",
     "text": [
      "<class 'pandas.core.frame.DataFrame'>\n",
      "Index: 146 entries, 37 to 110\n",
      "Data columns (total 3 columns):\n",
      " #   Column            Non-Null Count  Dtype  \n",
      "---  ------            --------------  -----  \n",
      " 0   total_bill        146 non-null    float64\n",
      " 1   size              146 non-null    int64  \n",
      " 2   price_per_person  146 non-null    float64\n",
      "dtypes: float64(2), int64(1)\n",
      "memory usage: 4.6 KB\n"
     ]
    }
   ],
   "source": [
    "X_train.info()"
   ]
  },
  {
   "cell_type": "code",
   "execution_count": 25,
   "id": "07b4f057",
   "metadata": {},
   "outputs": [
    {
     "name": "stdout",
     "output_type": "stream",
     "text": [
      "<class 'pandas.core.series.Series'>\n",
      "Index: 146 entries, 37 to 110\n",
      "Series name: tip\n",
      "Non-Null Count  Dtype  \n",
      "--------------  -----  \n",
      "146 non-null    float64\n",
      "dtypes: float64(1)\n",
      "memory usage: 2.3 KB\n"
     ]
    }
   ],
   "source": [
    "y_train.info()"
   ]
  },
  {
   "cell_type": "code",
   "execution_count": 26,
   "id": "492824be",
   "metadata": {},
   "outputs": [
    {
     "data": {
      "text/html": [
       "<style>#sk-container-id-1 {color: black;}#sk-container-id-1 pre{padding: 0;}#sk-container-id-1 div.sk-toggleable {background-color: white;}#sk-container-id-1 label.sk-toggleable__label {cursor: pointer;display: block;width: 100%;margin-bottom: 0;padding: 0.3em;box-sizing: border-box;text-align: center;}#sk-container-id-1 label.sk-toggleable__label-arrow:before {content: \"▸\";float: left;margin-right: 0.25em;color: #696969;}#sk-container-id-1 label.sk-toggleable__label-arrow:hover:before {color: black;}#sk-container-id-1 div.sk-estimator:hover label.sk-toggleable__label-arrow:before {color: black;}#sk-container-id-1 div.sk-toggleable__content {max-height: 0;max-width: 0;overflow: hidden;text-align: left;background-color: #f0f8ff;}#sk-container-id-1 div.sk-toggleable__content pre {margin: 0.2em;color: black;border-radius: 0.25em;background-color: #f0f8ff;}#sk-container-id-1 input.sk-toggleable__control:checked~div.sk-toggleable__content {max-height: 200px;max-width: 100%;overflow: auto;}#sk-container-id-1 input.sk-toggleable__control:checked~label.sk-toggleable__label-arrow:before {content: \"▾\";}#sk-container-id-1 div.sk-estimator input.sk-toggleable__control:checked~label.sk-toggleable__label {background-color: #d4ebff;}#sk-container-id-1 div.sk-label input.sk-toggleable__control:checked~label.sk-toggleable__label {background-color: #d4ebff;}#sk-container-id-1 input.sk-hidden--visually {border: 0;clip: rect(1px 1px 1px 1px);clip: rect(1px, 1px, 1px, 1px);height: 1px;margin: -1px;overflow: hidden;padding: 0;position: absolute;width: 1px;}#sk-container-id-1 div.sk-estimator {font-family: monospace;background-color: #f0f8ff;border: 1px dotted black;border-radius: 0.25em;box-sizing: border-box;margin-bottom: 0.5em;}#sk-container-id-1 div.sk-estimator:hover {background-color: #d4ebff;}#sk-container-id-1 div.sk-parallel-item::after {content: \"\";width: 100%;border-bottom: 1px solid gray;flex-grow: 1;}#sk-container-id-1 div.sk-label:hover label.sk-toggleable__label {background-color: #d4ebff;}#sk-container-id-1 div.sk-serial::before {content: \"\";position: absolute;border-left: 1px solid gray;box-sizing: border-box;top: 0;bottom: 0;left: 50%;z-index: 0;}#sk-container-id-1 div.sk-serial {display: flex;flex-direction: column;align-items: center;background-color: white;padding-right: 0.2em;padding-left: 0.2em;position: relative;}#sk-container-id-1 div.sk-item {position: relative;z-index: 1;}#sk-container-id-1 div.sk-parallel {display: flex;align-items: stretch;justify-content: center;background-color: white;position: relative;}#sk-container-id-1 div.sk-item::before, #sk-container-id-1 div.sk-parallel-item::before {content: \"\";position: absolute;border-left: 1px solid gray;box-sizing: border-box;top: 0;bottom: 0;left: 50%;z-index: -1;}#sk-container-id-1 div.sk-parallel-item {display: flex;flex-direction: column;z-index: 1;position: relative;background-color: white;}#sk-container-id-1 div.sk-parallel-item:first-child::after {align-self: flex-end;width: 50%;}#sk-container-id-1 div.sk-parallel-item:last-child::after {align-self: flex-start;width: 50%;}#sk-container-id-1 div.sk-parallel-item:only-child::after {width: 0;}#sk-container-id-1 div.sk-dashed-wrapped {border: 1px dashed gray;margin: 0 0.4em 0.5em 0.4em;box-sizing: border-box;padding-bottom: 0.4em;background-color: white;}#sk-container-id-1 div.sk-label label {font-family: monospace;font-weight: bold;display: inline-block;line-height: 1.2em;}#sk-container-id-1 div.sk-label-container {text-align: center;}#sk-container-id-1 div.sk-container {/* jupyter's `normalize.less` sets `[hidden] { display: none; }` but bootstrap.min.css set `[hidden] { display: none !important; }` so we also need the `!important` here to be able to override the default hidden behavior on the sphinx rendered scikit-learn.org. See: https://github.com/scikit-learn/scikit-learn/issues/21755 */display: inline-block !important;position: relative;}#sk-container-id-1 div.sk-text-repr-fallback {display: none;}</style><div id=\"sk-container-id-1\" class=\"sk-top-container\"><div class=\"sk-text-repr-fallback\"><pre>MinMaxScaler()</pre><b>In a Jupyter environment, please rerun this cell to show the HTML representation or trust the notebook. <br />On GitHub, the HTML representation is unable to render, please try loading this page with nbviewer.org.</b></div><div class=\"sk-container\" hidden><div class=\"sk-item\"><div class=\"sk-estimator sk-toggleable\"><input class=\"sk-toggleable__control sk-hidden--visually\" id=\"sk-estimator-id-1\" type=\"checkbox\" checked><label for=\"sk-estimator-id-1\" class=\"sk-toggleable__label sk-toggleable__label-arrow\">MinMaxScaler</label><div class=\"sk-toggleable__content\"><pre>MinMaxScaler()</pre></div></div></div></div></div>"
      ],
      "text/plain": [
       "MinMaxScaler()"
      ]
     },
     "execution_count": 26,
     "metadata": {},
     "output_type": "execute_result"
    }
   ],
   "source": [
    "# before we go through feature engineering, we need to do scaling of the selected feature(s)\n",
    "\n",
    "# 1. create the object\n",
    "scaler =MinMaxScaler()\n",
    "\n",
    "# 2. fit the object (learn the min and max value)\n",
    "scaler.fit(X_train)"
   ]
  },
  {
   "cell_type": "code",
   "execution_count": 27,
   "id": "90d4ccee",
   "metadata": {},
   "outputs": [],
   "source": [
    "#use it\n",
    "#make a new column within train\n",
    "#use 'transform' instead of 'predict'\n",
    "X_train_scaled = scaler.transform(X_train)\n",
    "X_val_scaled = scaler.transform(X_val)\n",
    "X_test_scaled = scaler.transform(X_test)"
   ]
  },
  {
   "cell_type": "code",
   "execution_count": 28,
   "id": "bad139b4",
   "metadata": {},
   "outputs": [
    {
     "data": {
      "text/plain": [
       "array([[0.29292035, 0.4       , 0.17740074],\n",
       "       [0.18849558, 0.2       , 0.20221607],\n",
       "       [0.33672566, 0.6       , 0.1175554 ]])"
      ]
     },
     "execution_count": 28,
     "metadata": {},
     "output_type": "execute_result"
    }
   ],
   "source": [
    "X_train_scaled[:3]"
   ]
  },
  {
   "cell_type": "code",
   "execution_count": 29,
   "id": "97707c02",
   "metadata": {},
   "outputs": [
    {
     "data": {
      "text/html": [
       "<div>\n",
       "<style scoped>\n",
       "    .dataframe tbody tr th:only-of-type {\n",
       "        vertical-align: middle;\n",
       "    }\n",
       "\n",
       "    .dataframe tbody tr th {\n",
       "        vertical-align: top;\n",
       "    }\n",
       "\n",
       "    .dataframe thead th {\n",
       "        text-align: right;\n",
       "    }\n",
       "</style>\n",
       "<table border=\"1\" class=\"dataframe\">\n",
       "  <thead>\n",
       "    <tr style=\"text-align: right;\">\n",
       "      <th></th>\n",
       "      <th>total_bill</th>\n",
       "      <th>size</th>\n",
       "      <th>price_per_person</th>\n",
       "    </tr>\n",
       "  </thead>\n",
       "  <tbody>\n",
       "    <tr>\n",
       "      <th>37</th>\n",
       "      <td>0.292920</td>\n",
       "      <td>0.4</td>\n",
       "      <td>0.177401</td>\n",
       "    </tr>\n",
       "    <tr>\n",
       "      <th>218</th>\n",
       "      <td>0.188496</td>\n",
       "      <td>0.2</td>\n",
       "      <td>0.202216</td>\n",
       "    </tr>\n",
       "    <tr>\n",
       "      <th>64</th>\n",
       "      <td>0.336726</td>\n",
       "      <td>0.6</td>\n",
       "      <td>0.117555</td>\n",
       "    </tr>\n",
       "  </tbody>\n",
       "</table>\n",
       "</div>"
      ],
      "text/plain": [
       "     total_bill  size  price_per_person\n",
       "37     0.292920   0.4          0.177401\n",
       "218    0.188496   0.2          0.202216\n",
       "64     0.336726   0.6          0.117555"
      ]
     },
     "execution_count": 29,
     "metadata": {},
     "output_type": "execute_result"
    }
   ],
   "source": [
    "X_train_scaled=pd.DataFrame(X_train_scaled,index=X_train.index,columns=X_train.columns)\n",
    "X_train_scaled.head(3)"
   ]
  },
  {
   "cell_type": "markdown",
   "id": "db6c97c1",
   "metadata": {},
   "source": [
    "<font color='green'>\n",
    "\n",
    "## Note:--- With Dummies \n",
    "\n",
    "* This is just a short section to demonstrate how you would encode cat columns, scale num columns, and separate X variables from y viariables for a train data set.\n",
    "\n",
    "* This demonstration assumes you want to use \"size\" as categorical, but it's up to you what you want to do with it. If you want it to be continuous then add it to the list of columns to scale.\n",
    "</font>"
   ]
  },
  {
   "cell_type": "code",
   "execution_count": 30,
   "id": "de2c07c1",
   "metadata": {},
   "outputs": [
    {
     "data": {
      "text/plain": [
       "['sex', 'smoker', 'day', 'time']"
      ]
     },
     "execution_count": 30,
     "metadata": {},
     "output_type": "execute_result"
    }
   ],
   "source": [
    "cat_cols"
   ]
  },
  {
   "cell_type": "code",
   "execution_count": 31,
   "id": "fffcd704",
   "metadata": {},
   "outputs": [],
   "source": [
    "cat_cols.append('size')\n"
   ]
  },
  {
   "cell_type": "code",
   "execution_count": 32,
   "id": "61e6aa10",
   "metadata": {},
   "outputs": [
    {
     "data": {
      "text/plain": [
       "['sex', 'smoker', 'day', 'time', 'size']"
      ]
     },
     "execution_count": 32,
     "metadata": {},
     "output_type": "execute_result"
    }
   ],
   "source": [
    "cat_cols"
   ]
  },
  {
   "cell_type": "code",
   "execution_count": 33,
   "id": "cd247cdf",
   "metadata": {
    "scrolled": true
   },
   "outputs": [
    {
     "data": {
      "text/html": [
       "<div>\n",
       "<style scoped>\n",
       "    .dataframe tbody tr th:only-of-type {\n",
       "        vertical-align: middle;\n",
       "    }\n",
       "\n",
       "    .dataframe tbody tr th {\n",
       "        vertical-align: top;\n",
       "    }\n",
       "\n",
       "    .dataframe thead th {\n",
       "        text-align: right;\n",
       "    }\n",
       "</style>\n",
       "<table border=\"1\" class=\"dataframe\">\n",
       "  <thead>\n",
       "    <tr style=\"text-align: right;\">\n",
       "      <th></th>\n",
       "      <th>total_bill</th>\n",
       "      <th>tip</th>\n",
       "      <th>price_per_person</th>\n",
       "      <th>sex_Male</th>\n",
       "      <th>smoker_Yes</th>\n",
       "      <th>day_Sat</th>\n",
       "      <th>day_Sun</th>\n",
       "      <th>day_Thur</th>\n",
       "      <th>time_Lunch</th>\n",
       "      <th>size_2</th>\n",
       "      <th>size_3</th>\n",
       "      <th>size_4</th>\n",
       "      <th>size_5</th>\n",
       "      <th>size_6</th>\n",
       "    </tr>\n",
       "  </thead>\n",
       "  <tbody>\n",
       "    <tr>\n",
       "      <th>37</th>\n",
       "      <td>16</td>\n",
       "      <td>2</td>\n",
       "      <td>5</td>\n",
       "      <td>1</td>\n",
       "      <td>0</td>\n",
       "      <td>1</td>\n",
       "      <td>0</td>\n",
       "      <td>0</td>\n",
       "      <td>0</td>\n",
       "      <td>0</td>\n",
       "      <td>1</td>\n",
       "      <td>0</td>\n",
       "      <td>0</td>\n",
       "      <td>0</td>\n",
       "    </tr>\n",
       "    <tr>\n",
       "      <th>218</th>\n",
       "      <td>11</td>\n",
       "      <td>1</td>\n",
       "      <td>5</td>\n",
       "      <td>1</td>\n",
       "      <td>1</td>\n",
       "      <td>1</td>\n",
       "      <td>0</td>\n",
       "      <td>0</td>\n",
       "      <td>0</td>\n",
       "      <td>1</td>\n",
       "      <td>0</td>\n",
       "      <td>0</td>\n",
       "      <td>0</td>\n",
       "      <td>0</td>\n",
       "    </tr>\n",
       "    <tr>\n",
       "      <th>64</th>\n",
       "      <td>18</td>\n",
       "      <td>3</td>\n",
       "      <td>4</td>\n",
       "      <td>1</td>\n",
       "      <td>1</td>\n",
       "      <td>1</td>\n",
       "      <td>0</td>\n",
       "      <td>0</td>\n",
       "      <td>0</td>\n",
       "      <td>0</td>\n",
       "      <td>0</td>\n",
       "      <td>1</td>\n",
       "      <td>0</td>\n",
       "      <td>0</td>\n",
       "    </tr>\n",
       "  </tbody>\n",
       "</table>\n",
       "</div>"
      ],
      "text/plain": [
       "     total_bill  tip  price_per_person  sex_Male  smoker_Yes  day_Sat  \\\n",
       "37           16    2                 5         1           0        1   \n",
       "218          11    1                 5         1           1        1   \n",
       "64           18    3                 4         1           1        1   \n",
       "\n",
       "     day_Sun  day_Thur  time_Lunch  size_2  size_3  size_4  size_5  size_6  \n",
       "37         0         0           0       0       1       0       0       0  \n",
       "218        0         0           0       1       0       0       0       0  \n",
       "64         0         0           0       0       0       1       0       0  "
      ]
     },
     "execution_count": 33,
     "metadata": {},
     "output_type": "execute_result"
    }
   ],
   "source": [
    "#Create dummy columns of my categorical features\n",
    "train_dummy = pd.get_dummies(columns=cat_cols, data=train,drop_first=True).astype(int)\n",
    "train_dummy.head(3)"
   ]
  },
  {
   "cell_type": "code",
   "execution_count": 34,
   "id": "3c87fe1f",
   "metadata": {},
   "outputs": [],
   "source": [
    "#Instantiate the min-max scaler and fit/transform my continuous features\n",
    "scaler_dummy = MinMaxScaler()\n",
    "\n",
    "#fit\n",
    "scaler_dummy.fit(train_dummy[['total_bill', 'price_per_person']])\n",
    "\n",
    "#transform\n",
    "train_dummy[['total_bill', 'price_per_person']] = scaler_dummy.transform \\\n",
    "                                                (train_dummy[['total_bill', 'price_per_person']])"
   ]
  },
  {
   "cell_type": "code",
   "execution_count": 35,
   "id": "cd7bd9cc",
   "metadata": {},
   "outputs": [
    {
     "data": {
      "text/html": [
       "<div>\n",
       "<style scoped>\n",
       "    .dataframe tbody tr th:only-of-type {\n",
       "        vertical-align: middle;\n",
       "    }\n",
       "\n",
       "    .dataframe tbody tr th {\n",
       "        vertical-align: top;\n",
       "    }\n",
       "\n",
       "    .dataframe thead th {\n",
       "        text-align: right;\n",
       "    }\n",
       "</style>\n",
       "<table border=\"1\" class=\"dataframe\">\n",
       "  <thead>\n",
       "    <tr style=\"text-align: right;\">\n",
       "      <th></th>\n",
       "      <th>total_bill</th>\n",
       "      <th>tip</th>\n",
       "      <th>price_per_person</th>\n",
       "      <th>sex_Male</th>\n",
       "      <th>smoker_Yes</th>\n",
       "      <th>day_Sat</th>\n",
       "      <th>day_Sun</th>\n",
       "      <th>day_Thur</th>\n",
       "      <th>time_Lunch</th>\n",
       "      <th>size_2</th>\n",
       "      <th>size_3</th>\n",
       "      <th>size_4</th>\n",
       "      <th>size_5</th>\n",
       "      <th>size_6</th>\n",
       "    </tr>\n",
       "  </thead>\n",
       "  <tbody>\n",
       "    <tr>\n",
       "      <th>37</th>\n",
       "      <td>0.288889</td>\n",
       "      <td>2</td>\n",
       "      <td>0.200000</td>\n",
       "      <td>1</td>\n",
       "      <td>0</td>\n",
       "      <td>1</td>\n",
       "      <td>0</td>\n",
       "      <td>0</td>\n",
       "      <td>0</td>\n",
       "      <td>0</td>\n",
       "      <td>1</td>\n",
       "      <td>0</td>\n",
       "      <td>0</td>\n",
       "      <td>0</td>\n",
       "    </tr>\n",
       "    <tr>\n",
       "      <th>218</th>\n",
       "      <td>0.177778</td>\n",
       "      <td>1</td>\n",
       "      <td>0.200000</td>\n",
       "      <td>1</td>\n",
       "      <td>1</td>\n",
       "      <td>1</td>\n",
       "      <td>0</td>\n",
       "      <td>0</td>\n",
       "      <td>0</td>\n",
       "      <td>1</td>\n",
       "      <td>0</td>\n",
       "      <td>0</td>\n",
       "      <td>0</td>\n",
       "      <td>0</td>\n",
       "    </tr>\n",
       "    <tr>\n",
       "      <th>64</th>\n",
       "      <td>0.333333</td>\n",
       "      <td>3</td>\n",
       "      <td>0.133333</td>\n",
       "      <td>1</td>\n",
       "      <td>1</td>\n",
       "      <td>1</td>\n",
       "      <td>0</td>\n",
       "      <td>0</td>\n",
       "      <td>0</td>\n",
       "      <td>0</td>\n",
       "      <td>0</td>\n",
       "      <td>1</td>\n",
       "      <td>0</td>\n",
       "      <td>0</td>\n",
       "    </tr>\n",
       "  </tbody>\n",
       "</table>\n",
       "</div>"
      ],
      "text/plain": [
       "     total_bill  tip  price_per_person  sex_Male  smoker_Yes  day_Sat  \\\n",
       "37     0.288889    2          0.200000         1           0        1   \n",
       "218    0.177778    1          0.200000         1           1        1   \n",
       "64     0.333333    3          0.133333         1           1        1   \n",
       "\n",
       "     day_Sun  day_Thur  time_Lunch  size_2  size_3  size_4  size_5  size_6  \n",
       "37         0         0           0       0       1       0       0       0  \n",
       "218        0         0           0       1       0       0       0       0  \n",
       "64         0         0           0       0       0       1       0       0  "
      ]
     },
     "execution_count": 35,
     "metadata": {},
     "output_type": "execute_result"
    }
   ],
   "source": [
    "train_dummy.head(3)"
   ]
  },
  {
   "cell_type": "code",
   "execution_count": 36,
   "id": "f75609e5",
   "metadata": {},
   "outputs": [],
   "source": [
    "#Create X and y dataframes\n",
    "X_train_dummy = train_dummy.drop(columns=['tip'])\n",
    "y_train_dummy = train_dummy['tip']"
   ]
  },
  {
   "cell_type": "code",
   "execution_count": 37,
   "id": "14a23184",
   "metadata": {},
   "outputs": [
    {
     "data": {
      "text/html": [
       "<div>\n",
       "<style scoped>\n",
       "    .dataframe tbody tr th:only-of-type {\n",
       "        vertical-align: middle;\n",
       "    }\n",
       "\n",
       "    .dataframe tbody tr th {\n",
       "        vertical-align: top;\n",
       "    }\n",
       "\n",
       "    .dataframe thead th {\n",
       "        text-align: right;\n",
       "    }\n",
       "</style>\n",
       "<table border=\"1\" class=\"dataframe\">\n",
       "  <thead>\n",
       "    <tr style=\"text-align: right;\">\n",
       "      <th></th>\n",
       "      <th>total_bill</th>\n",
       "      <th>price_per_person</th>\n",
       "      <th>sex_Male</th>\n",
       "      <th>smoker_Yes</th>\n",
       "      <th>day_Sat</th>\n",
       "      <th>day_Sun</th>\n",
       "      <th>day_Thur</th>\n",
       "      <th>time_Lunch</th>\n",
       "      <th>size_2</th>\n",
       "      <th>size_3</th>\n",
       "      <th>size_4</th>\n",
       "      <th>size_5</th>\n",
       "      <th>size_6</th>\n",
       "    </tr>\n",
       "  </thead>\n",
       "  <tbody>\n",
       "    <tr>\n",
       "      <th>37</th>\n",
       "      <td>0.288889</td>\n",
       "      <td>0.200000</td>\n",
       "      <td>1</td>\n",
       "      <td>0</td>\n",
       "      <td>1</td>\n",
       "      <td>0</td>\n",
       "      <td>0</td>\n",
       "      <td>0</td>\n",
       "      <td>0</td>\n",
       "      <td>1</td>\n",
       "      <td>0</td>\n",
       "      <td>0</td>\n",
       "      <td>0</td>\n",
       "    </tr>\n",
       "    <tr>\n",
       "      <th>218</th>\n",
       "      <td>0.177778</td>\n",
       "      <td>0.200000</td>\n",
       "      <td>1</td>\n",
       "      <td>1</td>\n",
       "      <td>1</td>\n",
       "      <td>0</td>\n",
       "      <td>0</td>\n",
       "      <td>0</td>\n",
       "      <td>1</td>\n",
       "      <td>0</td>\n",
       "      <td>0</td>\n",
       "      <td>0</td>\n",
       "      <td>0</td>\n",
       "    </tr>\n",
       "    <tr>\n",
       "      <th>64</th>\n",
       "      <td>0.333333</td>\n",
       "      <td>0.133333</td>\n",
       "      <td>1</td>\n",
       "      <td>1</td>\n",
       "      <td>1</td>\n",
       "      <td>0</td>\n",
       "      <td>0</td>\n",
       "      <td>0</td>\n",
       "      <td>0</td>\n",
       "      <td>0</td>\n",
       "      <td>1</td>\n",
       "      <td>0</td>\n",
       "      <td>0</td>\n",
       "    </tr>\n",
       "  </tbody>\n",
       "</table>\n",
       "</div>"
      ],
      "text/plain": [
       "     total_bill  price_per_person  sex_Male  smoker_Yes  day_Sat  day_Sun  \\\n",
       "37     0.288889          0.200000         1           0        1        0   \n",
       "218    0.177778          0.200000         1           1        1        0   \n",
       "64     0.333333          0.133333         1           1        1        0   \n",
       "\n",
       "     day_Thur  time_Lunch  size_2  size_3  size_4  size_5  size_6  \n",
       "37          0           0       0       1       0       0       0  \n",
       "218         0           0       1       0       0       0       0  \n",
       "64          0           0       0       0       1       0       0  "
      ]
     },
     "execution_count": 37,
     "metadata": {},
     "output_type": "execute_result"
    }
   ],
   "source": [
    "X_train_dummy.head(3)"
   ]
  },
  {
   "cell_type": "code",
   "execution_count": 38,
   "id": "07b9e7e6",
   "metadata": {},
   "outputs": [
    {
     "data": {
      "text/plain": [
       "37     2.0\n",
       "218    1.5\n",
       "Name: tip, dtype: float64"
      ]
     },
     "execution_count": 38,
     "metadata": {},
     "output_type": "execute_result"
    }
   ],
   "source": [
    "y_train.head(2)"
   ]
  },
  {
   "cell_type": "markdown",
   "id": "d1c40c9f",
   "metadata": {},
   "source": [
    " > ## c) Use Select K Best to select the top 2 features for predicting tip amount. What are they?"
   ]
  },
  {
   "cell_type": "markdown",
   "id": "067f7899",
   "metadata": {},
   "source": [
    "<div class='alert alert-block alert-success'>\n",
    "\n",
    "# SelectKBest\n",
    "</div>"
   ]
  },
  {
   "cell_type": "markdown",
   "id": "ad0bc531",
   "metadata": {},
   "source": [
    "<div class='alert alert-block alert-info'>\n",
    "\n",
    "## Note: \n",
    "\n",
    "* SelectKBest requires you to call the number of \"k\" or features that you want\n",
    "\n",
    "* For this instance, our parameters are: \n",
    "    \n",
    "    1. f_regression stats test, give me 2 features \n",
    "    \n",
    "    2. f_regression stats test, scores relationships between target and the other variables\n",
    "    \n",
    "</div>"
   ]
  },
  {
   "cell_type": "markdown",
   "id": "b71f5544",
   "metadata": {},
   "source": [
    "<font color='purple'>\n",
    "\n",
    "## SelectKBest for 1st way of Q1b)\n",
    "    \n",
    "</font>"
   ]
  },
  {
   "cell_type": "code",
   "execution_count": 39,
   "id": "49f1c4ca",
   "metadata": {},
   "outputs": [],
   "source": [
    "# MAKE an object\n",
    "# kbest = SelectKBest(f_regression, k=2)\n",
    "\n",
    "# FIT the thing\n",
    "# kbest.fit(X_train, y_train)"
   ]
  },
  {
   "cell_type": "code",
   "execution_count": 40,
   "id": "167513c7",
   "metadata": {},
   "outputs": [],
   "source": [
    "# kbest.feature_names_in_"
   ]
  },
  {
   "cell_type": "code",
   "execution_count": 41,
   "id": "a2046a13",
   "metadata": {},
   "outputs": [],
   "source": [
    "# statistical f-value / feature's scores:\n",
    "# kbest.scores_"
   ]
  },
  {
   "cell_type": "code",
   "execution_count": 42,
   "id": "1169f999",
   "metadata": {},
   "outputs": [],
   "source": [
    "# p value: \n",
    "# kbest.pvalues_"
   ]
  },
  {
   "cell_type": "code",
   "execution_count": 43,
   "id": "aea96da3",
   "metadata": {},
   "outputs": [],
   "source": [
    "# kbest_results = pd.DataFrame(dict(p=kbest.pvalues_, f=kbest.scores_),index = X_train.columns)\n",
    "# kbest_results"
   ]
  },
  {
   "cell_type": "code",
   "execution_count": 44,
   "id": "b5231d36",
   "metadata": {},
   "outputs": [],
   "source": [
    "# save top 2 features\n",
    "# best_features = kbest.get_feature_names_out()\n",
    "# best_features"
   ]
  },
  {
   "cell_type": "code",
   "execution_count": 45,
   "id": "f54d7ea8",
   "metadata": {},
   "outputs": [],
   "source": [
    "# another way\n",
    "# we can apply this mask to the columns in our original dataframe\n",
    "# X_train.columns[kbest.get_support()]"
   ]
  },
  {
   "cell_type": "code",
   "execution_count": 46,
   "id": "2edbf04f",
   "metadata": {},
   "outputs": [],
   "source": [
    "# X_train.columns[kbest.support()].tolist()"
   ]
  },
  {
   "cell_type": "markdown",
   "id": "6cdf0d2a",
   "metadata": {},
   "source": [
    "<font color='purple'>\n",
    "\n",
    "## SelectKBest for 2nd way of Q1b)\n",
    "    \n",
    "</font>"
   ]
  },
  {
   "cell_type": "code",
   "execution_count": 47,
   "id": "0ca600f6",
   "metadata": {},
   "outputs": [
    {
     "data": {
      "text/html": [
       "<style>#sk-container-id-2 {color: black;}#sk-container-id-2 pre{padding: 0;}#sk-container-id-2 div.sk-toggleable {background-color: white;}#sk-container-id-2 label.sk-toggleable__label {cursor: pointer;display: block;width: 100%;margin-bottom: 0;padding: 0.3em;box-sizing: border-box;text-align: center;}#sk-container-id-2 label.sk-toggleable__label-arrow:before {content: \"▸\";float: left;margin-right: 0.25em;color: #696969;}#sk-container-id-2 label.sk-toggleable__label-arrow:hover:before {color: black;}#sk-container-id-2 div.sk-estimator:hover label.sk-toggleable__label-arrow:before {color: black;}#sk-container-id-2 div.sk-toggleable__content {max-height: 0;max-width: 0;overflow: hidden;text-align: left;background-color: #f0f8ff;}#sk-container-id-2 div.sk-toggleable__content pre {margin: 0.2em;color: black;border-radius: 0.25em;background-color: #f0f8ff;}#sk-container-id-2 input.sk-toggleable__control:checked~div.sk-toggleable__content {max-height: 200px;max-width: 100%;overflow: auto;}#sk-container-id-2 input.sk-toggleable__control:checked~label.sk-toggleable__label-arrow:before {content: \"▾\";}#sk-container-id-2 div.sk-estimator input.sk-toggleable__control:checked~label.sk-toggleable__label {background-color: #d4ebff;}#sk-container-id-2 div.sk-label input.sk-toggleable__control:checked~label.sk-toggleable__label {background-color: #d4ebff;}#sk-container-id-2 input.sk-hidden--visually {border: 0;clip: rect(1px 1px 1px 1px);clip: rect(1px, 1px, 1px, 1px);height: 1px;margin: -1px;overflow: hidden;padding: 0;position: absolute;width: 1px;}#sk-container-id-2 div.sk-estimator {font-family: monospace;background-color: #f0f8ff;border: 1px dotted black;border-radius: 0.25em;box-sizing: border-box;margin-bottom: 0.5em;}#sk-container-id-2 div.sk-estimator:hover {background-color: #d4ebff;}#sk-container-id-2 div.sk-parallel-item::after {content: \"\";width: 100%;border-bottom: 1px solid gray;flex-grow: 1;}#sk-container-id-2 div.sk-label:hover label.sk-toggleable__label {background-color: #d4ebff;}#sk-container-id-2 div.sk-serial::before {content: \"\";position: absolute;border-left: 1px solid gray;box-sizing: border-box;top: 0;bottom: 0;left: 50%;z-index: 0;}#sk-container-id-2 div.sk-serial {display: flex;flex-direction: column;align-items: center;background-color: white;padding-right: 0.2em;padding-left: 0.2em;position: relative;}#sk-container-id-2 div.sk-item {position: relative;z-index: 1;}#sk-container-id-2 div.sk-parallel {display: flex;align-items: stretch;justify-content: center;background-color: white;position: relative;}#sk-container-id-2 div.sk-item::before, #sk-container-id-2 div.sk-parallel-item::before {content: \"\";position: absolute;border-left: 1px solid gray;box-sizing: border-box;top: 0;bottom: 0;left: 50%;z-index: -1;}#sk-container-id-2 div.sk-parallel-item {display: flex;flex-direction: column;z-index: 1;position: relative;background-color: white;}#sk-container-id-2 div.sk-parallel-item:first-child::after {align-self: flex-end;width: 50%;}#sk-container-id-2 div.sk-parallel-item:last-child::after {align-self: flex-start;width: 50%;}#sk-container-id-2 div.sk-parallel-item:only-child::after {width: 0;}#sk-container-id-2 div.sk-dashed-wrapped {border: 1px dashed gray;margin: 0 0.4em 0.5em 0.4em;box-sizing: border-box;padding-bottom: 0.4em;background-color: white;}#sk-container-id-2 div.sk-label label {font-family: monospace;font-weight: bold;display: inline-block;line-height: 1.2em;}#sk-container-id-2 div.sk-label-container {text-align: center;}#sk-container-id-2 div.sk-container {/* jupyter's `normalize.less` sets `[hidden] { display: none; }` but bootstrap.min.css set `[hidden] { display: none !important; }` so we also need the `!important` here to be able to override the default hidden behavior on the sphinx rendered scikit-learn.org. See: https://github.com/scikit-learn/scikit-learn/issues/21755 */display: inline-block !important;position: relative;}#sk-container-id-2 div.sk-text-repr-fallback {display: none;}</style><div id=\"sk-container-id-2\" class=\"sk-top-container\"><div class=\"sk-text-repr-fallback\"><pre>SelectKBest(k=2, score_func=&lt;function f_regression at 0x1744f6980&gt;)</pre><b>In a Jupyter environment, please rerun this cell to show the HTML representation or trust the notebook. <br />On GitHub, the HTML representation is unable to render, please try loading this page with nbviewer.org.</b></div><div class=\"sk-container\" hidden><div class=\"sk-item\"><div class=\"sk-estimator sk-toggleable\"><input class=\"sk-toggleable__control sk-hidden--visually\" id=\"sk-estimator-id-2\" type=\"checkbox\" checked><label for=\"sk-estimator-id-2\" class=\"sk-toggleable__label sk-toggleable__label-arrow\">SelectKBest</label><div class=\"sk-toggleable__content\"><pre>SelectKBest(k=2, score_func=&lt;function f_regression at 0x1744f6980&gt;)</pre></div></div></div></div></div>"
      ],
      "text/plain": [
       "SelectKBest(k=2, score_func=<function f_regression at 0x1744f6980>)"
      ]
     },
     "execution_count": 47,
     "metadata": {},
     "output_type": "execute_result"
    }
   ],
   "source": [
    "# MAKE an object\n",
    "kbest = SelectKBest(f_regression, k=2)\n",
    "\n",
    "# FIT the thing\n",
    "kbest.fit(X_train_scaled, y_train)"
   ]
  },
  {
   "cell_type": "code",
   "execution_count": 48,
   "id": "21a90ea3",
   "metadata": {},
   "outputs": [],
   "source": [
    "#create the mask\n",
    "feature_mask = kbest.get_support()"
   ]
  },
  {
   "cell_type": "code",
   "execution_count": 49,
   "id": "6508e86f",
   "metadata": {},
   "outputs": [
    {
     "data": {
      "text/plain": [
       "Index(['total_bill', 'size'], dtype='object')"
      ]
     },
     "execution_count": 49,
     "metadata": {},
     "output_type": "execute_result"
    }
   ],
   "source": [
    "#now we are going to ask for the column names of select k best top 2 features\n",
    "X_train.columns[feature_mask]"
   ]
  },
  {
   "cell_type": "code",
   "execution_count": 50,
   "id": "94260240",
   "metadata": {},
   "outputs": [
    {
     "data": {
      "text/plain": [
       "Index(['total_bill', 'size'], dtype='object')"
      ]
     },
     "execution_count": 50,
     "metadata": {},
     "output_type": "execute_result"
    }
   ],
   "source": [
    "# We can also complete the masking and creating feature column list in one step once we get comfortable\n",
    "\n",
    "X_train.columns[kbest.get_support()]"
   ]
  },
  {
   "cell_type": "markdown",
   "id": "87e4162a",
   "metadata": {},
   "source": [
    "### Conclusion:===>\n",
    "\n",
    "* total_bill_scaled is the best feature with the highest feature score\n",
    "\n",
    "* size_scaled is the second best feature"
   ]
  },
  {
   "cell_type": "markdown",
   "id": "e9a2266b",
   "metadata": {},
   "source": [
    "> ## d) Use Recursive Feature Elimination to select the top 2 features for tip amount. What are they?"
   ]
  },
  {
   "cell_type": "markdown",
   "id": "13dee759",
   "metadata": {},
   "source": [
    "<div class='alert alert-block alert-success'>\n",
    "\n",
    "# RFE (Recursive Feature Elimination) \n",
    "</div>"
   ]
  },
  {
   "cell_type": "markdown",
   "id": "fad19a77",
   "metadata": {},
   "source": [
    "## RFE apply on \"X_train\""
   ]
  },
  {
   "cell_type": "code",
   "execution_count": 51,
   "id": "20b30baa",
   "metadata": {},
   "outputs": [],
   "source": [
    "# initialize the ML algorithm\n",
    "# lm = LinearRegression()"
   ]
  },
  {
   "cell_type": "code",
   "execution_count": 52,
   "id": "8a5648f9",
   "metadata": {},
   "outputs": [],
   "source": [
    "# create the rfe object, indicating the ML object (lm) and the number of features 2, \n",
    "# which i want to end up with. \n",
    "# rfe = RFE(lm, n_features_to_select=2)\n"
   ]
  },
  {
   "cell_type": "code",
   "execution_count": 53,
   "id": "4dfa616e",
   "metadata": {},
   "outputs": [],
   "source": [
    "# fit the data using RFE\n",
    "# rfe.fit(X_train,y_train)"
   ]
  },
  {
   "cell_type": "code",
   "execution_count": 54,
   "id": "7bba30ee",
   "metadata": {},
   "outputs": [],
   "source": [
    "# rfe.ranking_"
   ]
  },
  {
   "cell_type": "code",
   "execution_count": 55,
   "id": "8822bf23",
   "metadata": {},
   "outputs": [],
   "source": [
    "# another way\n",
    "# we can apply this mask to the columns in our original dataframe\n",
    "# X_train.columns[rfe.get_support_]"
   ]
  },
  {
   "cell_type": "code",
   "execution_count": 56,
   "id": "6017526a",
   "metadata": {},
   "outputs": [],
   "source": [
    "# X_train.columns[rfe.support_].tolist()"
   ]
  },
  {
   "cell_type": "code",
   "execution_count": 57,
   "id": "c2445146",
   "metadata": {},
   "outputs": [],
   "source": [
    "# pd.DataFrame({'feature': X_train.columns.to_list(),'rfe_ranking': rfe.ranking_})"
   ]
  },
  {
   "cell_type": "markdown",
   "id": "d5ae0e3f",
   "metadata": {},
   "source": [
    "## Conclusion:====>\n",
    " \n",
    "* 'total_bill_scaled' & 'size_scaled' are the best features with the highest feature rank of 1."
   ]
  },
  {
   "cell_type": "markdown",
   "id": "4a3ed2fe",
   "metadata": {},
   "source": [
    "## RFE apply on the \"X_train_scaled\" "
   ]
  },
  {
   "cell_type": "code",
   "execution_count": 58,
   "id": "4727cca7",
   "metadata": {},
   "outputs": [],
   "source": [
    "# Initialize the machine learning algorithm, in this case, LinearRegression\n",
    "#create algorithm\n",
    "lm = LinearRegression()"
   ]
  },
  {
   "cell_type": "code",
   "execution_count": 59,
   "id": "a4c14bbe",
   "metadata": {},
   "outputs": [],
   "source": [
    "#assign the number of feature\n",
    "#create the RFE object\n",
    "rfe = RFE(estimator=lm, n_features_to_select=2)"
   ]
  },
  {
   "cell_type": "code",
   "execution_count": 60,
   "id": "a23dc4d7",
   "metadata": {},
   "outputs": [
    {
     "data": {
      "text/html": [
       "<style>#sk-container-id-3 {color: black;}#sk-container-id-3 pre{padding: 0;}#sk-container-id-3 div.sk-toggleable {background-color: white;}#sk-container-id-3 label.sk-toggleable__label {cursor: pointer;display: block;width: 100%;margin-bottom: 0;padding: 0.3em;box-sizing: border-box;text-align: center;}#sk-container-id-3 label.sk-toggleable__label-arrow:before {content: \"▸\";float: left;margin-right: 0.25em;color: #696969;}#sk-container-id-3 label.sk-toggleable__label-arrow:hover:before {color: black;}#sk-container-id-3 div.sk-estimator:hover label.sk-toggleable__label-arrow:before {color: black;}#sk-container-id-3 div.sk-toggleable__content {max-height: 0;max-width: 0;overflow: hidden;text-align: left;background-color: #f0f8ff;}#sk-container-id-3 div.sk-toggleable__content pre {margin: 0.2em;color: black;border-radius: 0.25em;background-color: #f0f8ff;}#sk-container-id-3 input.sk-toggleable__control:checked~div.sk-toggleable__content {max-height: 200px;max-width: 100%;overflow: auto;}#sk-container-id-3 input.sk-toggleable__control:checked~label.sk-toggleable__label-arrow:before {content: \"▾\";}#sk-container-id-3 div.sk-estimator input.sk-toggleable__control:checked~label.sk-toggleable__label {background-color: #d4ebff;}#sk-container-id-3 div.sk-label input.sk-toggleable__control:checked~label.sk-toggleable__label {background-color: #d4ebff;}#sk-container-id-3 input.sk-hidden--visually {border: 0;clip: rect(1px 1px 1px 1px);clip: rect(1px, 1px, 1px, 1px);height: 1px;margin: -1px;overflow: hidden;padding: 0;position: absolute;width: 1px;}#sk-container-id-3 div.sk-estimator {font-family: monospace;background-color: #f0f8ff;border: 1px dotted black;border-radius: 0.25em;box-sizing: border-box;margin-bottom: 0.5em;}#sk-container-id-3 div.sk-estimator:hover {background-color: #d4ebff;}#sk-container-id-3 div.sk-parallel-item::after {content: \"\";width: 100%;border-bottom: 1px solid gray;flex-grow: 1;}#sk-container-id-3 div.sk-label:hover label.sk-toggleable__label {background-color: #d4ebff;}#sk-container-id-3 div.sk-serial::before {content: \"\";position: absolute;border-left: 1px solid gray;box-sizing: border-box;top: 0;bottom: 0;left: 50%;z-index: 0;}#sk-container-id-3 div.sk-serial {display: flex;flex-direction: column;align-items: center;background-color: white;padding-right: 0.2em;padding-left: 0.2em;position: relative;}#sk-container-id-3 div.sk-item {position: relative;z-index: 1;}#sk-container-id-3 div.sk-parallel {display: flex;align-items: stretch;justify-content: center;background-color: white;position: relative;}#sk-container-id-3 div.sk-item::before, #sk-container-id-3 div.sk-parallel-item::before {content: \"\";position: absolute;border-left: 1px solid gray;box-sizing: border-box;top: 0;bottom: 0;left: 50%;z-index: -1;}#sk-container-id-3 div.sk-parallel-item {display: flex;flex-direction: column;z-index: 1;position: relative;background-color: white;}#sk-container-id-3 div.sk-parallel-item:first-child::after {align-self: flex-end;width: 50%;}#sk-container-id-3 div.sk-parallel-item:last-child::after {align-self: flex-start;width: 50%;}#sk-container-id-3 div.sk-parallel-item:only-child::after {width: 0;}#sk-container-id-3 div.sk-dashed-wrapped {border: 1px dashed gray;margin: 0 0.4em 0.5em 0.4em;box-sizing: border-box;padding-bottom: 0.4em;background-color: white;}#sk-container-id-3 div.sk-label label {font-family: monospace;font-weight: bold;display: inline-block;line-height: 1.2em;}#sk-container-id-3 div.sk-label-container {text-align: center;}#sk-container-id-3 div.sk-container {/* jupyter's `normalize.less` sets `[hidden] { display: none; }` but bootstrap.min.css set `[hidden] { display: none !important; }` so we also need the `!important` here to be able to override the default hidden behavior on the sphinx rendered scikit-learn.org. See: https://github.com/scikit-learn/scikit-learn/issues/21755 */display: inline-block !important;position: relative;}#sk-container-id-3 div.sk-text-repr-fallback {display: none;}</style><div id=\"sk-container-id-3\" class=\"sk-top-container\"><div class=\"sk-text-repr-fallback\"><pre>RFE(estimator=LinearRegression(), n_features_to_select=2)</pre><b>In a Jupyter environment, please rerun this cell to show the HTML representation or trust the notebook. <br />On GitHub, the HTML representation is unable to render, please try loading this page with nbviewer.org.</b></div><div class=\"sk-container\" hidden><div class=\"sk-item sk-dashed-wrapped\"><div class=\"sk-label-container\"><div class=\"sk-label sk-toggleable\"><input class=\"sk-toggleable__control sk-hidden--visually\" id=\"sk-estimator-id-3\" type=\"checkbox\" ><label for=\"sk-estimator-id-3\" class=\"sk-toggleable__label sk-toggleable__label-arrow\">RFE</label><div class=\"sk-toggleable__content\"><pre>RFE(estimator=LinearRegression(), n_features_to_select=2)</pre></div></div></div><div class=\"sk-parallel\"><div class=\"sk-parallel-item\"><div class=\"sk-item\"><div class=\"sk-label-container\"><div class=\"sk-label sk-toggleable\"><input class=\"sk-toggleable__control sk-hidden--visually\" id=\"sk-estimator-id-4\" type=\"checkbox\" ><label for=\"sk-estimator-id-4\" class=\"sk-toggleable__label sk-toggleable__label-arrow\">estimator: LinearRegression</label><div class=\"sk-toggleable__content\"><pre>LinearRegression()</pre></div></div></div><div class=\"sk-serial\"><div class=\"sk-item\"><div class=\"sk-estimator sk-toggleable\"><input class=\"sk-toggleable__control sk-hidden--visually\" id=\"sk-estimator-id-5\" type=\"checkbox\" ><label for=\"sk-estimator-id-5\" class=\"sk-toggleable__label sk-toggleable__label-arrow\">LinearRegression</label><div class=\"sk-toggleable__content\"><pre>LinearRegression()</pre></div></div></div></div></div></div></div></div></div></div>"
      ],
      "text/plain": [
       "RFE(estimator=LinearRegression(), n_features_to_select=2)"
      ]
     },
     "execution_count": 60,
     "metadata": {},
     "output_type": "execute_result"
    }
   ],
   "source": [
    "# fit the data using RFE object\n",
    "rfe.fit(X_train_scaled,y_train)"
   ]
  },
  {
   "cell_type": "code",
   "execution_count": 61,
   "id": "41e4b4b5",
   "metadata": {},
   "outputs": [
    {
     "data": {
      "text/plain": [
       "['total_bill', 'size']"
      ]
     },
     "execution_count": 61,
     "metadata": {},
     "output_type": "execute_result"
    }
   ],
   "source": [
    "#create a variable that takes X_train and turns rfe features into a list\n",
    "rfe_columns = X_train.columns[rfe.support_].tolist()\n",
    "#call the variable\n",
    "rfe_columns"
   ]
  },
  {
   "cell_type": "markdown",
   "id": "f173128b",
   "metadata": {},
   "source": [
    "> ## e) Why do you think Select K Best and Recursive Feature Elimination might give different answers for the top features? Does this change as you change the number of features you are selecting?"
   ]
  },
  {
   "cell_type": "markdown",
   "id": "f78e25a0",
   "metadata": {},
   "source": [
    "### A:  Both \"SelectKBest\" & \"RFE\" give the same answer. ['total_bill', 'size']"
   ]
  },
  {
   "cell_type": "markdown",
   "id": "00ff51a2",
   "metadata": {},
   "source": [
    "<div class='alert alert-block alert-success'>\n",
    "\n",
    "# Q2) Write a function named select_kbest that takes in the predictors (X), the target (y), and the number of features to select (k) and returns the names of the top k selected features based on the SelectKBest class. Test your function with the tips dataset. You should see the same results as when you did the process manually.    \n",
    "    \n",
    "</div>"
   ]
  },
  {
   "cell_type": "code",
   "execution_count": 62,
   "id": "40a32359",
   "metadata": {},
   "outputs": [],
   "source": [
    "# X = predictors or independent variables\n",
    "# y = target or dependent variable\n",
    "# k = number of features or top selected features\n",
    "def select_kbest(X, y, k):\n",
    "    '''\n",
    "    X: a DataFrame; Scaled features\n",
    "    y: a Pandas series; target\n",
    "    k: int; number of features to return\n",
    "    \n",
    "    Returns a list of the column names that are the k best features\n",
    "    '''\n",
    "    f_selector = SelectKBest(f_regression, k=k)\n",
    "    f_selector.fit(X, y)\n",
    "\n",
    "    mask = f_selector.get_support()\n",
    "    f_feature = X.columns[mask].tolist()\n",
    "    return f_feature"
   ]
  },
  {
   "cell_type": "code",
   "execution_count": 63,
   "id": "42deed21",
   "metadata": {},
   "outputs": [
    {
     "data": {
      "text/plain": [
       "['total_bill', 'size']"
      ]
     },
     "execution_count": 63,
     "metadata": {},
     "output_type": "execute_result"
    }
   ],
   "source": [
    "select_kbest(X_train,y_train,2) # X_train is w/o scaling "
   ]
  },
  {
   "cell_type": "code",
   "execution_count": 64,
   "id": "c27dd4e4",
   "metadata": {},
   "outputs": [
    {
     "data": {
      "text/plain": [
       "['total_bill', 'size']"
      ]
     },
     "execution_count": 64,
     "metadata": {},
     "output_type": "execute_result"
    }
   ],
   "source": [
    "select_kbest(X_train_scaled,y_train,2) # X_train_scaled w/ scaling "
   ]
  },
  {
   "cell_type": "markdown",
   "id": "03c1194e",
   "metadata": {},
   "source": [
    "<div class='alert alert-block alert-success'>\n",
    "\n",
    "# Q3) Write a function named rfe that takes in the predictors, the target, and the number of features to select. It should return the top n features based on the RFE class. Test your function with the tips dataset. You should see the same results as when you did the process manually.    \n",
    "</div>"
   ]
  },
  {
   "cell_type": "code",
   "execution_count": 65,
   "id": "d026b4df",
   "metadata": {},
   "outputs": [],
   "source": [
    "# X = predictors or independent variables\n",
    "# y = target or dependent variable\n",
    "# k = number of features or top selected features\n",
    "def rfe(X, y, k):\n",
    "    '''\n",
    "    X: a Pandas DataFrame; Scaled features\n",
    "    y: a Pandas Series; target\n",
    "    k: int; number of features to return\n",
    "    \n",
    "    Returns a list of the column names that are the k best features\n",
    "    '''\n",
    "    # initialize the ML algorithm\n",
    "    lm = LinearRegression()\n",
    "    \n",
    "    # create the rfe object, indicating the ML object (lm) and the number of features 2, \n",
    "    # which i want to end up with. \n",
    "    rfe = RFE(lm, n_features_to_select=k)\n",
    "    \n",
    "    # fit the object\n",
    "    rfe.fit(X, y)\n",
    "\n",
    "    f_feature=X.columns[rfe.support_].tolist()\n",
    "    return f_feature"
   ]
  },
  {
   "cell_type": "code",
   "execution_count": 66,
   "id": "4440e9ac",
   "metadata": {},
   "outputs": [
    {
     "data": {
      "text/plain": [
       "['size', 'price_per_person']"
      ]
     },
     "execution_count": 66,
     "metadata": {},
     "output_type": "execute_result"
    }
   ],
   "source": [
    "rfe(X_train,y_train,2) # X_train w/o scaling"
   ]
  },
  {
   "cell_type": "code",
   "execution_count": 67,
   "id": "e7cdfa41",
   "metadata": {},
   "outputs": [
    {
     "data": {
      "text/plain": [
       "['total_bill', 'size']"
      ]
     },
     "execution_count": 67,
     "metadata": {},
     "output_type": "execute_result"
    }
   ],
   "source": [
    "rfe(X_train_scaled,y_train,2) # X_train_scaled /w  scaling"
   ]
  },
  {
   "cell_type": "markdown",
   "id": "d761a77e",
   "metadata": {},
   "source": [
    "<div class='alert alert-block alert-success'>\n",
    "\n",
    "# Q4) Load the swiss dataset and use all the other features to predict Fertility. Find the top 3 features using both Select K Best and Recursive Feature Elimination (use the functions you just built to help you out).   \n",
    "</div>"
   ]
  },
  {
   "cell_type": "code",
   "execution_count": 68,
   "id": "104314a4",
   "metadata": {},
   "outputs": [
    {
     "data": {
      "text/html": [
       "<div>\n",
       "<style scoped>\n",
       "    .dataframe tbody tr th:only-of-type {\n",
       "        vertical-align: middle;\n",
       "    }\n",
       "\n",
       "    .dataframe tbody tr th {\n",
       "        vertical-align: top;\n",
       "    }\n",
       "\n",
       "    .dataframe thead th {\n",
       "        text-align: right;\n",
       "    }\n",
       "</style>\n",
       "<table border=\"1\" class=\"dataframe\">\n",
       "  <thead>\n",
       "    <tr style=\"text-align: right;\">\n",
       "      <th></th>\n",
       "      <th>Fertility</th>\n",
       "      <th>Agriculture</th>\n",
       "      <th>Examination</th>\n",
       "      <th>Education</th>\n",
       "      <th>Catholic</th>\n",
       "      <th>Infant.Mortality</th>\n",
       "    </tr>\n",
       "  </thead>\n",
       "  <tbody>\n",
       "    <tr>\n",
       "      <th>Courtelary</th>\n",
       "      <td>80.2</td>\n",
       "      <td>17.0</td>\n",
       "      <td>15</td>\n",
       "      <td>12</td>\n",
       "      <td>9.96</td>\n",
       "      <td>22.2</td>\n",
       "    </tr>\n",
       "    <tr>\n",
       "      <th>Delemont</th>\n",
       "      <td>83.1</td>\n",
       "      <td>45.1</td>\n",
       "      <td>6</td>\n",
       "      <td>9</td>\n",
       "      <td>84.84</td>\n",
       "      <td>22.2</td>\n",
       "    </tr>\n",
       "    <tr>\n",
       "      <th>Franches-Mnt</th>\n",
       "      <td>92.5</td>\n",
       "      <td>39.7</td>\n",
       "      <td>5</td>\n",
       "      <td>5</td>\n",
       "      <td>93.40</td>\n",
       "      <td>20.2</td>\n",
       "    </tr>\n",
       "  </tbody>\n",
       "</table>\n",
       "</div>"
      ],
      "text/plain": [
       "              Fertility  Agriculture  Examination  Education  Catholic  \\\n",
       "Courtelary         80.2         17.0           15         12      9.96   \n",
       "Delemont           83.1         45.1            6          9     84.84   \n",
       "Franches-Mnt       92.5         39.7            5          5     93.40   \n",
       "\n",
       "              Infant.Mortality  \n",
       "Courtelary                22.2  \n",
       "Delemont                  22.2  \n",
       "Franches-Mnt              20.2  "
      ]
     },
     "execution_count": 68,
     "metadata": {},
     "output_type": "execute_result"
    }
   ],
   "source": [
    "swiss=data('swiss')\n",
    "swiss.head(3)"
   ]
  },
  {
   "cell_type": "code",
   "execution_count": 69,
   "id": "c10db0e4",
   "metadata": {},
   "outputs": [
    {
     "data": {
      "text/plain": [
       "(47, 6)"
      ]
     },
     "execution_count": 69,
     "metadata": {},
     "output_type": "execute_result"
    }
   ],
   "source": [
    "swiss.shape"
   ]
  },
  {
   "cell_type": "code",
   "execution_count": 70,
   "id": "79264fdb",
   "metadata": {},
   "outputs": [
    {
     "name": "stdout",
     "output_type": "stream",
     "text": [
      "<class 'pandas.core.frame.DataFrame'>\n",
      "Index: 47 entries, Courtelary to Rive Gauche\n",
      "Data columns (total 6 columns):\n",
      " #   Column            Non-Null Count  Dtype  \n",
      "---  ------            --------------  -----  \n",
      " 0   Fertility         47 non-null     float64\n",
      " 1   Agriculture       47 non-null     float64\n",
      " 2   Examination       47 non-null     int64  \n",
      " 3   Education         47 non-null     int64  \n",
      " 4   Catholic          47 non-null     float64\n",
      " 5   Infant.Mortality  47 non-null     float64\n",
      "dtypes: float64(4), int64(2)\n",
      "memory usage: 2.6+ KB\n"
     ]
    }
   ],
   "source": [
    "swiss.info()"
   ]
  },
  {
   "cell_type": "markdown",
   "id": "0da40d34",
   "metadata": {},
   "source": [
    "## W/O splitting swiss dataframe"
   ]
  },
  {
   "cell_type": "code",
   "execution_count": 71,
   "id": "664ed695",
   "metadata": {},
   "outputs": [],
   "source": [
    "#assign everything to X except Fertility because we are using it as our y\n",
    "X= swiss.drop(columns=['Fertility'])\n",
    "#assign y_train \n",
    "y = swiss['Fertility']"
   ]
  },
  {
   "cell_type": "code",
   "execution_count": 72,
   "id": "6f35a550",
   "metadata": {},
   "outputs": [
    {
     "data": {
      "text/plain": [
       "['Examination', 'Education', 'Catholic']"
      ]
     },
     "execution_count": 72,
     "metadata": {},
     "output_type": "execute_result"
    }
   ],
   "source": [
    "#Use the \"select_Kbest\" function we created to find our top 3 features\n",
    "select_kbest(X, y,3)"
   ]
  },
  {
   "cell_type": "code",
   "execution_count": 73,
   "id": "4f1f1dee",
   "metadata": {},
   "outputs": [
    {
     "data": {
      "text/plain": [
       "['Examination', 'Education', 'Infant.Mortality']"
      ]
     },
     "execution_count": 73,
     "metadata": {},
     "output_type": "execute_result"
    }
   ],
   "source": [
    "#Use the \"rfe\" function we created to find our top 3 features\n",
    "rfe(X, y, 3)"
   ]
  },
  {
   "cell_type": "markdown",
   "id": "9d3ed012",
   "metadata": {},
   "source": [
    "## /W splitting swiss dataframe"
   ]
  },
  {
   "cell_type": "code",
   "execution_count": 74,
   "id": "99ff70ec",
   "metadata": {},
   "outputs": [
    {
     "name": "stdout",
     "output_type": "stream",
     "text": [
      "\n",
      "       train  ----> (28, 6)\n",
      "    validate  ----> (9, 6)\n",
      "        test  ----> (10, 6)\n"
     ]
    }
   ],
   "source": [
    "train_sw,val_sw,test_sw=w.split_data(swiss)"
   ]
  },
  {
   "cell_type": "code",
   "execution_count": 75,
   "id": "af419491",
   "metadata": {},
   "outputs": [
    {
     "data": {
      "text/html": [
       "<style>#sk-container-id-4 {color: black;}#sk-container-id-4 pre{padding: 0;}#sk-container-id-4 div.sk-toggleable {background-color: white;}#sk-container-id-4 label.sk-toggleable__label {cursor: pointer;display: block;width: 100%;margin-bottom: 0;padding: 0.3em;box-sizing: border-box;text-align: center;}#sk-container-id-4 label.sk-toggleable__label-arrow:before {content: \"▸\";float: left;margin-right: 0.25em;color: #696969;}#sk-container-id-4 label.sk-toggleable__label-arrow:hover:before {color: black;}#sk-container-id-4 div.sk-estimator:hover label.sk-toggleable__label-arrow:before {color: black;}#sk-container-id-4 div.sk-toggleable__content {max-height: 0;max-width: 0;overflow: hidden;text-align: left;background-color: #f0f8ff;}#sk-container-id-4 div.sk-toggleable__content pre {margin: 0.2em;color: black;border-radius: 0.25em;background-color: #f0f8ff;}#sk-container-id-4 input.sk-toggleable__control:checked~div.sk-toggleable__content {max-height: 200px;max-width: 100%;overflow: auto;}#sk-container-id-4 input.sk-toggleable__control:checked~label.sk-toggleable__label-arrow:before {content: \"▾\";}#sk-container-id-4 div.sk-estimator input.sk-toggleable__control:checked~label.sk-toggleable__label {background-color: #d4ebff;}#sk-container-id-4 div.sk-label input.sk-toggleable__control:checked~label.sk-toggleable__label {background-color: #d4ebff;}#sk-container-id-4 input.sk-hidden--visually {border: 0;clip: rect(1px 1px 1px 1px);clip: rect(1px, 1px, 1px, 1px);height: 1px;margin: -1px;overflow: hidden;padding: 0;position: absolute;width: 1px;}#sk-container-id-4 div.sk-estimator {font-family: monospace;background-color: #f0f8ff;border: 1px dotted black;border-radius: 0.25em;box-sizing: border-box;margin-bottom: 0.5em;}#sk-container-id-4 div.sk-estimator:hover {background-color: #d4ebff;}#sk-container-id-4 div.sk-parallel-item::after {content: \"\";width: 100%;border-bottom: 1px solid gray;flex-grow: 1;}#sk-container-id-4 div.sk-label:hover label.sk-toggleable__label {background-color: #d4ebff;}#sk-container-id-4 div.sk-serial::before {content: \"\";position: absolute;border-left: 1px solid gray;box-sizing: border-box;top: 0;bottom: 0;left: 50%;z-index: 0;}#sk-container-id-4 div.sk-serial {display: flex;flex-direction: column;align-items: center;background-color: white;padding-right: 0.2em;padding-left: 0.2em;position: relative;}#sk-container-id-4 div.sk-item {position: relative;z-index: 1;}#sk-container-id-4 div.sk-parallel {display: flex;align-items: stretch;justify-content: center;background-color: white;position: relative;}#sk-container-id-4 div.sk-item::before, #sk-container-id-4 div.sk-parallel-item::before {content: \"\";position: absolute;border-left: 1px solid gray;box-sizing: border-box;top: 0;bottom: 0;left: 50%;z-index: -1;}#sk-container-id-4 div.sk-parallel-item {display: flex;flex-direction: column;z-index: 1;position: relative;background-color: white;}#sk-container-id-4 div.sk-parallel-item:first-child::after {align-self: flex-end;width: 50%;}#sk-container-id-4 div.sk-parallel-item:last-child::after {align-self: flex-start;width: 50%;}#sk-container-id-4 div.sk-parallel-item:only-child::after {width: 0;}#sk-container-id-4 div.sk-dashed-wrapped {border: 1px dashed gray;margin: 0 0.4em 0.5em 0.4em;box-sizing: border-box;padding-bottom: 0.4em;background-color: white;}#sk-container-id-4 div.sk-label label {font-family: monospace;font-weight: bold;display: inline-block;line-height: 1.2em;}#sk-container-id-4 div.sk-label-container {text-align: center;}#sk-container-id-4 div.sk-container {/* jupyter's `normalize.less` sets `[hidden] { display: none; }` but bootstrap.min.css set `[hidden] { display: none !important; }` so we also need the `!important` here to be able to override the default hidden behavior on the sphinx rendered scikit-learn.org. See: https://github.com/scikit-learn/scikit-learn/issues/21755 */display: inline-block !important;position: relative;}#sk-container-id-4 div.sk-text-repr-fallback {display: none;}</style><div id=\"sk-container-id-4\" class=\"sk-top-container\"><div class=\"sk-text-repr-fallback\"><pre>MinMaxScaler()</pre><b>In a Jupyter environment, please rerun this cell to show the HTML representation or trust the notebook. <br />On GitHub, the HTML representation is unable to render, please try loading this page with nbviewer.org.</b></div><div class=\"sk-container\" hidden><div class=\"sk-item\"><div class=\"sk-estimator sk-toggleable\"><input class=\"sk-toggleable__control sk-hidden--visually\" id=\"sk-estimator-id-6\" type=\"checkbox\" checked><label for=\"sk-estimator-id-6\" class=\"sk-toggleable__label sk-toggleable__label-arrow\">MinMaxScaler</label><div class=\"sk-toggleable__content\"><pre>MinMaxScaler()</pre></div></div></div></div></div>"
      ],
      "text/plain": [
       "MinMaxScaler()"
      ]
     },
     "execution_count": 75,
     "metadata": {},
     "output_type": "execute_result"
    }
   ],
   "source": [
    "# 2. fit the object (learn the min and max value)\n",
    "scaler.fit(train_sw[['Agriculture','Examination','Education','Catholic','Infant.Mortality']])"
   ]
  },
  {
   "cell_type": "code",
   "execution_count": 76,
   "id": "9d9c70c7",
   "metadata": {},
   "outputs": [],
   "source": [
    "train_sw_scaled = scaler.transform(train_sw[['Agriculture','Examination',\n",
    "                                             'Education','Catholic','Infant.Mortality']])\n",
    "\n",
    "val_sw_scaled = scaler.transform(val_sw[['Agriculture','Examination',\n",
    "                                         'Education','Catholic','Infant.Mortality']])\n",
    "\n",
    "test_sw_scaled = scaler.transform(test_sw[['Agriculture','Examination',\n",
    "                                           'Education','Catholic','Infant.Mortality']])"
   ]
  },
  {
   "cell_type": "code",
   "execution_count": 77,
   "id": "a2fa1338",
   "metadata": {},
   "outputs": [],
   "source": [
    "# assign the scaled values as new columns in the train\n",
    "\n",
    "train_sw[['Agriculture_scaled','Examination_scaled','Education_scaled',\n",
    "                           'Catholic_scaled','Infant.Mortality_scaled']] = train_sw_scaled\n",
    "\n",
    "val_sw[['Agriculture_scaled','Examination_scaled','Education_scaled',\n",
    "                           'Catholic_scaled','Infant.Mortality_scaled']] = val_sw_scaled\n",
    "\n",
    "test_sw[['Agriculture_scaled','Examination_scaled','Education_scaled',\n",
    "                           'Catholic_scaled','Infant.Mortality_scaled']] = test_sw_scaled"
   ]
  },
  {
   "cell_type": "code",
   "execution_count": 78,
   "id": "dcede154",
   "metadata": {},
   "outputs": [
    {
     "data": {
      "text/html": [
       "<div>\n",
       "<style scoped>\n",
       "    .dataframe tbody tr th:only-of-type {\n",
       "        vertical-align: middle;\n",
       "    }\n",
       "\n",
       "    .dataframe tbody tr th {\n",
       "        vertical-align: top;\n",
       "    }\n",
       "\n",
       "    .dataframe thead th {\n",
       "        text-align: right;\n",
       "    }\n",
       "</style>\n",
       "<table border=\"1\" class=\"dataframe\">\n",
       "  <thead>\n",
       "    <tr style=\"text-align: right;\">\n",
       "      <th></th>\n",
       "      <th>Fertility</th>\n",
       "      <th>Agriculture</th>\n",
       "      <th>Examination</th>\n",
       "      <th>Education</th>\n",
       "      <th>Catholic</th>\n",
       "      <th>Infant.Mortality</th>\n",
       "      <th>Agriculture_scaled</th>\n",
       "      <th>Examination_scaled</th>\n",
       "      <th>Education_scaled</th>\n",
       "      <th>Catholic_scaled</th>\n",
       "      <th>Infant.Mortality_scaled</th>\n",
       "    </tr>\n",
       "  </thead>\n",
       "  <tbody>\n",
       "    <tr>\n",
       "      <th>La Chauxdfnd</th>\n",
       "      <td>65.7</td>\n",
       "      <td>7.7</td>\n",
       "      <td>29</td>\n",
       "      <td>11</td>\n",
       "      <td>13.79</td>\n",
       "      <td>20.5</td>\n",
       "      <td>0.000000</td>\n",
       "      <td>0.81250</td>\n",
       "      <td>0.300000</td>\n",
       "      <td>0.112883</td>\n",
       "      <td>0.551020</td>\n",
       "    </tr>\n",
       "    <tr>\n",
       "      <th>Glane</th>\n",
       "      <td>92.4</td>\n",
       "      <td>67.8</td>\n",
       "      <td>14</td>\n",
       "      <td>8</td>\n",
       "      <td>97.16</td>\n",
       "      <td>24.9</td>\n",
       "      <td>0.732927</td>\n",
       "      <td>0.34375</td>\n",
       "      <td>0.200000</td>\n",
       "      <td>0.970776</td>\n",
       "      <td>1.000000</td>\n",
       "    </tr>\n",
       "    <tr>\n",
       "      <th>Morges</th>\n",
       "      <td>65.5</td>\n",
       "      <td>59.8</td>\n",
       "      <td>22</td>\n",
       "      <td>10</td>\n",
       "      <td>5.23</td>\n",
       "      <td>18.0</td>\n",
       "      <td>0.635366</td>\n",
       "      <td>0.59375</td>\n",
       "      <td>0.266667</td>\n",
       "      <td>0.024799</td>\n",
       "      <td>0.295918</td>\n",
       "    </tr>\n",
       "    <tr>\n",
       "      <th>Rive Gauche</th>\n",
       "      <td>42.8</td>\n",
       "      <td>27.7</td>\n",
       "      <td>22</td>\n",
       "      <td>29</td>\n",
       "      <td>58.33</td>\n",
       "      <td>19.3</td>\n",
       "      <td>0.243902</td>\n",
       "      <td>0.59375</td>\n",
       "      <td>0.900000</td>\n",
       "      <td>0.571208</td>\n",
       "      <td>0.428571</td>\n",
       "    </tr>\n",
       "    <tr>\n",
       "      <th>Moutier</th>\n",
       "      <td>85.8</td>\n",
       "      <td>36.5</td>\n",
       "      <td>12</td>\n",
       "      <td>7</td>\n",
       "      <td>33.77</td>\n",
       "      <td>20.3</td>\n",
       "      <td>0.351220</td>\n",
       "      <td>0.28125</td>\n",
       "      <td>0.166667</td>\n",
       "      <td>0.318481</td>\n",
       "      <td>0.530612</td>\n",
       "    </tr>\n",
       "  </tbody>\n",
       "</table>\n",
       "</div>"
      ],
      "text/plain": [
       "              Fertility  Agriculture  Examination  Education  Catholic  \\\n",
       "La Chauxdfnd       65.7          7.7           29         11     13.79   \n",
       "Glane              92.4         67.8           14          8     97.16   \n",
       "Morges             65.5         59.8           22         10      5.23   \n",
       "Rive Gauche        42.8         27.7           22         29     58.33   \n",
       "Moutier            85.8         36.5           12          7     33.77   \n",
       "\n",
       "              Infant.Mortality  Agriculture_scaled  Examination_scaled  \\\n",
       "La Chauxdfnd              20.5            0.000000             0.81250   \n",
       "Glane                     24.9            0.732927             0.34375   \n",
       "Morges                    18.0            0.635366             0.59375   \n",
       "Rive Gauche               19.3            0.243902             0.59375   \n",
       "Moutier                   20.3            0.351220             0.28125   \n",
       "\n",
       "              Education_scaled  Catholic_scaled  Infant.Mortality_scaled  \n",
       "La Chauxdfnd          0.300000         0.112883                 0.551020  \n",
       "Glane                 0.200000         0.970776                 1.000000  \n",
       "Morges                0.266667         0.024799                 0.295918  \n",
       "Rive Gauche           0.900000         0.571208                 0.428571  \n",
       "Moutier               0.166667         0.318481                 0.530612  "
      ]
     },
     "execution_count": 78,
     "metadata": {},
     "output_type": "execute_result"
    }
   ],
   "source": [
    "train_sw.head()"
   ]
  },
  {
   "cell_type": "code",
   "execution_count": 79,
   "id": "bedfaa01",
   "metadata": {},
   "outputs": [],
   "source": [
    "X_train_sw,y_train_sw = train_sw[['Agriculture_scaled','Examination_scaled','Education_scaled',\n",
    "                           'Catholic_scaled','Infant.Mortality_scaled']], train_sw['Fertility']\n",
    "\n",
    "X_val_sw,y_val_sw = val_sw[['Agriculture_scaled','Examination_scaled','Education_scaled',\n",
    "                           'Catholic_scaled','Infant.Mortality_scaled']], val_sw['Fertility']\n",
    "\n",
    "X_test_sw,y_test_sw = test_sw[['Agriculture_scaled','Examination_scaled','Education_scaled',\n",
    "                           'Catholic_scaled','Infant.Mortality_scaled']], test_sw['Fertility']"
   ]
  },
  {
   "cell_type": "code",
   "execution_count": 80,
   "id": "c188709c",
   "metadata": {},
   "outputs": [
    {
     "data": {
      "text/plain": [
       "['Examination_scaled', 'Education_scaled', 'Catholic_scaled']"
      ]
     },
     "execution_count": 80,
     "metadata": {},
     "output_type": "execute_result"
    }
   ],
   "source": [
    "select_kbest(X_train_sw, y_train_sw, 3)"
   ]
  },
  {
   "cell_type": "code",
   "execution_count": 81,
   "id": "6a8f203b",
   "metadata": {},
   "outputs": [
    {
     "data": {
      "text/plain": [
       "['Examination_scaled', 'Education_scaled', 'Infant.Mortality_scaled']"
      ]
     },
     "execution_count": 81,
     "metadata": {},
     "output_type": "execute_result"
    }
   ],
   "source": [
    "rfe(X_train_sw,y_train_sw,3)"
   ]
  },
  {
   "cell_type": "markdown",
   "id": "8e81b2d9",
   "metadata": {},
   "source": [
    "<div class='alert alert-block alert-success'>\n",
    "\n",
    "# Functionize a couple of tasks:    \n",
    "    \n",
    "</div>"
   ]
  },
  {
   "cell_type": "code",
   "execution_count": 82,
   "id": "bdda0e68",
   "metadata": {},
   "outputs": [],
   "source": [
    "#create a function to isolate the target variable AND split a DF\n",
    "def X_y_split(df, target):\n",
    "    '''\n",
    "    This function takes in a dataframe and a target variable\n",
    "    Then it returns the X_train, y_train, X_validate, y_validate, X_test, y_test\n",
    "    and a print statement with the shape of the new dataframes\n",
    "    '''  \n",
    "    train, validate, test = w.split_data(df)\n",
    "\n",
    "    X_train = train.drop(columns= target)\n",
    "    y_train = train[target]\n",
    "\n",
    "    X_validate = validate.drop(columns= target)\n",
    "    y_validate = validate[target]\n",
    "\n",
    "    X_test = test.drop(columns= target)\n",
    "    y_test = test[target]\n",
    "        \n",
    "    # Have function print datasets shape\n",
    "    print(f'X_train -> {X_train.shape}')\n",
    "    print(f'X_validate -> {X_validate.shape}')\n",
    "    print(f'X_test -> {X_test.shape}')  \n",
    "    \n",
    "    return X_train, y_train, X_validate, y_validate, X_test, y_test"
   ]
  },
  {
   "cell_type": "code",
   "execution_count": 83,
   "id": "84a7326a",
   "metadata": {},
   "outputs": [
    {
     "name": "stdout",
     "output_type": "stream",
     "text": [
      "\n",
      "       train  ----> (146, 8)\n",
      "    validate  ----> (49, 8)\n",
      "        test  ----> (49, 8)\n",
      "X_train -> (146, 7)\n",
      "X_validate -> (49, 7)\n",
      "X_test -> (49, 7)\n"
     ]
    }
   ],
   "source": [
    "X_train, y_train, X_validate, y_validate, X_test, y_test=X_y_split(tips,'tip')"
   ]
  },
  {
   "cell_type": "code",
   "execution_count": null,
   "id": "c52a72b1",
   "metadata": {},
   "outputs": [],
   "source": [
    "# Create a function to isolate the target variable from an ALREADY split dataframe\n",
    "def X_y_split(train, validate, test, target):\n",
    "    '''\n",
    "    This function takes in train, validate, and test dataframes and the target variable.\n",
    "    Then it returns the X_train, y_train, X_validate, y_validate, X_test, y_test.\n",
    "    '''  \n",
    "\n",
    "    X_train = train.drop(columns= target)\n",
    "    y_train = train[target]\n",
    "\n",
    "    X_validate = validate.drop(columns= target)\n",
    "    y_validate = validate[target]\n",
    "\n",
    "    X_test = test.drop(columns= target)\n",
    "    y_test = test[target]\n",
    "    \n",
    "    # Have function print datasets shape\n",
    "    print(f'X_train -> {X_train.shape}')\n",
    "    print(f'y_train -> {y_train.shape}')\n",
    "    print()\n",
    "    print()\n",
    "    print(f'X_validate -> {X_validate.shape}')\n",
    "    print(f'y_validate -> {y_validate.shape}')\n",
    "    print()\n",
    "    print()\n",
    "    print(f'X_test -> {X_test.shape}')\n",
    "    print(f'y_test -> {y_test.shape}') \n",
    "    \n",
    "    return X_train, y_train, X_validate, y_validate, X_test, y_test"
   ]
  },
  {
   "cell_type": "code",
   "execution_count": null,
   "id": "3b4acf2e",
   "metadata": {},
   "outputs": [],
   "source": [
    "X_train, y_train, X_validate, y_validate, X_test, y_test=X_y_split(tips,'tip')"
   ]
  },
  {
   "cell_type": "code",
   "execution_count": null,
   "id": "2a502f6a",
   "metadata": {},
   "outputs": [],
   "source": []
  }
 ],
 "metadata": {
  "kernelspec": {
   "display_name": "Python 3 (ipykernel)",
   "language": "python",
   "name": "python3"
  },
  "language_info": {
   "codemirror_mode": {
    "name": "ipython",
    "version": 3
   },
   "file_extension": ".py",
   "mimetype": "text/x-python",
   "name": "python",
   "nbconvert_exporter": "python",
   "pygments_lexer": "ipython3",
   "version": "3.11.5"
  }
 },
 "nbformat": 4,
 "nbformat_minor": 5
}
