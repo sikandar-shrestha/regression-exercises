{
 "cells": [
  {
   "cell_type": "markdown",
   "id": "21ed89cf",
   "metadata": {},
   "source": [
    "## Exercises I\n",
    "\n",
    "Let's review the steps we take at the beginning of each new module.\n",
    "\n",
    "1. Create a new repository named regression-exercises in your GitHub; all of your Regression work will be housed here.\n",
    "\n",
    "2. Clone this repository within your local codeup-data-science directory.\n",
    "\n",
    "3. Create a .gitignore and make sure your list of 'files to ignore' includes your env.py\n",
    "file.\n",
    "\n",
    "4. Ceate a README.md file that outlines the contents and purpose of your repository.\n",
    "\n",
    "5. Add,commit,andpushthesetwofiles.\n",
    "\n",
    "6. Now you can add your env.py file to this repository to access the Codeup database server.\n",
    "\n",
    "7. For these exercises, you will create wrangle.ipynb and wrangle.py files to hold necessary functions.\n",
    "\n",
    "8. Asalways,add,commit,andpushyourworkoften.\n"
   ]
  },
  {
   "cell_type": "markdown",
   "id": "b2c8dbf6",
   "metadata": {},
   "source": [
    "## Exercises II ( Acquire & Prepare - Wrangle )\n",
    "\n",
    "Let's set up an example scenario as perspective for our regression exercises using the Zillow dataset.\n",
    "\n",
    "As a Codeup data science graduate, you want to show off your skills to the Zillow data science team in hopes of getting an interview for a position you saw pop up on LinkedIn. You thought it might look impressive to build an end-to-end project in which you use some of their Kaggle data to predict property values using some of their available features; who knows, you might even do some feature engineering to blow them away. **Your goal is to predict the values of single unit properties using the observations from 2017**.\n",
    "\n",
    "In these exercises, you will complete the first step toward the above goal: acquire and prepare the necessary Zillow data from the zillow database in the Codeup database server.\n",
    "\n",
    "1. Acquire bedroomcnt,bathroomcnt,calculatedfinishedsquarefeet, taxvaluedollarcnt , yearbuilt , taxamount , and fips from the zillow database for all 'Single Family Residential' properties.\n",
    "\n",
    "2. Using your acquired Zillow data,walk through the summarization and cleaning steps in your wrangle.ipynb file like we did above. You may handle the missing values however you feel is appropriate and meaningful; remember to document your process and decisions using markdown and code commenting where helpful.\n",
    "\n",
    "3. Write a function to split your data into train,validate,and test.\n",
    "\n",
    "4. Store all of the necessary functions to automate your process from acquiring the data to returning a cleaned dataframe with no missing values in your wrangle.py file. Name your final function wrangle_zillow ."
   ]
  },
  {
   "cell_type": "code",
   "execution_count": 1,
   "id": "71201968",
   "metadata": {},
   "outputs": [],
   "source": [
    "import pandas as pd\n",
    "import numpy as np\n",
    "\n",
    "import matplotlib.pyplot as plt\n",
    "import seaborn as sns\n",
    "\n",
    "import env\n",
    "import wrangle as w\n",
    "\n",
    "import os"
   ]
  },
  {
   "cell_type": "markdown",
   "id": "cd7b5662",
   "metadata": {},
   "source": [
    "> Q1) Acquire bedroomcnt,bathroomcnt,calculatedfinishedsquarefeet, taxvaluedollarcnt , yearbuilt , taxamount , and fips from the zillow database for all 'Single Family Residential' properties."
   ]
  },
  {
   "cell_type": "code",
   "execution_count": 2,
   "id": "8d927311",
   "metadata": {},
   "outputs": [],
   "source": [
    "url =env.get_db_url('zillow')"
   ]
  },
  {
   "cell_type": "code",
   "execution_count": 3,
   "id": "fbce0456",
   "metadata": {},
   "outputs": [],
   "source": [
    "query='''\n",
    "            select \n",
    "            bedroomcnt,\n",
    "            bathroomcnt,\n",
    "            calculatedfinishedsquarefeet,\n",
    "            taxvaluedollarcnt, \n",
    "            yearbuilt, \n",
    "            taxamount, \n",
    "            fips\n",
    "            from properties_2017\n",
    "            where propertylandusetypeid='261'\n",
    "            limit 100\n",
    "            \n",
    "            '''"
   ]
  },
  {
   "cell_type": "markdown",
   "id": "ed49b574",
   "metadata": {},
   "source": [
    "<div class='alert alert-block alert-success'>\n",
    "NOTE:\n",
    "Above I looked at only 100 rows of data.\n",
    "\n",
    "Because I know Zillow is a large dataset, I will create a function that runs the same query with ALL the data, but I will make sure to cache these results for future use!\n",
    "\n",
    "\n",
    "\n",
    "</div class='alert alert-block alert-success'>"
   ]
  },
  {
   "cell_type": "code",
   "execution_count": 4,
   "id": "943a23ed",
   "metadata": {},
   "outputs": [
    {
     "data": {
      "text/html": [
       "<div>\n",
       "<style scoped>\n",
       "    .dataframe tbody tr th:only-of-type {\n",
       "        vertical-align: middle;\n",
       "    }\n",
       "\n",
       "    .dataframe tbody tr th {\n",
       "        vertical-align: top;\n",
       "    }\n",
       "\n",
       "    .dataframe thead th {\n",
       "        text-align: right;\n",
       "    }\n",
       "</style>\n",
       "<table border=\"1\" class=\"dataframe\">\n",
       "  <thead>\n",
       "    <tr style=\"text-align: right;\">\n",
       "      <th></th>\n",
       "      <th>bedroomcnt</th>\n",
       "      <th>bathroomcnt</th>\n",
       "      <th>calculatedfinishedsquarefeet</th>\n",
       "      <th>taxvaluedollarcnt</th>\n",
       "      <th>yearbuilt</th>\n",
       "      <th>taxamount</th>\n",
       "      <th>fips</th>\n",
       "    </tr>\n",
       "  </thead>\n",
       "  <tbody>\n",
       "    <tr>\n",
       "      <th>0</th>\n",
       "      <td>0.0</td>\n",
       "      <td>0.0</td>\n",
       "      <td>NaN</td>\n",
       "      <td>27516.0</td>\n",
       "      <td>NaN</td>\n",
       "      <td>NaN</td>\n",
       "      <td>6037.0</td>\n",
       "    </tr>\n",
       "    <tr>\n",
       "      <th>1</th>\n",
       "      <td>0.0</td>\n",
       "      <td>0.0</td>\n",
       "      <td>NaN</td>\n",
       "      <td>10.0</td>\n",
       "      <td>NaN</td>\n",
       "      <td>NaN</td>\n",
       "      <td>6037.0</td>\n",
       "    </tr>\n",
       "    <tr>\n",
       "      <th>2</th>\n",
       "      <td>0.0</td>\n",
       "      <td>0.0</td>\n",
       "      <td>NaN</td>\n",
       "      <td>10.0</td>\n",
       "      <td>NaN</td>\n",
       "      <td>NaN</td>\n",
       "      <td>6037.0</td>\n",
       "    </tr>\n",
       "    <tr>\n",
       "      <th>3</th>\n",
       "      <td>0.0</td>\n",
       "      <td>0.0</td>\n",
       "      <td>NaN</td>\n",
       "      <td>2108.0</td>\n",
       "      <td>NaN</td>\n",
       "      <td>174.21</td>\n",
       "      <td>6037.0</td>\n",
       "    </tr>\n",
       "    <tr>\n",
       "      <th>4</th>\n",
       "      <td>4.0</td>\n",
       "      <td>2.0</td>\n",
       "      <td>3633.0</td>\n",
       "      <td>296425.0</td>\n",
       "      <td>2005.0</td>\n",
       "      <td>6941.39</td>\n",
       "      <td>6037.0</td>\n",
       "    </tr>\n",
       "    <tr>\n",
       "      <th>...</th>\n",
       "      <td>...</td>\n",
       "      <td>...</td>\n",
       "      <td>...</td>\n",
       "      <td>...</td>\n",
       "      <td>...</td>\n",
       "      <td>...</td>\n",
       "      <td>...</td>\n",
       "    </tr>\n",
       "    <tr>\n",
       "      <th>95</th>\n",
       "      <td>3.0</td>\n",
       "      <td>1.5</td>\n",
       "      <td>1698.0</td>\n",
       "      <td>286606.0</td>\n",
       "      <td>1979.0</td>\n",
       "      <td>2987.36</td>\n",
       "      <td>6111.0</td>\n",
       "    </tr>\n",
       "    <tr>\n",
       "      <th>96</th>\n",
       "      <td>3.0</td>\n",
       "      <td>1.0</td>\n",
       "      <td>1058.0</td>\n",
       "      <td>185908.0</td>\n",
       "      <td>1959.0</td>\n",
       "      <td>2764.58</td>\n",
       "      <td>6111.0</td>\n",
       "    </tr>\n",
       "    <tr>\n",
       "      <th>97</th>\n",
       "      <td>3.0</td>\n",
       "      <td>2.0</td>\n",
       "      <td>1688.0</td>\n",
       "      <td>285106.0</td>\n",
       "      <td>1958.0</td>\n",
       "      <td>3659.32</td>\n",
       "      <td>6111.0</td>\n",
       "    </tr>\n",
       "    <tr>\n",
       "      <th>98</th>\n",
       "      <td>3.0</td>\n",
       "      <td>2.0</td>\n",
       "      <td>1066.0</td>\n",
       "      <td>54684.0</td>\n",
       "      <td>1958.0</td>\n",
       "      <td>1260.60</td>\n",
       "      <td>6111.0</td>\n",
       "    </tr>\n",
       "    <tr>\n",
       "      <th>99</th>\n",
       "      <td>4.0</td>\n",
       "      <td>2.0</td>\n",
       "      <td>1800.0</td>\n",
       "      <td>75493.0</td>\n",
       "      <td>1962.0</td>\n",
       "      <td>814.82</td>\n",
       "      <td>6111.0</td>\n",
       "    </tr>\n",
       "  </tbody>\n",
       "</table>\n",
       "<p>100 rows × 7 columns</p>\n",
       "</div>"
      ],
      "text/plain": [
       "    bedroomcnt  bathroomcnt  calculatedfinishedsquarefeet  taxvaluedollarcnt  \\\n",
       "0          0.0          0.0                           NaN            27516.0   \n",
       "1          0.0          0.0                           NaN               10.0   \n",
       "2          0.0          0.0                           NaN               10.0   \n",
       "3          0.0          0.0                           NaN             2108.0   \n",
       "4          4.0          2.0                        3633.0           296425.0   \n",
       "..         ...          ...                           ...                ...   \n",
       "95         3.0          1.5                        1698.0           286606.0   \n",
       "96         3.0          1.0                        1058.0           185908.0   \n",
       "97         3.0          2.0                        1688.0           285106.0   \n",
       "98         3.0          2.0                        1066.0            54684.0   \n",
       "99         4.0          2.0                        1800.0            75493.0   \n",
       "\n",
       "    yearbuilt  taxamount    fips  \n",
       "0         NaN        NaN  6037.0  \n",
       "1         NaN        NaN  6037.0  \n",
       "2         NaN        NaN  6037.0  \n",
       "3         NaN     174.21  6037.0  \n",
       "4      2005.0    6941.39  6037.0  \n",
       "..        ...        ...     ...  \n",
       "95     1979.0    2987.36  6111.0  \n",
       "96     1959.0    2764.58  6111.0  \n",
       "97     1958.0    3659.32  6111.0  \n",
       "98     1958.0    1260.60  6111.0  \n",
       "99     1962.0     814.82  6111.0  \n",
       "\n",
       "[100 rows x 7 columns]"
      ]
     },
     "execution_count": 4,
     "metadata": {},
     "output_type": "execute_result"
    }
   ],
   "source": [
    "zillow_sample=pd.read_sql(query,url)\n",
    "zillow_sample"
   ]
  },
  {
   "cell_type": "code",
   "execution_count": 5,
   "id": "b27bf4cb",
   "metadata": {},
   "outputs": [],
   "source": [
    "def get_zillow_data():\n",
    "    filename = \"zillow.csv\"\n",
    "\n",
    "    if os.path.isfile(filename):\n",
    "\n",
    "        return pd.read_csv(filename, index_col=0)\n",
    "    else:\n",
    "        # Create the url\n",
    "        url = env.get_db_url('zillow')\n",
    "        \n",
    "        sql_query = '''\n",
    "            SELECT bedroomcnt, bathroomcnt, calculatedfinishedsquarefeet, \n",
    "            taxvaluedollarcnt, yearbuilt, taxamount, fips\n",
    "            FROM properties_2017\n",
    "            WHERE propertylandusetypeid = 261'''\n",
    "\n",
    "        # Read the SQL query into a dataframe\n",
    "        df = pd.read_sql(sql_query, url)\n",
    "\n",
    "        # Write that dataframe to disk for later. Called \"caching\" the data for later.\n",
    "        df.to_csv(filename)\n",
    "\n",
    "        # Return the dataframe to the calling code\n",
    "        return df"
   ]
  },
  {
   "cell_type": "code",
   "execution_count": 6,
   "id": "b2b24be2",
   "metadata": {},
   "outputs": [
    {
     "data": {
      "text/html": [
       "<div>\n",
       "<style scoped>\n",
       "    .dataframe tbody tr th:only-of-type {\n",
       "        vertical-align: middle;\n",
       "    }\n",
       "\n",
       "    .dataframe tbody tr th {\n",
       "        vertical-align: top;\n",
       "    }\n",
       "\n",
       "    .dataframe thead th {\n",
       "        text-align: right;\n",
       "    }\n",
       "</style>\n",
       "<table border=\"1\" class=\"dataframe\">\n",
       "  <thead>\n",
       "    <tr style=\"text-align: right;\">\n",
       "      <th></th>\n",
       "      <th>bedroomcnt</th>\n",
       "      <th>bathroomcnt</th>\n",
       "      <th>calculatedfinishedsquarefeet</th>\n",
       "      <th>taxvaluedollarcnt</th>\n",
       "      <th>yearbuilt</th>\n",
       "      <th>taxamount</th>\n",
       "      <th>fips</th>\n",
       "    </tr>\n",
       "  </thead>\n",
       "  <tbody>\n",
       "    <tr>\n",
       "      <th>0</th>\n",
       "      <td>0.0</td>\n",
       "      <td>0.0</td>\n",
       "      <td>NaN</td>\n",
       "      <td>27516.0</td>\n",
       "      <td>NaN</td>\n",
       "      <td>NaN</td>\n",
       "      <td>6037.0</td>\n",
       "    </tr>\n",
       "    <tr>\n",
       "      <th>1</th>\n",
       "      <td>0.0</td>\n",
       "      <td>0.0</td>\n",
       "      <td>NaN</td>\n",
       "      <td>10.0</td>\n",
       "      <td>NaN</td>\n",
       "      <td>NaN</td>\n",
       "      <td>6037.0</td>\n",
       "    </tr>\n",
       "    <tr>\n",
       "      <th>2</th>\n",
       "      <td>0.0</td>\n",
       "      <td>0.0</td>\n",
       "      <td>NaN</td>\n",
       "      <td>10.0</td>\n",
       "      <td>NaN</td>\n",
       "      <td>NaN</td>\n",
       "      <td>6037.0</td>\n",
       "    </tr>\n",
       "    <tr>\n",
       "      <th>3</th>\n",
       "      <td>0.0</td>\n",
       "      <td>0.0</td>\n",
       "      <td>NaN</td>\n",
       "      <td>2108.0</td>\n",
       "      <td>NaN</td>\n",
       "      <td>174.21</td>\n",
       "      <td>6037.0</td>\n",
       "    </tr>\n",
       "  </tbody>\n",
       "</table>\n",
       "</div>"
      ],
      "text/plain": [
       "   bedroomcnt  bathroomcnt  calculatedfinishedsquarefeet  taxvaluedollarcnt  \\\n",
       "0         0.0          0.0                           NaN            27516.0   \n",
       "1         0.0          0.0                           NaN               10.0   \n",
       "2         0.0          0.0                           NaN               10.0   \n",
       "3         0.0          0.0                           NaN             2108.0   \n",
       "\n",
       "   yearbuilt  taxamount    fips  \n",
       "0        NaN        NaN  6037.0  \n",
       "1        NaN        NaN  6037.0  \n",
       "2        NaN        NaN  6037.0  \n",
       "3        NaN     174.21  6037.0  "
      ]
     },
     "execution_count": 6,
     "metadata": {},
     "output_type": "execute_result"
    }
   ],
   "source": [
    "df=get_zillow_data()\n",
    "df.head(4)"
   ]
  },
  {
   "cell_type": "markdown",
   "id": "aaf02ad1",
   "metadata": {},
   "source": [
    "> 2)Using your acquired Zillow data,walk through the summarization and cleaning steps in your wrangle.ipynb file like we did above. You may handle the missing values however you feel is appropriate and meaningful; remember to document your process and decisions using markdown and code commenting where helpful."
   ]
  },
  {
   "cell_type": "code",
   "execution_count": 7,
   "id": "32b378f8",
   "metadata": {
    "scrolled": true
   },
   "outputs": [
    {
     "name": "stdout",
     "output_type": "stream",
     "text": [
      "<class 'pandas.core.frame.DataFrame'>\n",
      "Index: 2152863 entries, 0 to 2152862\n",
      "Data columns (total 7 columns):\n",
      " #   Column                        Dtype  \n",
      "---  ------                        -----  \n",
      " 0   bedroomcnt                    float64\n",
      " 1   bathroomcnt                   float64\n",
      " 2   calculatedfinishedsquarefeet  float64\n",
      " 3   taxvaluedollarcnt             float64\n",
      " 4   yearbuilt                     float64\n",
      " 5   taxamount                     float64\n",
      " 6   fips                          float64\n",
      "dtypes: float64(7)\n",
      "memory usage: 131.4 MB\n"
     ]
    }
   ],
   "source": [
    "df.info()"
   ]
  },
  {
   "cell_type": "code",
   "execution_count": 8,
   "id": "3a8c75bb",
   "metadata": {},
   "outputs": [
    {
     "name": "stdout",
     "output_type": "stream",
     "text": [
      "<class 'pandas.core.frame.DataFrame'>\n",
      "Index: 2152863 entries, 0 to 2152862\n",
      "Data columns (total 7 columns):\n",
      " #   Column                        Non-Null Count    Dtype  \n",
      "---  ------                        --------------    -----  \n",
      " 0   bedroomcnt                    2152852 non-null  float64\n",
      " 1   bathroomcnt                   2152852 non-null  float64\n",
      " 2   calculatedfinishedsquarefeet  2144379 non-null  float64\n",
      " 3   taxvaluedollarcnt             2152370 non-null  float64\n",
      " 4   yearbuilt                     2143526 non-null  float64\n",
      " 5   taxamount                     2148421 non-null  float64\n",
      " 6   fips                          2152863 non-null  float64\n",
      "dtypes: float64(7)\n",
      "memory usage: 131.4 MB\n"
     ]
    }
   ],
   "source": [
    "df.info(show_counts=True)"
   ]
  },
  {
   "cell_type": "code",
   "execution_count": 9,
   "id": "7106121e",
   "metadata": {},
   "outputs": [],
   "source": [
    "#let's make this more readable\n",
    "df = df.rename(columns={'bedroomcnt':'bedrooms',\n",
    "                  'bathroomcnt':'bathrooms',\n",
    "                  'calculatedfinishedsquarefeet':'area',\n",
    "                  'taxvaluedollarcnt':'property_value',\n",
    "                  'fips':'county'})"
   ]
  },
  {
   "cell_type": "code",
   "execution_count": 10,
   "id": "69cd00dc",
   "metadata": {},
   "outputs": [
    {
     "data": {
      "text/html": [
       "<div>\n",
       "<style scoped>\n",
       "    .dataframe tbody tr th:only-of-type {\n",
       "        vertical-align: middle;\n",
       "    }\n",
       "\n",
       "    .dataframe tbody tr th {\n",
       "        vertical-align: top;\n",
       "    }\n",
       "\n",
       "    .dataframe thead th {\n",
       "        text-align: right;\n",
       "    }\n",
       "</style>\n",
       "<table border=\"1\" class=\"dataframe\">\n",
       "  <thead>\n",
       "    <tr style=\"text-align: right;\">\n",
       "      <th></th>\n",
       "      <th>bedrooms</th>\n",
       "      <th>bathrooms</th>\n",
       "      <th>area</th>\n",
       "      <th>property_value</th>\n",
       "      <th>yearbuilt</th>\n",
       "      <th>taxamount</th>\n",
       "      <th>county</th>\n",
       "    </tr>\n",
       "  </thead>\n",
       "  <tbody>\n",
       "    <tr>\n",
       "      <th>0</th>\n",
       "      <td>0.0</td>\n",
       "      <td>0.0</td>\n",
       "      <td>NaN</td>\n",
       "      <td>27516.0</td>\n",
       "      <td>NaN</td>\n",
       "      <td>NaN</td>\n",
       "      <td>6037.0</td>\n",
       "    </tr>\n",
       "    <tr>\n",
       "      <th>1</th>\n",
       "      <td>0.0</td>\n",
       "      <td>0.0</td>\n",
       "      <td>NaN</td>\n",
       "      <td>10.0</td>\n",
       "      <td>NaN</td>\n",
       "      <td>NaN</td>\n",
       "      <td>6037.0</td>\n",
       "    </tr>\n",
       "    <tr>\n",
       "      <th>2</th>\n",
       "      <td>0.0</td>\n",
       "      <td>0.0</td>\n",
       "      <td>NaN</td>\n",
       "      <td>10.0</td>\n",
       "      <td>NaN</td>\n",
       "      <td>NaN</td>\n",
       "      <td>6037.0</td>\n",
       "    </tr>\n",
       "  </tbody>\n",
       "</table>\n",
       "</div>"
      ],
      "text/plain": [
       "   bedrooms  bathrooms  area  property_value  yearbuilt  taxamount  county\n",
       "0       0.0        0.0   NaN         27516.0        NaN        NaN  6037.0\n",
       "1       0.0        0.0   NaN            10.0        NaN        NaN  6037.0\n",
       "2       0.0        0.0   NaN            10.0        NaN        NaN  6037.0"
      ]
     },
     "execution_count": 10,
     "metadata": {},
     "output_type": "execute_result"
    }
   ],
   "source": [
    "df.head(3)"
   ]
  },
  {
   "cell_type": "code",
   "execution_count": 11,
   "id": "43df0e8b",
   "metadata": {},
   "outputs": [
    {
     "data": {
      "text/plain": [
       "(2152863, 7)"
      ]
     },
     "execution_count": 11,
     "metadata": {},
     "output_type": "execute_result"
    }
   ],
   "source": [
    "df.shape"
   ]
  },
  {
   "cell_type": "code",
   "execution_count": 12,
   "id": "ff3ed5fa",
   "metadata": {},
   "outputs": [
    {
     "data": {
      "text/plain": [
       "bedrooms            11\n",
       "bathrooms           11\n",
       "area              8484\n",
       "property_value     493\n",
       "yearbuilt         9337\n",
       "taxamount         4442\n",
       "county               0\n",
       "dtype: int64"
      ]
     },
     "execution_count": 12,
     "metadata": {},
     "output_type": "execute_result"
    }
   ],
   "source": [
    "# Find the total number of Null values in each column of our DataFrame.\n",
    "df.isnull().sum()"
   ]
  },
  {
   "cell_type": "code",
   "execution_count": 13,
   "id": "cddca1f5",
   "metadata": {},
   "outputs": [
    {
     "data": {
      "text/plain": [
       "['bedrooms',\n",
       " 'bathrooms',\n",
       " 'area',\n",
       " 'property_value',\n",
       " 'yearbuilt',\n",
       " 'taxamount',\n",
       " 'county']"
      ]
     },
     "execution_count": 13,
     "metadata": {},
     "output_type": "execute_result"
    }
   ],
   "source": [
    "# another way\n",
    "#let's turn our column values into a list\n",
    "col = df.columns.to_list()\n",
    "col"
   ]
  },
  {
   "cell_type": "code",
   "execution_count": 14,
   "id": "c7605d96",
   "metadata": {},
   "outputs": [
    {
     "data": {
      "text/plain": [
       "bedrooms            11\n",
       "bathrooms           11\n",
       "area              8484\n",
       "property_value     493\n",
       "yearbuilt         9337\n",
       "taxamount         4442\n",
       "county               0\n",
       "dtype: int64"
      ]
     },
     "execution_count": 14,
     "metadata": {},
     "output_type": "execute_result"
    }
   ],
   "source": [
    "#are we dealing with any nulls?\n",
    "num_missing = df[col].isna().sum()\n",
    "num_missing"
   ]
  },
  {
   "cell_type": "code",
   "execution_count": 15,
   "id": "d80da5b8",
   "metadata": {},
   "outputs": [
    {
     "data": {
      "text/plain": [
       "bedrooms          0.000005\n",
       "bathrooms         0.000005\n",
       "area              0.003941\n",
       "property_value    0.000229\n",
       "yearbuilt         0.004337\n",
       "taxamount         0.002063\n",
       "county            0.000000\n",
       "dtype: float64"
      ]
     },
     "execution_count": 15,
     "metadata": {},
     "output_type": "execute_result"
    }
   ],
   "source": [
    "#what percent of my entire dataset is this?\n",
    "pct_missing = num_missing / df.shape[0]\n",
    "pct_missing"
   ]
  },
  {
   "cell_type": "markdown",
   "id": "c211f44c",
   "metadata": {},
   "source": [
    "<div class='alert alert-block alert-success'>\n",
    "NOTE:\n",
    "\n",
    "\n",
    "* bedrooms and bathrooms is less than .001% null\n",
    "\n",
    "* area is 0.4% null\n",
    "\n",
    "* tax_value is 0.02% null\n",
    "\n",
    "* year_built is 0.4% null\n",
    "\n",
    "* taxamount is 0.2% null\n",
    "\n",
    "Therefore, dropping our nulls would be our best bet in this case.\n",
    "</div class='alert alert-block alert-success'>"
   ]
  },
  {
   "cell_type": "code",
   "execution_count": 16,
   "id": "a44ecca8",
   "metadata": {},
   "outputs": [],
   "source": [
    "#let's drop those null values\n",
    "df = df.dropna()"
   ]
  },
  {
   "cell_type": "code",
   "execution_count": 17,
   "id": "14eea2de",
   "metadata": {},
   "outputs": [
    {
     "data": {
      "text/plain": [
       "bedrooms          0\n",
       "bathrooms         0\n",
       "area              0\n",
       "property_value    0\n",
       "yearbuilt         0\n",
       "taxamount         0\n",
       "county            0\n",
       "dtype: int64"
      ]
     },
     "execution_count": 17,
     "metadata": {},
     "output_type": "execute_result"
    }
   ],
   "source": [
    "#confirm our changes were made\n",
    "df.isnull().sum()"
   ]
  },
  {
   "cell_type": "code",
   "execution_count": 18,
   "id": "7ce9e304",
   "metadata": {},
   "outputs": [
    {
     "data": {
      "text/plain": [
       "bedrooms          float64\n",
       "bathrooms         float64\n",
       "area              float64\n",
       "property_value    float64\n",
       "yearbuilt         float64\n",
       "taxamount         float64\n",
       "county            float64\n",
       "dtype: object"
      ]
     },
     "execution_count": 18,
     "metadata": {},
     "output_type": "execute_result"
    }
   ],
   "source": [
    "df.dtypes"
   ]
  },
  {
   "cell_type": "code",
   "execution_count": 19,
   "id": "ba71251e",
   "metadata": {},
   "outputs": [
    {
     "data": {
      "text/html": [
       "<div>\n",
       "<style scoped>\n",
       "    .dataframe tbody tr th:only-of-type {\n",
       "        vertical-align: middle;\n",
       "    }\n",
       "\n",
       "    .dataframe tbody tr th {\n",
       "        vertical-align: top;\n",
       "    }\n",
       "\n",
       "    .dataframe thead th {\n",
       "        text-align: right;\n",
       "    }\n",
       "</style>\n",
       "<table border=\"1\" class=\"dataframe\">\n",
       "  <thead>\n",
       "    <tr style=\"text-align: right;\">\n",
       "      <th></th>\n",
       "      <th>bedrooms</th>\n",
       "      <th>bathrooms</th>\n",
       "      <th>area</th>\n",
       "      <th>property_value</th>\n",
       "      <th>yearbuilt</th>\n",
       "      <th>taxamount</th>\n",
       "      <th>county</th>\n",
       "    </tr>\n",
       "  </thead>\n",
       "  <tbody>\n",
       "    <tr>\n",
       "      <th>4</th>\n",
       "      <td>4.0</td>\n",
       "      <td>2.0</td>\n",
       "      <td>3633.0</td>\n",
       "      <td>296425.0</td>\n",
       "      <td>2005.0</td>\n",
       "      <td>6941.39</td>\n",
       "      <td>6037.0</td>\n",
       "    </tr>\n",
       "    <tr>\n",
       "      <th>6</th>\n",
       "      <td>3.0</td>\n",
       "      <td>4.0</td>\n",
       "      <td>1620.0</td>\n",
       "      <td>847770.0</td>\n",
       "      <td>2011.0</td>\n",
       "      <td>10244.94</td>\n",
       "      <td>6037.0</td>\n",
       "    </tr>\n",
       "    <tr>\n",
       "      <th>7</th>\n",
       "      <td>3.0</td>\n",
       "      <td>2.0</td>\n",
       "      <td>2077.0</td>\n",
       "      <td>646760.0</td>\n",
       "      <td>1926.0</td>\n",
       "      <td>7924.68</td>\n",
       "      <td>6037.0</td>\n",
       "    </tr>\n",
       "    <tr>\n",
       "      <th>11</th>\n",
       "      <td>0.0</td>\n",
       "      <td>0.0</td>\n",
       "      <td>1200.0</td>\n",
       "      <td>5328.0</td>\n",
       "      <td>1972.0</td>\n",
       "      <td>91.60</td>\n",
       "      <td>6037.0</td>\n",
       "    </tr>\n",
       "    <tr>\n",
       "      <th>14</th>\n",
       "      <td>0.0</td>\n",
       "      <td>0.0</td>\n",
       "      <td>171.0</td>\n",
       "      <td>6920.0</td>\n",
       "      <td>1973.0</td>\n",
       "      <td>255.17</td>\n",
       "      <td>6037.0</td>\n",
       "    </tr>\n",
       "  </tbody>\n",
       "</table>\n",
       "</div>"
      ],
      "text/plain": [
       "    bedrooms  bathrooms    area  property_value  yearbuilt  taxamount  county\n",
       "4        4.0        2.0  3633.0        296425.0     2005.0    6941.39  6037.0\n",
       "6        3.0        4.0  1620.0        847770.0     2011.0   10244.94  6037.0\n",
       "7        3.0        2.0  2077.0        646760.0     1926.0    7924.68  6037.0\n",
       "11       0.0        0.0  1200.0          5328.0     1972.0      91.60  6037.0\n",
       "14       0.0        0.0   171.0          6920.0     1973.0     255.17  6037.0"
      ]
     },
     "execution_count": 19,
     "metadata": {},
     "output_type": "execute_result"
    }
   ],
   "source": [
    "df.head()"
   ]
  },
  {
   "cell_type": "code",
   "execution_count": 20,
   "id": "2c3c5ba2",
   "metadata": {
    "scrolled": false
   },
   "outputs": [
    {
     "name": "stdout",
     "output_type": "stream",
     "text": [
      "bedrooms\n",
      "bedrooms\n",
      "0.0       4397\n",
      "1.0      22895\n",
      "2.0     334221\n",
      "3.0     962944\n",
      "4.0     633608\n",
      "5.0     150671\n",
      "6.0      25117\n",
      "7.0       4792\n",
      "8.0       1103\n",
      "9.0        290\n",
      "10.0       118\n",
      "11.0        34\n",
      "12.0        12\n",
      "13.0        15\n",
      "14.0         7\n",
      "15.0         5\n",
      "16.0         2\n",
      "18.0         3\n",
      "25.0         1\n",
      "Name: count, dtype: int64\n",
      "\n",
      "bathrooms\n",
      "bathrooms\n",
      "0.00       4274\n",
      "0.50         16\n",
      "1.00     412582\n",
      "1.50      31157\n",
      "1.75          3\n",
      "2.00     942463\n",
      "2.50     142827\n",
      "3.00     422398\n",
      "3.50      28464\n",
      "4.00      82039\n",
      "4.50      19474\n",
      "5.00      28306\n",
      "5.50       6201\n",
      "6.00      10717\n",
      "6.50       1330\n",
      "7.00       4381\n",
      "7.50        382\n",
      "8.00       1681\n",
      "8.50        108\n",
      "9.00        707\n",
      "9.50         50\n",
      "10.00       322\n",
      "10.50        14\n",
      "11.00       145\n",
      "11.50         3\n",
      "12.00        73\n",
      "12.50         3\n",
      "13.00        39\n",
      "14.00        25\n",
      "14.50         1\n",
      "15.00        17\n",
      "16.00        12\n",
      "17.00         4\n",
      "18.00         8\n",
      "19.00         1\n",
      "19.50         1\n",
      "20.00         6\n",
      "32.00         1\n",
      "Name: count, dtype: int64\n",
      "\n",
      "area\n",
      "area\n",
      "1.0         6\n",
      "2.0         2\n",
      "3.0         7\n",
      "7.0         1\n",
      "10.0        2\n",
      "           ..\n",
      "52503.0     1\n",
      "59220.0     1\n",
      "63692.0     1\n",
      "531118.0    1\n",
      "952576.0    1\n",
      "Name: count, Length: 10557, dtype: int64\n",
      "\n",
      "property_value\n",
      "property_value\n",
      "22.0          10\n",
      "23.0           6\n",
      "31.0           1\n",
      "46.0           1\n",
      "101.0          1\n",
      "              ..\n",
      "70416358.0     1\n",
      "71067500.0     1\n",
      "83196095.0     1\n",
      "88020448.0     1\n",
      "90188462.0     1\n",
      "Name: count, Length: 588178, dtype: int64\n",
      "\n",
      "yearbuilt\n",
      "yearbuilt\n",
      "1801.0       3\n",
      "1807.0       1\n",
      "1812.0       2\n",
      "1823.0       1\n",
      "1833.0       1\n",
      "          ... \n",
      "2012.0    3431\n",
      "2013.0    4768\n",
      "2014.0    4706\n",
      "2015.0    3551\n",
      "2016.0      97\n",
      "Name: count, Length: 153, dtype: int64\n",
      "\n",
      "taxamount\n",
      "taxamount\n",
      "6.34          1\n",
      "13.36         4\n",
      "13.44         1\n",
      "13.47         4\n",
      "13.48         1\n",
      "             ..\n",
      "824166.91     1\n",
      "841059.04     1\n",
      "994030.96     1\n",
      "1052070.50    1\n",
      "1078101.87    1\n",
      "Name: count, Length: 915868, dtype: int64\n",
      "\n",
      "county\n",
      "county\n",
      "6037.0    1425207\n",
      "6059.0     552057\n",
      "6111.0     162971\n",
      "Name: count, dtype: int64\n",
      "\n"
     ]
    }
   ],
   "source": [
    "#confirm whole numbers\n",
    "for col in df.columns:\n",
    "    print(col)\n",
    "    print(df[col].value_counts().sort_index())\n",
    "    print()"
   ]
  },
  {
   "cell_type": "code",
   "execution_count": 21,
   "id": "2170ac34",
   "metadata": {},
   "outputs": [
    {
     "data": {
      "text/plain": [
       "True"
      ]
     },
     "execution_count": 21,
     "metadata": {},
     "output_type": "execute_result"
    }
   ],
   "source": [
    "#possibly an easier way to do this... create a lamda function\n",
    "#let's see if there are any fractions in bathrooms\n",
    "has_non_zero_decimal = df['bathrooms'].apply(lambda x: x % 1 != 0)\n",
    "has_non_zero_decimal.any()"
   ]
  },
  {
   "cell_type": "code",
   "execution_count": 22,
   "id": "5d7fda52",
   "metadata": {},
   "outputs": [
    {
     "data": {
      "text/plain": [
       "230034"
      ]
     },
     "execution_count": 22,
     "metadata": {},
     "output_type": "execute_result"
    }
   ],
   "source": [
    "#how many?\n",
    "has_non_zero_decimal.sum()"
   ]
  },
  {
   "cell_type": "code",
   "execution_count": 23,
   "id": "5c2e91ef",
   "metadata": {},
   "outputs": [
    {
     "data": {
      "text/plain": [
       "0"
      ]
     },
     "execution_count": 23,
     "metadata": {},
     "output_type": "execute_result"
    }
   ],
   "source": [
    "#what about bedrooms?\n",
    "has_non_zero_decimal = df['bedrooms'].apply(lambda x: x % 1 != 0)\n",
    "has_non_zero_decimal.sum()"
   ]
  },
  {
   "cell_type": "code",
   "execution_count": 24,
   "id": "c4b1512e",
   "metadata": {},
   "outputs": [
    {
     "name": "stdout",
     "output_type": "stream",
     "text": [
      "Count of Non-Zero Decimal Places in Each Column:\n",
      "bedrooms: 0\n",
      "bathrooms: 230034\n",
      "area: 0\n",
      "property_value: 0\n",
      "yearbuilt: 0\n",
      "taxamount: 2111620\n",
      "county: 0\n"
     ]
    }
   ],
   "source": [
    "#put it all together for all the columns \n",
    "##so we can make sure those floats should be integers\n",
    "\n",
    "#include these columns\n",
    "columns_to_check = ['bedrooms', 'bathrooms', 'area', 'property_value', 'yearbuilt', 'taxamount', 'county']\n",
    "\n",
    "# create a dictionary to store the count of non-zero decimal places for each column\n",
    "count_of_non_zero_decimal = {}\n",
    "\n",
    "# iterate through columns and check for non-zero decimal places\n",
    "for column in columns_to_check:\n",
    "    has_non_zero_decimal = (df[column] % 1 != 0).sum()\n",
    "    \n",
    "    # store the count in the dictionary\n",
    "    count_of_non_zero_decimal[column] = has_non_zero_decimal\n",
    "\n",
    "# display the count of non-zero decimal places for each column\n",
    "print(\"Count of Non-Zero Decimal Places in Each Column:\")\n",
    "for column, count in count_of_non_zero_decimal.items():\n",
    "    print(f\"{column}: {count}\")"
   ]
  },
  {
   "cell_type": "markdown",
   "id": "5970fdd3",
   "metadata": {},
   "source": [
    "<div class='alert alert-block alert-success'>\n",
    "NOTE:\n",
    "It looks like several of these features can be changed to integers\n",
    "\n",
    "* bedrooms (can't have a fraction of a bedroom)\n",
    "\n",
    "* area (all appear to be whole numbers)\n",
    "\n",
    "* property_value (all appear to be whole numbers)\n",
    "\n",
    "* yearbuilt (can't have a fraction of a year)\n",
    "\n",
    "* county (can't have a fraction of a county)\n",
    "</div class='alert alert-block alert-success'>"
   ]
  },
  {
   "cell_type": "code",
   "execution_count": 25,
   "id": "1eae9319",
   "metadata": {},
   "outputs": [],
   "source": [
    "#columns we want to be integers\n",
    "make_ints = ['bedrooms','area','property_value','yearbuilt','county']\n",
    "\n",
    "#look through them to change the datatype\n",
    "for col in make_ints:\n",
    "    df[col] = df[col].astype(int)"
   ]
  },
  {
   "cell_type": "code",
   "execution_count": 26,
   "id": "9ec2e020",
   "metadata": {},
   "outputs": [
    {
     "data": {
      "text/plain": [
       "bedrooms            int64\n",
       "bathrooms         float64\n",
       "area                int64\n",
       "property_value      int64\n",
       "yearbuilt           int64\n",
       "taxamount         float64\n",
       "county              int64\n",
       "dtype: object"
      ]
     },
     "execution_count": 26,
     "metadata": {},
     "output_type": "execute_result"
    }
   ],
   "source": [
    "df.dtypes"
   ]
  },
  {
   "cell_type": "code",
   "execution_count": 27,
   "id": "e28c4afa",
   "metadata": {},
   "outputs": [
    {
     "data": {
      "text/html": [
       "<div>\n",
       "<style scoped>\n",
       "    .dataframe tbody tr th:only-of-type {\n",
       "        vertical-align: middle;\n",
       "    }\n",
       "\n",
       "    .dataframe tbody tr th {\n",
       "        vertical-align: top;\n",
       "    }\n",
       "\n",
       "    .dataframe thead th {\n",
       "        text-align: right;\n",
       "    }\n",
       "</style>\n",
       "<table border=\"1\" class=\"dataframe\">\n",
       "  <thead>\n",
       "    <tr style=\"text-align: right;\">\n",
       "      <th></th>\n",
       "      <th>bedrooms</th>\n",
       "      <th>bathrooms</th>\n",
       "      <th>area</th>\n",
       "      <th>property_value</th>\n",
       "      <th>yearbuilt</th>\n",
       "      <th>taxamount</th>\n",
       "      <th>county</th>\n",
       "    </tr>\n",
       "  </thead>\n",
       "  <tbody>\n",
       "    <tr>\n",
       "      <th>4</th>\n",
       "      <td>4</td>\n",
       "      <td>2.0</td>\n",
       "      <td>3633</td>\n",
       "      <td>296425</td>\n",
       "      <td>2005</td>\n",
       "      <td>6941.39</td>\n",
       "      <td>6037</td>\n",
       "    </tr>\n",
       "    <tr>\n",
       "      <th>6</th>\n",
       "      <td>3</td>\n",
       "      <td>4.0</td>\n",
       "      <td>1620</td>\n",
       "      <td>847770</td>\n",
       "      <td>2011</td>\n",
       "      <td>10244.94</td>\n",
       "      <td>6037</td>\n",
       "    </tr>\n",
       "    <tr>\n",
       "      <th>7</th>\n",
       "      <td>3</td>\n",
       "      <td>2.0</td>\n",
       "      <td>2077</td>\n",
       "      <td>646760</td>\n",
       "      <td>1926</td>\n",
       "      <td>7924.68</td>\n",
       "      <td>6037</td>\n",
       "    </tr>\n",
       "    <tr>\n",
       "      <th>11</th>\n",
       "      <td>0</td>\n",
       "      <td>0.0</td>\n",
       "      <td>1200</td>\n",
       "      <td>5328</td>\n",
       "      <td>1972</td>\n",
       "      <td>91.60</td>\n",
       "      <td>6037</td>\n",
       "    </tr>\n",
       "    <tr>\n",
       "      <th>14</th>\n",
       "      <td>0</td>\n",
       "      <td>0.0</td>\n",
       "      <td>171</td>\n",
       "      <td>6920</td>\n",
       "      <td>1973</td>\n",
       "      <td>255.17</td>\n",
       "      <td>6037</td>\n",
       "    </tr>\n",
       "  </tbody>\n",
       "</table>\n",
       "</div>"
      ],
      "text/plain": [
       "    bedrooms  bathrooms  area  property_value  yearbuilt  taxamount  county\n",
       "4          4        2.0  3633          296425       2005    6941.39    6037\n",
       "6          3        4.0  1620          847770       2011   10244.94    6037\n",
       "7          3        2.0  2077          646760       1926    7924.68    6037\n",
       "11         0        0.0  1200            5328       1972      91.60    6037\n",
       "14         0        0.0   171            6920       1973     255.17    6037"
      ]
     },
     "execution_count": 27,
     "metadata": {},
     "output_type": "execute_result"
    }
   ],
   "source": [
    "#take a look\n",
    "df.head()"
   ]
  },
  {
   "cell_type": "markdown",
   "id": "0d6c3f6b",
   "metadata": {},
   "source": [
    "<div class='alert alert-block alert-success'>\n",
    "NOTE:\n",
    "Fips is another feature we want to investigate\n",
    "\n",
    "* 6037: LA\n",
    "* 6059: Orange County\n",
    "* 6111: Ventura County\n",
    "</div class='alert alert-block alert-success'>"
   ]
  },
  {
   "cell_type": "code",
   "execution_count": 28,
   "id": "afa6d15e",
   "metadata": {},
   "outputs": [
    {
     "data": {
      "text/plain": [
       "county\n",
       "6037    1425207\n",
       "6059     552057\n",
       "6111     162971\n",
       "Name: count, dtype: int64"
      ]
     },
     "execution_count": 28,
     "metadata": {},
     "output_type": "execute_result"
    }
   ],
   "source": [
    "df.county.value_counts()"
   ]
  },
  {
   "cell_type": "code",
   "execution_count": 29,
   "id": "ed508452",
   "metadata": {},
   "outputs": [],
   "source": [
    "#rename those columns\n",
    "df.county = df.county.map({6037:'LA',6059:'Orange',6111:'Ventura'})"
   ]
  },
  {
   "cell_type": "code",
   "execution_count": 30,
   "id": "7598ace2",
   "metadata": {},
   "outputs": [
    {
     "data": {
      "text/html": [
       "<div>\n",
       "<style scoped>\n",
       "    .dataframe tbody tr th:only-of-type {\n",
       "        vertical-align: middle;\n",
       "    }\n",
       "\n",
       "    .dataframe tbody tr th {\n",
       "        vertical-align: top;\n",
       "    }\n",
       "\n",
       "    .dataframe thead th {\n",
       "        text-align: right;\n",
       "    }\n",
       "</style>\n",
       "<table border=\"1\" class=\"dataframe\">\n",
       "  <thead>\n",
       "    <tr style=\"text-align: right;\">\n",
       "      <th></th>\n",
       "      <th>bedrooms</th>\n",
       "      <th>bathrooms</th>\n",
       "      <th>area</th>\n",
       "      <th>property_value</th>\n",
       "      <th>yearbuilt</th>\n",
       "      <th>taxamount</th>\n",
       "      <th>county</th>\n",
       "    </tr>\n",
       "  </thead>\n",
       "  <tbody>\n",
       "    <tr>\n",
       "      <th>911895</th>\n",
       "      <td>2</td>\n",
       "      <td>2.0</td>\n",
       "      <td>1209</td>\n",
       "      <td>636853</td>\n",
       "      <td>1957</td>\n",
       "      <td>7491.46</td>\n",
       "      <td>LA</td>\n",
       "    </tr>\n",
       "    <tr>\n",
       "      <th>342499</th>\n",
       "      <td>2</td>\n",
       "      <td>1.5</td>\n",
       "      <td>1842</td>\n",
       "      <td>455635</td>\n",
       "      <td>1955</td>\n",
       "      <td>5340.56</td>\n",
       "      <td>Orange</td>\n",
       "    </tr>\n",
       "    <tr>\n",
       "      <th>1346722</th>\n",
       "      <td>4</td>\n",
       "      <td>2.0</td>\n",
       "      <td>1471</td>\n",
       "      <td>455632</td>\n",
       "      <td>1962</td>\n",
       "      <td>5270.74</td>\n",
       "      <td>Ventura</td>\n",
       "    </tr>\n",
       "    <tr>\n",
       "      <th>1305202</th>\n",
       "      <td>3</td>\n",
       "      <td>3.0</td>\n",
       "      <td>2888</td>\n",
       "      <td>778000</td>\n",
       "      <td>1981</td>\n",
       "      <td>9533.11</td>\n",
       "      <td>LA</td>\n",
       "    </tr>\n",
       "    <tr>\n",
       "      <th>271739</th>\n",
       "      <td>4</td>\n",
       "      <td>2.0</td>\n",
       "      <td>1714</td>\n",
       "      <td>155328</td>\n",
       "      <td>1990</td>\n",
       "      <td>2764.31</td>\n",
       "      <td>LA</td>\n",
       "    </tr>\n",
       "    <tr>\n",
       "      <th>1475853</th>\n",
       "      <td>4</td>\n",
       "      <td>2.5</td>\n",
       "      <td>1954</td>\n",
       "      <td>287212</td>\n",
       "      <td>1965</td>\n",
       "      <td>3460.08</td>\n",
       "      <td>Ventura</td>\n",
       "    </tr>\n",
       "    <tr>\n",
       "      <th>849636</th>\n",
       "      <td>4</td>\n",
       "      <td>3.0</td>\n",
       "      <td>3042</td>\n",
       "      <td>938542</td>\n",
       "      <td>1997</td>\n",
       "      <td>9778.20</td>\n",
       "      <td>Orange</td>\n",
       "    </tr>\n",
       "    <tr>\n",
       "      <th>754931</th>\n",
       "      <td>3</td>\n",
       "      <td>1.0</td>\n",
       "      <td>981</td>\n",
       "      <td>292288</td>\n",
       "      <td>1947</td>\n",
       "      <td>3608.84</td>\n",
       "      <td>LA</td>\n",
       "    </tr>\n",
       "  </tbody>\n",
       "</table>\n",
       "</div>"
      ],
      "text/plain": [
       "         bedrooms  bathrooms  area  property_value  yearbuilt  taxamount  \\\n",
       "911895          2        2.0  1209          636853       1957    7491.46   \n",
       "342499          2        1.5  1842          455635       1955    5340.56   \n",
       "1346722         4        2.0  1471          455632       1962    5270.74   \n",
       "1305202         3        3.0  2888          778000       1981    9533.11   \n",
       "271739          4        2.0  1714          155328       1990    2764.31   \n",
       "1475853         4        2.5  1954          287212       1965    3460.08   \n",
       "849636          4        3.0  3042          938542       1997    9778.20   \n",
       "754931          3        1.0   981          292288       1947    3608.84   \n",
       "\n",
       "          county  \n",
       "911895        LA  \n",
       "342499    Orange  \n",
       "1346722  Ventura  \n",
       "1305202       LA  \n",
       "271739        LA  \n",
       "1475853  Ventura  \n",
       "849636    Orange  \n",
       "754931        LA  "
      ]
     },
     "execution_count": 30,
     "metadata": {},
     "output_type": "execute_result"
    }
   ],
   "source": [
    "df.sample(8)"
   ]
  },
  {
   "cell_type": "markdown",
   "id": "6cf7ae24",
   "metadata": {},
   "source": [
    "> 4. Store all of the necessary functions to automate your process from acquiring the data to returning a cleaned dataframe with no missing values in your wrangle.py file. Name your final function wrangle_zillow ."
   ]
  },
  {
   "cell_type": "code",
   "execution_count": 31,
   "id": "fda3e772",
   "metadata": {},
   "outputs": [],
   "source": [
    "def prep_zillow(df):\n",
    "    '''\n",
    "    This function takes in a dataframe\n",
    "    renames the columns and drops nulls values\n",
    "    Additionally it changes datatypes for appropriate columns\n",
    "    and renames fips to actual county names.\n",
    "    Then returns a cleaned dataframe\n",
    "    '''\n",
    "    df = df.rename(columns = {'bedroomcnt':'bedrooms',\n",
    "                     'bathroomcnt':'bathrooms',\n",
    "                     'calculatedfinishedsquarefeet':'area',\n",
    "                     'taxvaluedollarcnt':'property_value',\n",
    "                     'fips':'county'})\n",
    "    \n",
    "    df = df.dropna()\n",
    "    \n",
    "    make_ints = ['bedrooms','area','property_value','yearbuilt']\n",
    "\n",
    "    for col in make_ints:\n",
    "        df[col] = df[col].astype(int)\n",
    "        \n",
    "    df.county = df.county.map({6037:'LA',6059:'Orange',6111:'Ventura'})\n",
    "    \n",
    "    return df\n"
   ]
  },
  {
   "cell_type": "code",
   "execution_count": 32,
   "id": "a72c9dd9",
   "metadata": {},
   "outputs": [
    {
     "data": {
      "text/html": [
       "<div>\n",
       "<style scoped>\n",
       "    .dataframe tbody tr th:only-of-type {\n",
       "        vertical-align: middle;\n",
       "    }\n",
       "\n",
       "    .dataframe tbody tr th {\n",
       "        vertical-align: top;\n",
       "    }\n",
       "\n",
       "    .dataframe thead th {\n",
       "        text-align: right;\n",
       "    }\n",
       "</style>\n",
       "<table border=\"1\" class=\"dataframe\">\n",
       "  <thead>\n",
       "    <tr style=\"text-align: right;\">\n",
       "      <th></th>\n",
       "      <th>bedroomcnt</th>\n",
       "      <th>bathroomcnt</th>\n",
       "      <th>calculatedfinishedsquarefeet</th>\n",
       "      <th>taxvaluedollarcnt</th>\n",
       "      <th>yearbuilt</th>\n",
       "      <th>taxamount</th>\n",
       "      <th>fips</th>\n",
       "    </tr>\n",
       "  </thead>\n",
       "  <tbody>\n",
       "    <tr>\n",
       "      <th>1319594</th>\n",
       "      <td>3.0</td>\n",
       "      <td>3.0</td>\n",
       "      <td>1487.0</td>\n",
       "      <td>223817.0</td>\n",
       "      <td>1937.0</td>\n",
       "      <td>2789.92</td>\n",
       "      <td>6037.0</td>\n",
       "    </tr>\n",
       "    <tr>\n",
       "      <th>1658182</th>\n",
       "      <td>4.0</td>\n",
       "      <td>2.0</td>\n",
       "      <td>1635.0</td>\n",
       "      <td>386716.0</td>\n",
       "      <td>1965.0</td>\n",
       "      <td>4083.20</td>\n",
       "      <td>6111.0</td>\n",
       "    </tr>\n",
       "    <tr>\n",
       "      <th>1322595</th>\n",
       "      <td>4.0</td>\n",
       "      <td>2.5</td>\n",
       "      <td>2334.0</td>\n",
       "      <td>721842.0</td>\n",
       "      <td>1974.0</td>\n",
       "      <td>8165.76</td>\n",
       "      <td>6059.0</td>\n",
       "    </tr>\n",
       "    <tr>\n",
       "      <th>891113</th>\n",
       "      <td>4.0</td>\n",
       "      <td>3.0</td>\n",
       "      <td>2042.0</td>\n",
       "      <td>437938.0</td>\n",
       "      <td>1957.0</td>\n",
       "      <td>5422.40</td>\n",
       "      <td>6059.0</td>\n",
       "    </tr>\n",
       "  </tbody>\n",
       "</table>\n",
       "</div>"
      ],
      "text/plain": [
       "         bedroomcnt  bathroomcnt  calculatedfinishedsquarefeet  \\\n",
       "1319594         3.0          3.0                        1487.0   \n",
       "1658182         4.0          2.0                        1635.0   \n",
       "1322595         4.0          2.5                        2334.0   \n",
       "891113          4.0          3.0                        2042.0   \n",
       "\n",
       "         taxvaluedollarcnt  yearbuilt  taxamount    fips  \n",
       "1319594           223817.0     1937.0    2789.92  6037.0  \n",
       "1658182           386716.0     1965.0    4083.20  6111.0  \n",
       "1322595           721842.0     1974.0    8165.76  6059.0  \n",
       "891113            437938.0     1957.0    5422.40  6059.0  "
      ]
     },
     "execution_count": 32,
     "metadata": {},
     "output_type": "execute_result"
    }
   ],
   "source": [
    "df_fresh=get_zillow_data()\n",
    "df_fresh.sample(4)"
   ]
  },
  {
   "cell_type": "code",
   "execution_count": 33,
   "id": "8e376ad6",
   "metadata": {},
   "outputs": [
    {
     "data": {
      "text/html": [
       "<div>\n",
       "<style scoped>\n",
       "    .dataframe tbody tr th:only-of-type {\n",
       "        vertical-align: middle;\n",
       "    }\n",
       "\n",
       "    .dataframe tbody tr th {\n",
       "        vertical-align: top;\n",
       "    }\n",
       "\n",
       "    .dataframe thead th {\n",
       "        text-align: right;\n",
       "    }\n",
       "</style>\n",
       "<table border=\"1\" class=\"dataframe\">\n",
       "  <thead>\n",
       "    <tr style=\"text-align: right;\">\n",
       "      <th></th>\n",
       "      <th>bedrooms</th>\n",
       "      <th>bathrooms</th>\n",
       "      <th>area</th>\n",
       "      <th>property_value</th>\n",
       "      <th>yearbuilt</th>\n",
       "      <th>taxamount</th>\n",
       "      <th>county</th>\n",
       "    </tr>\n",
       "  </thead>\n",
       "  <tbody>\n",
       "    <tr>\n",
       "      <th>717547</th>\n",
       "      <td>4</td>\n",
       "      <td>3.0</td>\n",
       "      <td>2690</td>\n",
       "      <td>346263</td>\n",
       "      <td>1984</td>\n",
       "      <td>4337.13</td>\n",
       "      <td>LA</td>\n",
       "    </tr>\n",
       "    <tr>\n",
       "      <th>309442</th>\n",
       "      <td>3</td>\n",
       "      <td>5.0</td>\n",
       "      <td>2637</td>\n",
       "      <td>617409</td>\n",
       "      <td>1957</td>\n",
       "      <td>7306.48</td>\n",
       "      <td>Orange</td>\n",
       "    </tr>\n",
       "    <tr>\n",
       "      <th>661891</th>\n",
       "      <td>3</td>\n",
       "      <td>1.0</td>\n",
       "      <td>1482</td>\n",
       "      <td>372000</td>\n",
       "      <td>1931</td>\n",
       "      <td>4869.93</td>\n",
       "      <td>LA</td>\n",
       "    </tr>\n",
       "    <tr>\n",
       "      <th>353311</th>\n",
       "      <td>3</td>\n",
       "      <td>2.0</td>\n",
       "      <td>1946</td>\n",
       "      <td>271146</td>\n",
       "      <td>1969</td>\n",
       "      <td>3296.22</td>\n",
       "      <td>Orange</td>\n",
       "    </tr>\n",
       "  </tbody>\n",
       "</table>\n",
       "</div>"
      ],
      "text/plain": [
       "        bedrooms  bathrooms  area  property_value  yearbuilt  taxamount  \\\n",
       "717547         4        3.0  2690          346263       1984    4337.13   \n",
       "309442         3        5.0  2637          617409       1957    7306.48   \n",
       "661891         3        1.0  1482          372000       1931    4869.93   \n",
       "353311         3        2.0  1946          271146       1969    3296.22   \n",
       "\n",
       "        county  \n",
       "717547      LA  \n",
       "309442  Orange  \n",
       "661891      LA  \n",
       "353311  Orange  "
      ]
     },
     "execution_count": 33,
     "metadata": {},
     "output_type": "execute_result"
    }
   ],
   "source": [
    "df_fresh=prep_zillow(df_fresh)\n",
    "df_fresh.sample(4)"
   ]
  },
  {
   "cell_type": "code",
   "execution_count": 34,
   "id": "fc0e1c29",
   "metadata": {},
   "outputs": [
    {
     "data": {
      "text/html": [
       "<div>\n",
       "<style scoped>\n",
       "    .dataframe tbody tr th:only-of-type {\n",
       "        vertical-align: middle;\n",
       "    }\n",
       "\n",
       "    .dataframe tbody tr th {\n",
       "        vertical-align: top;\n",
       "    }\n",
       "\n",
       "    .dataframe thead th {\n",
       "        text-align: right;\n",
       "    }\n",
       "</style>\n",
       "<table border=\"1\" class=\"dataframe\">\n",
       "  <thead>\n",
       "    <tr style=\"text-align: right;\">\n",
       "      <th></th>\n",
       "      <th>bedrooms</th>\n",
       "      <th>bathrooms</th>\n",
       "      <th>area</th>\n",
       "      <th>property_value</th>\n",
       "      <th>yearbuilt</th>\n",
       "      <th>taxamount</th>\n",
       "      <th>county</th>\n",
       "    </tr>\n",
       "  </thead>\n",
       "  <tbody>\n",
       "    <tr>\n",
       "      <th>4</th>\n",
       "      <td>4</td>\n",
       "      <td>2.0</td>\n",
       "      <td>3633</td>\n",
       "      <td>296425</td>\n",
       "      <td>2005</td>\n",
       "      <td>6941.39</td>\n",
       "      <td>LA</td>\n",
       "    </tr>\n",
       "    <tr>\n",
       "      <th>6</th>\n",
       "      <td>3</td>\n",
       "      <td>4.0</td>\n",
       "      <td>1620</td>\n",
       "      <td>847770</td>\n",
       "      <td>2011</td>\n",
       "      <td>10244.94</td>\n",
       "      <td>LA</td>\n",
       "    </tr>\n",
       "    <tr>\n",
       "      <th>7</th>\n",
       "      <td>3</td>\n",
       "      <td>2.0</td>\n",
       "      <td>2077</td>\n",
       "      <td>646760</td>\n",
       "      <td>1926</td>\n",
       "      <td>7924.68</td>\n",
       "      <td>LA</td>\n",
       "    </tr>\n",
       "  </tbody>\n",
       "</table>\n",
       "</div>"
      ],
      "text/plain": [
       "   bedrooms  bathrooms  area  property_value  yearbuilt  taxamount county\n",
       "4         4        2.0  3633          296425       2005    6941.39     LA\n",
       "6         3        4.0  1620          847770       2011   10244.94     LA\n",
       "7         3        2.0  2077          646760       1926    7924.68     LA"
      ]
     },
     "execution_count": 34,
     "metadata": {},
     "output_type": "execute_result"
    }
   ],
   "source": [
    "df=w.wrangle_zillow()\n",
    "df.head(3)"
   ]
  },
  {
   "cell_type": "markdown",
   "id": "a88582e8",
   "metadata": {},
   "source": [
    "> 3. Write a function to split your data into train,validate,and test.\n"
   ]
  },
  {
   "cell_type": "code",
   "execution_count": 35,
   "id": "24c5d276",
   "metadata": {},
   "outputs": [
    {
     "name": "stdout",
     "output_type": "stream",
     "text": [
      "\n",
      "    train -> (1284141, 7)\n",
      "    validate -> (428047, 7)\n",
      "    test -> (428047, 7)\n"
     ]
    }
   ],
   "source": [
    "train, validate, test = w.split_data(df)"
   ]
  },
  {
   "cell_type": "markdown",
   "id": "51a90cb7",
   "metadata": {},
   "source": [
    "### If I wanted to have my data split within my wrangle as well, we can use this function:"
   ]
  },
  {
   "cell_type": "code",
   "execution_count": 36,
   "id": "eb744341",
   "metadata": {},
   "outputs": [
    {
     "name": "stdout",
     "output_type": "stream",
     "text": [
      "\n",
      "    train -> (1284141, 7)\n",
      "    validate -> (428047, 7)\n",
      "    test -> (428047, 7)\n"
     ]
    }
   ],
   "source": [
    "train,validate,test = w.wrangle_zillow_split()"
   ]
  },
  {
   "cell_type": "code",
   "execution_count": null,
   "id": "418afa88",
   "metadata": {},
   "outputs": [],
   "source": []
  },
  {
   "cell_type": "code",
   "execution_count": null,
   "id": "145af702",
   "metadata": {},
   "outputs": [],
   "source": []
  },
  {
   "cell_type": "code",
   "execution_count": null,
   "id": "0fd85f34",
   "metadata": {},
   "outputs": [],
   "source": []
  },
  {
   "cell_type": "code",
   "execution_count": null,
   "id": "e3c50d50",
   "metadata": {},
   "outputs": [],
   "source": []
  },
  {
   "cell_type": "code",
   "execution_count": null,
   "id": "b5417b4c",
   "metadata": {},
   "outputs": [],
   "source": []
  },
  {
   "cell_type": "code",
   "execution_count": null,
   "id": "d410acc0",
   "metadata": {},
   "outputs": [],
   "source": []
  },
  {
   "cell_type": "code",
   "execution_count": null,
   "id": "24dd4180",
   "metadata": {},
   "outputs": [],
   "source": []
  },
  {
   "cell_type": "code",
   "execution_count": null,
   "id": "bd14a508",
   "metadata": {},
   "outputs": [],
   "source": []
  },
  {
   "cell_type": "code",
   "execution_count": null,
   "id": "2e0fceb9",
   "metadata": {},
   "outputs": [],
   "source": []
  },
  {
   "cell_type": "code",
   "execution_count": null,
   "id": "5ea027da",
   "metadata": {},
   "outputs": [],
   "source": []
  }
 ],
 "metadata": {
  "kernelspec": {
   "display_name": "Python 3 (ipykernel)",
   "language": "python",
   "name": "python3"
  },
  "language_info": {
   "codemirror_mode": {
    "name": "ipython",
    "version": 3
   },
   "file_extension": ".py",
   "mimetype": "text/x-python",
   "name": "python",
   "nbconvert_exporter": "python",
   "pygments_lexer": "ipython3",
   "version": "3.11.5"
  }
 },
 "nbformat": 4,
 "nbformat_minor": 5
}
